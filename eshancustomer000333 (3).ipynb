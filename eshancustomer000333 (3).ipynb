{
 "cells": [
  {
   "cell_type": "code",
   "execution_count": 1,
   "id": "99c5de39",
   "metadata": {
    "_cell_guid": "b1076dfc-b9ad-4769-8c92-a6c4dae69d19",
    "_uuid": "8f2839f25d086af736a60e9eeb907d3b93b6e0e5",
    "execution": {
     "iopub.execute_input": "2023-12-28T17:41:17.849545Z",
     "iopub.status.busy": "2023-12-28T17:41:17.848885Z",
     "iopub.status.idle": "2023-12-28T17:41:18.545126Z",
     "shell.execute_reply": "2023-12-28T17:41:18.544260Z"
    },
    "papermill": {
     "duration": 0.716003,
     "end_time": "2023-12-28T17:41:18.546920",
     "exception": false,
     "start_time": "2023-12-28T17:41:17.830917",
     "status": "completed"
    },
    "tags": []
   },
   "outputs": [
    {
     "name": "stdout",
     "output_type": "stream",
     "text": [
      "/kaggle/input/telco-customer-churn/WA_Fn-UseC_-Telco-Customer-Churn.csv\n"
     ]
    }
   ],
   "source": [
    "# This Python 3 environment comes with many helpful analytics libraries installed\n",
    "# It is defined by the kaggle/python Docker image: https://github.com/kaggle/docker-python\n",
    "# For example, here's several helpful packages to load\n",
    "\n",
    "import numpy as np # linear algebra\n",
    "import pandas as pd # data processing, CSV file I/O (e.g. pd.read_csv)\n",
    "\n",
    "# Input data files are available in the read-only \"../input/\" directory\n",
    "# For example, running this (by clicking run or pressing Shift+Enter) will list all files under the input directory\n",
    "\n",
    "import os\n",
    "for dirname, _, filenames in os.walk('/kaggle/input'):\n",
    "    for filename in filenames:\n",
    "        print(os.path.join(dirname, filename))\n",
    "\n",
    "# You can write up to 20GB to the current directory (/kaggle/working/) that gets preserved as output when you create a version using \"Save & Run All\" \n",
    "# You can also write temporary files to /kaggle/temp/, but they won't be saved outside of the current session"
   ]
  },
  {
   "cell_type": "markdown",
   "id": "d19075ea",
   "metadata": {
    "papermill": {
     "duration": 0.01639,
     "end_time": "2023-12-28T17:41:18.579870",
     "exception": false,
     "start_time": "2023-12-28T17:41:18.563480",
     "status": "completed"
    },
    "tags": []
   },
   "source": [
    "# INTRODUCTION"
   ]
  },
  {
   "cell_type": "markdown",
   "id": "6b5e4296",
   "metadata": {
    "papermill": {
     "duration": 0.015239,
     "end_time": "2023-12-28T17:41:18.610623",
     "exception": false,
     "start_time": "2023-12-28T17:41:18.595384",
     "status": "completed"
    },
    "tags": []
   },
   "source": [
    "The Telco customer churn data contains information about a fictional telco company that provided home phone and Internet services to 7043 customers in California in Q3. It indicates which customers have left, stayed, or signed up for their service. Multiple important demographics are included for each customer, as well as a Satisfaction Score, Churn Score, and Customer Lifetime Value (CLTV) index."
   ]
  },
  {
   "cell_type": "markdown",
   "id": "2f3b7628",
   "metadata": {
    "papermill": {
     "duration": 0.015467,
     "end_time": "2023-12-28T17:41:18.642117",
     "exception": false,
     "start_time": "2023-12-28T17:41:18.626650",
     "status": "completed"
    },
    "tags": []
   },
   "source": [
    "# Context"
   ]
  },
  {
   "cell_type": "markdown",
   "id": "a232d08f",
   "metadata": {
    "papermill": {
     "duration": 0.015429,
     "end_time": "2023-12-28T17:41:18.673214",
     "exception": false,
     "start_time": "2023-12-28T17:41:18.657785",
     "status": "completed"
    },
    "tags": []
   },
   "source": [
    "\"Predict behavior to retain customers. You can analyze all relevant customer data and develop focused customer retention programs.\""
   ]
  },
  {
   "cell_type": "markdown",
   "id": "536b6e17",
   "metadata": {
    "papermill": {
     "duration": 0.015745,
     "end_time": "2023-12-28T17:41:18.755204",
     "exception": false,
     "start_time": "2023-12-28T17:41:18.739459",
     "status": "completed"
    },
    "tags": []
   },
   "source": [
    "# Content"
   ]
  },
  {
   "cell_type": "markdown",
   "id": "fd50d538",
   "metadata": {
    "papermill": {
     "duration": 0.015599,
     "end_time": "2023-12-28T17:41:18.786710",
     "exception": false,
     "start_time": "2023-12-28T17:41:18.771111",
     "status": "completed"
    },
    "tags": []
   },
   "source": [
    "Each row represents a customer, each column contains customer’s attributes described on the column Metadata."
   ]
  },
  {
   "cell_type": "markdown",
   "id": "5b2fc14b",
   "metadata": {
    "papermill": {
     "duration": 0.015585,
     "end_time": "2023-12-28T17:41:18.818183",
     "exception": false,
     "start_time": "2023-12-28T17:41:18.802598",
     "status": "completed"
    },
    "tags": []
   },
   "source": [
    "The data set includes information about:\n",
    "\n",
    "Customers who left within the last month – the column is called Churn\n",
    "Services that each customer has signed up for – phone, multiple lines, internet, online security, online backup, device protection, tech support, and streaming TV and movies\n",
    "Customer account information – how long they’ve been a customer, contract, payment method, paperless billing, monthly charges, and total charges\n",
    "Demographic info about customers – gender, age range, and if they have partners and dependents\n",
    "Inspiration\n",
    "To explore this type of models and learn more about the subject."
   ]
  },
  {
   "cell_type": "markdown",
   "id": "68e3800f",
   "metadata": {
    "papermill": {
     "duration": 0.015717,
     "end_time": "2023-12-28T17:41:18.850180",
     "exception": false,
     "start_time": "2023-12-28T17:41:18.834463",
     "status": "completed"
    },
    "tags": []
   },
   "source": [
    "# DATA"
   ]
  },
  {
   "cell_type": "markdown",
   "id": "97381ecc",
   "metadata": {
    "papermill": {
     "duration": 0.0158,
     "end_time": "2023-12-28T17:41:18.881950",
     "exception": false,
     "start_time": "2023-12-28T17:41:18.866150",
     "status": "completed"
    },
    "tags": []
   },
   "source": [
    ", you will see a data module that is named Telco customer churn. It contains 5 tables:\n",
    "\n",
    "Demographics\n",
    "Location\n",
    "Population\n",
    "Services\n",
    "Status"
   ]
  },
  {
   "cell_type": "markdown",
   "id": "3ec3f60f",
   "metadata": {
    "papermill": {
     "duration": 0.015474,
     "end_time": "2023-12-28T17:41:18.913254",
     "exception": false,
     "start_time": "2023-12-28T17:41:18.897780",
     "status": "completed"
    },
    "tags": []
   },
   "source": [
    "# LOAD DATASET"
   ]
  },
  {
   "cell_type": "code",
   "execution_count": 2,
   "id": "18791213",
   "metadata": {
    "execution": {
     "iopub.execute_input": "2023-12-28T17:41:18.947355Z",
     "iopub.status.busy": "2023-12-28T17:41:18.946928Z",
     "iopub.status.idle": "2023-12-28T17:41:20.772669Z",
     "shell.execute_reply": "2023-12-28T17:41:20.772030Z"
    },
    "papermill": {
     "duration": 1.84541,
     "end_time": "2023-12-28T17:41:20.774758",
     "exception": false,
     "start_time": "2023-12-28T17:41:18.929348",
     "status": "completed"
    },
    "tags": []
   },
   "outputs": [],
   "source": [
    "import numpy as np\n",
    "import pandas as pd \n",
    "import matplotlib\n",
    "import matplotlib.pyplot as plt \n",
    "import seaborn as sns \n",
    "import plotly # used for the plotting\n",
    "import plotly.express as px\n",
    "import plotly.graph_objs as go\n",
    "import plotly.offline as po\n",
    "from sklearn import metrics\n",
    "%matplotlib inline \n"
   ]
  },
  {
   "cell_type": "code",
   "execution_count": 3,
   "id": "18ec1059",
   "metadata": {
    "execution": {
     "iopub.execute_input": "2023-12-28T17:41:20.808973Z",
     "iopub.status.busy": "2023-12-28T17:41:20.808366Z",
     "iopub.status.idle": "2023-12-28T17:41:20.894701Z",
     "shell.execute_reply": "2023-12-28T17:41:20.893838Z"
    },
    "papermill": {
     "duration": 0.105407,
     "end_time": "2023-12-28T17:41:20.896412",
     "exception": false,
     "start_time": "2023-12-28T17:41:20.791005",
     "status": "completed"
    },
    "tags": []
   },
   "outputs": [
    {
     "data": {
      "text/html": [
       "<div>\n",
       "<style scoped>\n",
       "    .dataframe tbody tr th:only-of-type {\n",
       "        vertical-align: middle;\n",
       "    }\n",
       "\n",
       "    .dataframe tbody tr th {\n",
       "        vertical-align: top;\n",
       "    }\n",
       "\n",
       "    .dataframe thead th {\n",
       "        text-align: right;\n",
       "    }\n",
       "</style>\n",
       "<table border=\"1\" class=\"dataframe\">\n",
       "  <thead>\n",
       "    <tr style=\"text-align: right;\">\n",
       "      <th></th>\n",
       "      <th>customerID</th>\n",
       "      <th>gender</th>\n",
       "      <th>SeniorCitizen</th>\n",
       "      <th>Partner</th>\n",
       "      <th>Dependents</th>\n",
       "      <th>tenure</th>\n",
       "      <th>PhoneService</th>\n",
       "      <th>MultipleLines</th>\n",
       "      <th>InternetService</th>\n",
       "      <th>OnlineSecurity</th>\n",
       "      <th>...</th>\n",
       "      <th>DeviceProtection</th>\n",
       "      <th>TechSupport</th>\n",
       "      <th>StreamingTV</th>\n",
       "      <th>StreamingMovies</th>\n",
       "      <th>Contract</th>\n",
       "      <th>PaperlessBilling</th>\n",
       "      <th>PaymentMethod</th>\n",
       "      <th>MonthlyCharges</th>\n",
       "      <th>TotalCharges</th>\n",
       "      <th>Churn</th>\n",
       "    </tr>\n",
       "  </thead>\n",
       "  <tbody>\n",
       "    <tr>\n",
       "      <th>0</th>\n",
       "      <td>7590-VHVEG</td>\n",
       "      <td>Female</td>\n",
       "      <td>0</td>\n",
       "      <td>Yes</td>\n",
       "      <td>No</td>\n",
       "      <td>1</td>\n",
       "      <td>No</td>\n",
       "      <td>No phone service</td>\n",
       "      <td>DSL</td>\n",
       "      <td>No</td>\n",
       "      <td>...</td>\n",
       "      <td>No</td>\n",
       "      <td>No</td>\n",
       "      <td>No</td>\n",
       "      <td>No</td>\n",
       "      <td>Month-to-month</td>\n",
       "      <td>Yes</td>\n",
       "      <td>Electronic check</td>\n",
       "      <td>29.85</td>\n",
       "      <td>29.85</td>\n",
       "      <td>No</td>\n",
       "    </tr>\n",
       "    <tr>\n",
       "      <th>1</th>\n",
       "      <td>5575-GNVDE</td>\n",
       "      <td>Male</td>\n",
       "      <td>0</td>\n",
       "      <td>No</td>\n",
       "      <td>No</td>\n",
       "      <td>34</td>\n",
       "      <td>Yes</td>\n",
       "      <td>No</td>\n",
       "      <td>DSL</td>\n",
       "      <td>Yes</td>\n",
       "      <td>...</td>\n",
       "      <td>Yes</td>\n",
       "      <td>No</td>\n",
       "      <td>No</td>\n",
       "      <td>No</td>\n",
       "      <td>One year</td>\n",
       "      <td>No</td>\n",
       "      <td>Mailed check</td>\n",
       "      <td>56.95</td>\n",
       "      <td>1889.5</td>\n",
       "      <td>No</td>\n",
       "    </tr>\n",
       "    <tr>\n",
       "      <th>2</th>\n",
       "      <td>3668-QPYBK</td>\n",
       "      <td>Male</td>\n",
       "      <td>0</td>\n",
       "      <td>No</td>\n",
       "      <td>No</td>\n",
       "      <td>2</td>\n",
       "      <td>Yes</td>\n",
       "      <td>No</td>\n",
       "      <td>DSL</td>\n",
       "      <td>Yes</td>\n",
       "      <td>...</td>\n",
       "      <td>No</td>\n",
       "      <td>No</td>\n",
       "      <td>No</td>\n",
       "      <td>No</td>\n",
       "      <td>Month-to-month</td>\n",
       "      <td>Yes</td>\n",
       "      <td>Mailed check</td>\n",
       "      <td>53.85</td>\n",
       "      <td>108.15</td>\n",
       "      <td>Yes</td>\n",
       "    </tr>\n",
       "    <tr>\n",
       "      <th>3</th>\n",
       "      <td>7795-CFOCW</td>\n",
       "      <td>Male</td>\n",
       "      <td>0</td>\n",
       "      <td>No</td>\n",
       "      <td>No</td>\n",
       "      <td>45</td>\n",
       "      <td>No</td>\n",
       "      <td>No phone service</td>\n",
       "      <td>DSL</td>\n",
       "      <td>Yes</td>\n",
       "      <td>...</td>\n",
       "      <td>Yes</td>\n",
       "      <td>Yes</td>\n",
       "      <td>No</td>\n",
       "      <td>No</td>\n",
       "      <td>One year</td>\n",
       "      <td>No</td>\n",
       "      <td>Bank transfer (automatic)</td>\n",
       "      <td>42.30</td>\n",
       "      <td>1840.75</td>\n",
       "      <td>No</td>\n",
       "    </tr>\n",
       "    <tr>\n",
       "      <th>4</th>\n",
       "      <td>9237-HQITU</td>\n",
       "      <td>Female</td>\n",
       "      <td>0</td>\n",
       "      <td>No</td>\n",
       "      <td>No</td>\n",
       "      <td>2</td>\n",
       "      <td>Yes</td>\n",
       "      <td>No</td>\n",
       "      <td>Fiber optic</td>\n",
       "      <td>No</td>\n",
       "      <td>...</td>\n",
       "      <td>No</td>\n",
       "      <td>No</td>\n",
       "      <td>No</td>\n",
       "      <td>No</td>\n",
       "      <td>Month-to-month</td>\n",
       "      <td>Yes</td>\n",
       "      <td>Electronic check</td>\n",
       "      <td>70.70</td>\n",
       "      <td>151.65</td>\n",
       "      <td>Yes</td>\n",
       "    </tr>\n",
       "    <tr>\n",
       "      <th>5</th>\n",
       "      <td>9305-CDSKC</td>\n",
       "      <td>Female</td>\n",
       "      <td>0</td>\n",
       "      <td>No</td>\n",
       "      <td>No</td>\n",
       "      <td>8</td>\n",
       "      <td>Yes</td>\n",
       "      <td>Yes</td>\n",
       "      <td>Fiber optic</td>\n",
       "      <td>No</td>\n",
       "      <td>...</td>\n",
       "      <td>Yes</td>\n",
       "      <td>No</td>\n",
       "      <td>Yes</td>\n",
       "      <td>Yes</td>\n",
       "      <td>Month-to-month</td>\n",
       "      <td>Yes</td>\n",
       "      <td>Electronic check</td>\n",
       "      <td>99.65</td>\n",
       "      <td>820.5</td>\n",
       "      <td>Yes</td>\n",
       "    </tr>\n",
       "    <tr>\n",
       "      <th>6</th>\n",
       "      <td>1452-KIOVK</td>\n",
       "      <td>Male</td>\n",
       "      <td>0</td>\n",
       "      <td>No</td>\n",
       "      <td>Yes</td>\n",
       "      <td>22</td>\n",
       "      <td>Yes</td>\n",
       "      <td>Yes</td>\n",
       "      <td>Fiber optic</td>\n",
       "      <td>No</td>\n",
       "      <td>...</td>\n",
       "      <td>No</td>\n",
       "      <td>No</td>\n",
       "      <td>Yes</td>\n",
       "      <td>No</td>\n",
       "      <td>Month-to-month</td>\n",
       "      <td>Yes</td>\n",
       "      <td>Credit card (automatic)</td>\n",
       "      <td>89.10</td>\n",
       "      <td>1949.4</td>\n",
       "      <td>No</td>\n",
       "    </tr>\n",
       "    <tr>\n",
       "      <th>7</th>\n",
       "      <td>6713-OKOMC</td>\n",
       "      <td>Female</td>\n",
       "      <td>0</td>\n",
       "      <td>No</td>\n",
       "      <td>No</td>\n",
       "      <td>10</td>\n",
       "      <td>No</td>\n",
       "      <td>No phone service</td>\n",
       "      <td>DSL</td>\n",
       "      <td>Yes</td>\n",
       "      <td>...</td>\n",
       "      <td>No</td>\n",
       "      <td>No</td>\n",
       "      <td>No</td>\n",
       "      <td>No</td>\n",
       "      <td>Month-to-month</td>\n",
       "      <td>No</td>\n",
       "      <td>Mailed check</td>\n",
       "      <td>29.75</td>\n",
       "      <td>301.9</td>\n",
       "      <td>No</td>\n",
       "    </tr>\n",
       "    <tr>\n",
       "      <th>8</th>\n",
       "      <td>7892-POOKP</td>\n",
       "      <td>Female</td>\n",
       "      <td>0</td>\n",
       "      <td>Yes</td>\n",
       "      <td>No</td>\n",
       "      <td>28</td>\n",
       "      <td>Yes</td>\n",
       "      <td>Yes</td>\n",
       "      <td>Fiber optic</td>\n",
       "      <td>No</td>\n",
       "      <td>...</td>\n",
       "      <td>Yes</td>\n",
       "      <td>Yes</td>\n",
       "      <td>Yes</td>\n",
       "      <td>Yes</td>\n",
       "      <td>Month-to-month</td>\n",
       "      <td>Yes</td>\n",
       "      <td>Electronic check</td>\n",
       "      <td>104.80</td>\n",
       "      <td>3046.05</td>\n",
       "      <td>Yes</td>\n",
       "    </tr>\n",
       "    <tr>\n",
       "      <th>9</th>\n",
       "      <td>6388-TABGU</td>\n",
       "      <td>Male</td>\n",
       "      <td>0</td>\n",
       "      <td>No</td>\n",
       "      <td>Yes</td>\n",
       "      <td>62</td>\n",
       "      <td>Yes</td>\n",
       "      <td>No</td>\n",
       "      <td>DSL</td>\n",
       "      <td>Yes</td>\n",
       "      <td>...</td>\n",
       "      <td>No</td>\n",
       "      <td>No</td>\n",
       "      <td>No</td>\n",
       "      <td>No</td>\n",
       "      <td>One year</td>\n",
       "      <td>No</td>\n",
       "      <td>Bank transfer (automatic)</td>\n",
       "      <td>56.15</td>\n",
       "      <td>3487.95</td>\n",
       "      <td>No</td>\n",
       "    </tr>\n",
       "    <tr>\n",
       "      <th>10</th>\n",
       "      <td>9763-GRSKD</td>\n",
       "      <td>Male</td>\n",
       "      <td>0</td>\n",
       "      <td>Yes</td>\n",
       "      <td>Yes</td>\n",
       "      <td>13</td>\n",
       "      <td>Yes</td>\n",
       "      <td>No</td>\n",
       "      <td>DSL</td>\n",
       "      <td>Yes</td>\n",
       "      <td>...</td>\n",
       "      <td>No</td>\n",
       "      <td>No</td>\n",
       "      <td>No</td>\n",
       "      <td>No</td>\n",
       "      <td>Month-to-month</td>\n",
       "      <td>Yes</td>\n",
       "      <td>Mailed check</td>\n",
       "      <td>49.95</td>\n",
       "      <td>587.45</td>\n",
       "      <td>No</td>\n",
       "    </tr>\n",
       "    <tr>\n",
       "      <th>11</th>\n",
       "      <td>7469-LKBCI</td>\n",
       "      <td>Male</td>\n",
       "      <td>0</td>\n",
       "      <td>No</td>\n",
       "      <td>No</td>\n",
       "      <td>16</td>\n",
       "      <td>Yes</td>\n",
       "      <td>No</td>\n",
       "      <td>No</td>\n",
       "      <td>No internet service</td>\n",
       "      <td>...</td>\n",
       "      <td>No internet service</td>\n",
       "      <td>No internet service</td>\n",
       "      <td>No internet service</td>\n",
       "      <td>No internet service</td>\n",
       "      <td>Two year</td>\n",
       "      <td>No</td>\n",
       "      <td>Credit card (automatic)</td>\n",
       "      <td>18.95</td>\n",
       "      <td>326.8</td>\n",
       "      <td>No</td>\n",
       "    </tr>\n",
       "    <tr>\n",
       "      <th>12</th>\n",
       "      <td>8091-TTVAX</td>\n",
       "      <td>Male</td>\n",
       "      <td>0</td>\n",
       "      <td>Yes</td>\n",
       "      <td>No</td>\n",
       "      <td>58</td>\n",
       "      <td>Yes</td>\n",
       "      <td>Yes</td>\n",
       "      <td>Fiber optic</td>\n",
       "      <td>No</td>\n",
       "      <td>...</td>\n",
       "      <td>Yes</td>\n",
       "      <td>No</td>\n",
       "      <td>Yes</td>\n",
       "      <td>Yes</td>\n",
       "      <td>One year</td>\n",
       "      <td>No</td>\n",
       "      <td>Credit card (automatic)</td>\n",
       "      <td>100.35</td>\n",
       "      <td>5681.1</td>\n",
       "      <td>No</td>\n",
       "    </tr>\n",
       "    <tr>\n",
       "      <th>13</th>\n",
       "      <td>0280-XJGEX</td>\n",
       "      <td>Male</td>\n",
       "      <td>0</td>\n",
       "      <td>No</td>\n",
       "      <td>No</td>\n",
       "      <td>49</td>\n",
       "      <td>Yes</td>\n",
       "      <td>Yes</td>\n",
       "      <td>Fiber optic</td>\n",
       "      <td>No</td>\n",
       "      <td>...</td>\n",
       "      <td>Yes</td>\n",
       "      <td>No</td>\n",
       "      <td>Yes</td>\n",
       "      <td>Yes</td>\n",
       "      <td>Month-to-month</td>\n",
       "      <td>Yes</td>\n",
       "      <td>Bank transfer (automatic)</td>\n",
       "      <td>103.70</td>\n",
       "      <td>5036.3</td>\n",
       "      <td>Yes</td>\n",
       "    </tr>\n",
       "    <tr>\n",
       "      <th>14</th>\n",
       "      <td>5129-JLPIS</td>\n",
       "      <td>Male</td>\n",
       "      <td>0</td>\n",
       "      <td>No</td>\n",
       "      <td>No</td>\n",
       "      <td>25</td>\n",
       "      <td>Yes</td>\n",
       "      <td>No</td>\n",
       "      <td>Fiber optic</td>\n",
       "      <td>Yes</td>\n",
       "      <td>...</td>\n",
       "      <td>Yes</td>\n",
       "      <td>Yes</td>\n",
       "      <td>Yes</td>\n",
       "      <td>Yes</td>\n",
       "      <td>Month-to-month</td>\n",
       "      <td>Yes</td>\n",
       "      <td>Electronic check</td>\n",
       "      <td>105.50</td>\n",
       "      <td>2686.05</td>\n",
       "      <td>No</td>\n",
       "    </tr>\n",
       "    <tr>\n",
       "      <th>15</th>\n",
       "      <td>3655-SNQYZ</td>\n",
       "      <td>Female</td>\n",
       "      <td>0</td>\n",
       "      <td>Yes</td>\n",
       "      <td>Yes</td>\n",
       "      <td>69</td>\n",
       "      <td>Yes</td>\n",
       "      <td>Yes</td>\n",
       "      <td>Fiber optic</td>\n",
       "      <td>Yes</td>\n",
       "      <td>...</td>\n",
       "      <td>Yes</td>\n",
       "      <td>Yes</td>\n",
       "      <td>Yes</td>\n",
       "      <td>Yes</td>\n",
       "      <td>Two year</td>\n",
       "      <td>No</td>\n",
       "      <td>Credit card (automatic)</td>\n",
       "      <td>113.25</td>\n",
       "      <td>7895.15</td>\n",
       "      <td>No</td>\n",
       "    </tr>\n",
       "    <tr>\n",
       "      <th>16</th>\n",
       "      <td>8191-XWSZG</td>\n",
       "      <td>Female</td>\n",
       "      <td>0</td>\n",
       "      <td>No</td>\n",
       "      <td>No</td>\n",
       "      <td>52</td>\n",
       "      <td>Yes</td>\n",
       "      <td>No</td>\n",
       "      <td>No</td>\n",
       "      <td>No internet service</td>\n",
       "      <td>...</td>\n",
       "      <td>No internet service</td>\n",
       "      <td>No internet service</td>\n",
       "      <td>No internet service</td>\n",
       "      <td>No internet service</td>\n",
       "      <td>One year</td>\n",
       "      <td>No</td>\n",
       "      <td>Mailed check</td>\n",
       "      <td>20.65</td>\n",
       "      <td>1022.95</td>\n",
       "      <td>No</td>\n",
       "    </tr>\n",
       "    <tr>\n",
       "      <th>17</th>\n",
       "      <td>9959-WOFKT</td>\n",
       "      <td>Male</td>\n",
       "      <td>0</td>\n",
       "      <td>No</td>\n",
       "      <td>Yes</td>\n",
       "      <td>71</td>\n",
       "      <td>Yes</td>\n",
       "      <td>Yes</td>\n",
       "      <td>Fiber optic</td>\n",
       "      <td>Yes</td>\n",
       "      <td>...</td>\n",
       "      <td>Yes</td>\n",
       "      <td>No</td>\n",
       "      <td>Yes</td>\n",
       "      <td>Yes</td>\n",
       "      <td>Two year</td>\n",
       "      <td>No</td>\n",
       "      <td>Bank transfer (automatic)</td>\n",
       "      <td>106.70</td>\n",
       "      <td>7382.25</td>\n",
       "      <td>No</td>\n",
       "    </tr>\n",
       "    <tr>\n",
       "      <th>18</th>\n",
       "      <td>4190-MFLUW</td>\n",
       "      <td>Female</td>\n",
       "      <td>0</td>\n",
       "      <td>Yes</td>\n",
       "      <td>Yes</td>\n",
       "      <td>10</td>\n",
       "      <td>Yes</td>\n",
       "      <td>No</td>\n",
       "      <td>DSL</td>\n",
       "      <td>No</td>\n",
       "      <td>...</td>\n",
       "      <td>Yes</td>\n",
       "      <td>Yes</td>\n",
       "      <td>No</td>\n",
       "      <td>No</td>\n",
       "      <td>Month-to-month</td>\n",
       "      <td>No</td>\n",
       "      <td>Credit card (automatic)</td>\n",
       "      <td>55.20</td>\n",
       "      <td>528.35</td>\n",
       "      <td>Yes</td>\n",
       "    </tr>\n",
       "    <tr>\n",
       "      <th>19</th>\n",
       "      <td>4183-MYFRB</td>\n",
       "      <td>Female</td>\n",
       "      <td>0</td>\n",
       "      <td>No</td>\n",
       "      <td>No</td>\n",
       "      <td>21</td>\n",
       "      <td>Yes</td>\n",
       "      <td>No</td>\n",
       "      <td>Fiber optic</td>\n",
       "      <td>No</td>\n",
       "      <td>...</td>\n",
       "      <td>Yes</td>\n",
       "      <td>No</td>\n",
       "      <td>No</td>\n",
       "      <td>Yes</td>\n",
       "      <td>Month-to-month</td>\n",
       "      <td>Yes</td>\n",
       "      <td>Electronic check</td>\n",
       "      <td>90.05</td>\n",
       "      <td>1862.9</td>\n",
       "      <td>No</td>\n",
       "    </tr>\n",
       "  </tbody>\n",
       "</table>\n",
       "<p>20 rows × 21 columns</p>\n",
       "</div>"
      ],
      "text/plain": [
       "    customerID  gender  SeniorCitizen Partner Dependents  tenure PhoneService  \\\n",
       "0   7590-VHVEG  Female              0     Yes         No       1           No   \n",
       "1   5575-GNVDE    Male              0      No         No      34          Yes   \n",
       "2   3668-QPYBK    Male              0      No         No       2          Yes   \n",
       "3   7795-CFOCW    Male              0      No         No      45           No   \n",
       "4   9237-HQITU  Female              0      No         No       2          Yes   \n",
       "5   9305-CDSKC  Female              0      No         No       8          Yes   \n",
       "6   1452-KIOVK    Male              0      No        Yes      22          Yes   \n",
       "7   6713-OKOMC  Female              0      No         No      10           No   \n",
       "8   7892-POOKP  Female              0     Yes         No      28          Yes   \n",
       "9   6388-TABGU    Male              0      No        Yes      62          Yes   \n",
       "10  9763-GRSKD    Male              0     Yes        Yes      13          Yes   \n",
       "11  7469-LKBCI    Male              0      No         No      16          Yes   \n",
       "12  8091-TTVAX    Male              0     Yes         No      58          Yes   \n",
       "13  0280-XJGEX    Male              0      No         No      49          Yes   \n",
       "14  5129-JLPIS    Male              0      No         No      25          Yes   \n",
       "15  3655-SNQYZ  Female              0     Yes        Yes      69          Yes   \n",
       "16  8191-XWSZG  Female              0      No         No      52          Yes   \n",
       "17  9959-WOFKT    Male              0      No        Yes      71          Yes   \n",
       "18  4190-MFLUW  Female              0     Yes        Yes      10          Yes   \n",
       "19  4183-MYFRB  Female              0      No         No      21          Yes   \n",
       "\n",
       "       MultipleLines InternetService       OnlineSecurity  ...  \\\n",
       "0   No phone service             DSL                   No  ...   \n",
       "1                 No             DSL                  Yes  ...   \n",
       "2                 No             DSL                  Yes  ...   \n",
       "3   No phone service             DSL                  Yes  ...   \n",
       "4                 No     Fiber optic                   No  ...   \n",
       "5                Yes     Fiber optic                   No  ...   \n",
       "6                Yes     Fiber optic                   No  ...   \n",
       "7   No phone service             DSL                  Yes  ...   \n",
       "8                Yes     Fiber optic                   No  ...   \n",
       "9                 No             DSL                  Yes  ...   \n",
       "10                No             DSL                  Yes  ...   \n",
       "11                No              No  No internet service  ...   \n",
       "12               Yes     Fiber optic                   No  ...   \n",
       "13               Yes     Fiber optic                   No  ...   \n",
       "14                No     Fiber optic                  Yes  ...   \n",
       "15               Yes     Fiber optic                  Yes  ...   \n",
       "16                No              No  No internet service  ...   \n",
       "17               Yes     Fiber optic                  Yes  ...   \n",
       "18                No             DSL                   No  ...   \n",
       "19                No     Fiber optic                   No  ...   \n",
       "\n",
       "       DeviceProtection          TechSupport          StreamingTV  \\\n",
       "0                    No                   No                   No   \n",
       "1                   Yes                   No                   No   \n",
       "2                    No                   No                   No   \n",
       "3                   Yes                  Yes                   No   \n",
       "4                    No                   No                   No   \n",
       "5                   Yes                   No                  Yes   \n",
       "6                    No                   No                  Yes   \n",
       "7                    No                   No                   No   \n",
       "8                   Yes                  Yes                  Yes   \n",
       "9                    No                   No                   No   \n",
       "10                   No                   No                   No   \n",
       "11  No internet service  No internet service  No internet service   \n",
       "12                  Yes                   No                  Yes   \n",
       "13                  Yes                   No                  Yes   \n",
       "14                  Yes                  Yes                  Yes   \n",
       "15                  Yes                  Yes                  Yes   \n",
       "16  No internet service  No internet service  No internet service   \n",
       "17                  Yes                   No                  Yes   \n",
       "18                  Yes                  Yes                   No   \n",
       "19                  Yes                   No                   No   \n",
       "\n",
       "        StreamingMovies        Contract PaperlessBilling  \\\n",
       "0                    No  Month-to-month              Yes   \n",
       "1                    No        One year               No   \n",
       "2                    No  Month-to-month              Yes   \n",
       "3                    No        One year               No   \n",
       "4                    No  Month-to-month              Yes   \n",
       "5                   Yes  Month-to-month              Yes   \n",
       "6                    No  Month-to-month              Yes   \n",
       "7                    No  Month-to-month               No   \n",
       "8                   Yes  Month-to-month              Yes   \n",
       "9                    No        One year               No   \n",
       "10                   No  Month-to-month              Yes   \n",
       "11  No internet service        Two year               No   \n",
       "12                  Yes        One year               No   \n",
       "13                  Yes  Month-to-month              Yes   \n",
       "14                  Yes  Month-to-month              Yes   \n",
       "15                  Yes        Two year               No   \n",
       "16  No internet service        One year               No   \n",
       "17                  Yes        Two year               No   \n",
       "18                   No  Month-to-month               No   \n",
       "19                  Yes  Month-to-month              Yes   \n",
       "\n",
       "                PaymentMethod MonthlyCharges  TotalCharges Churn  \n",
       "0            Electronic check          29.85         29.85    No  \n",
       "1                Mailed check          56.95        1889.5    No  \n",
       "2                Mailed check          53.85        108.15   Yes  \n",
       "3   Bank transfer (automatic)          42.30       1840.75    No  \n",
       "4            Electronic check          70.70        151.65   Yes  \n",
       "5            Electronic check          99.65         820.5   Yes  \n",
       "6     Credit card (automatic)          89.10        1949.4    No  \n",
       "7                Mailed check          29.75         301.9    No  \n",
       "8            Electronic check         104.80       3046.05   Yes  \n",
       "9   Bank transfer (automatic)          56.15       3487.95    No  \n",
       "10               Mailed check          49.95        587.45    No  \n",
       "11    Credit card (automatic)          18.95         326.8    No  \n",
       "12    Credit card (automatic)         100.35        5681.1    No  \n",
       "13  Bank transfer (automatic)         103.70        5036.3   Yes  \n",
       "14           Electronic check         105.50       2686.05    No  \n",
       "15    Credit card (automatic)         113.25       7895.15    No  \n",
       "16               Mailed check          20.65       1022.95    No  \n",
       "17  Bank transfer (automatic)         106.70       7382.25    No  \n",
       "18    Credit card (automatic)          55.20        528.35   Yes  \n",
       "19           Electronic check          90.05        1862.9    No  \n",
       "\n",
       "[20 rows x 21 columns]"
      ]
     },
     "execution_count": 3,
     "metadata": {},
     "output_type": "execute_result"
    }
   ],
   "source": [
    "#data original\n",
    "df= pd.read_csv('/kaggle/input/telco-customer-churn/WA_Fn-UseC_-Telco-Customer-Churn.csv')\n",
    "df.head(20)"
   ]
  },
  {
   "cell_type": "code",
   "execution_count": 4,
   "id": "836b47e8",
   "metadata": {
    "execution": {
     "iopub.execute_input": "2023-12-28T17:41:20.931162Z",
     "iopub.status.busy": "2023-12-28T17:41:20.930858Z",
     "iopub.status.idle": "2023-12-28T17:41:20.936616Z",
     "shell.execute_reply": "2023-12-28T17:41:20.935789Z"
    },
    "papermill": {
     "duration": 0.025266,
     "end_time": "2023-12-28T17:41:20.938408",
     "exception": false,
     "start_time": "2023-12-28T17:41:20.913142",
     "status": "completed"
    },
    "tags": []
   },
   "outputs": [
    {
     "data": {
      "text/plain": [
       "Index(['customerID', 'gender', 'SeniorCitizen', 'Partner', 'Dependents',\n",
       "       'tenure', 'PhoneService', 'MultipleLines', 'InternetService',\n",
       "       'OnlineSecurity', 'OnlineBackup', 'DeviceProtection', 'TechSupport',\n",
       "       'StreamingTV', 'StreamingMovies', 'Contract', 'PaperlessBilling',\n",
       "       'PaymentMethod', 'MonthlyCharges', 'TotalCharges', 'Churn'],\n",
       "      dtype='object')"
      ]
     },
     "execution_count": 4,
     "metadata": {},
     "output_type": "execute_result"
    }
   ],
   "source": [
    "df.columns"
   ]
  },
  {
   "cell_type": "code",
   "execution_count": 5,
   "id": "1d062f5d",
   "metadata": {
    "execution": {
     "iopub.execute_input": "2023-12-28T17:41:20.974101Z",
     "iopub.status.busy": "2023-12-28T17:41:20.973375Z",
     "iopub.status.idle": "2023-12-28T17:41:20.989473Z",
     "shell.execute_reply": "2023-12-28T17:41:20.988460Z"
    },
    "papermill": {
     "duration": 0.035994,
     "end_time": "2023-12-28T17:41:20.991283",
     "exception": false,
     "start_time": "2023-12-28T17:41:20.955289",
     "status": "completed"
    },
    "tags": []
   },
   "outputs": [
    {
     "data": {
      "text/html": [
       "<div>\n",
       "<style scoped>\n",
       "    .dataframe tbody tr th:only-of-type {\n",
       "        vertical-align: middle;\n",
       "    }\n",
       "\n",
       "    .dataframe tbody tr th {\n",
       "        vertical-align: top;\n",
       "    }\n",
       "\n",
       "    .dataframe thead th {\n",
       "        text-align: right;\n",
       "    }\n",
       "</style>\n",
       "<table border=\"1\" class=\"dataframe\">\n",
       "  <thead>\n",
       "    <tr style=\"text-align: right;\">\n",
       "      <th></th>\n",
       "      <th>SeniorCitizen</th>\n",
       "      <th>tenure</th>\n",
       "      <th>MonthlyCharges</th>\n",
       "    </tr>\n",
       "  </thead>\n",
       "  <tbody>\n",
       "    <tr>\n",
       "      <th>count</th>\n",
       "      <td>7043.000000</td>\n",
       "      <td>7043.000000</td>\n",
       "      <td>7043.000000</td>\n",
       "    </tr>\n",
       "    <tr>\n",
       "      <th>mean</th>\n",
       "      <td>0.162147</td>\n",
       "      <td>32.371149</td>\n",
       "      <td>64.761692</td>\n",
       "    </tr>\n",
       "    <tr>\n",
       "      <th>std</th>\n",
       "      <td>0.368612</td>\n",
       "      <td>24.559481</td>\n",
       "      <td>30.090047</td>\n",
       "    </tr>\n",
       "    <tr>\n",
       "      <th>min</th>\n",
       "      <td>0.000000</td>\n",
       "      <td>0.000000</td>\n",
       "      <td>18.250000</td>\n",
       "    </tr>\n",
       "    <tr>\n",
       "      <th>25%</th>\n",
       "      <td>0.000000</td>\n",
       "      <td>9.000000</td>\n",
       "      <td>35.500000</td>\n",
       "    </tr>\n",
       "    <tr>\n",
       "      <th>50%</th>\n",
       "      <td>0.000000</td>\n",
       "      <td>29.000000</td>\n",
       "      <td>70.350000</td>\n",
       "    </tr>\n",
       "    <tr>\n",
       "      <th>75%</th>\n",
       "      <td>0.000000</td>\n",
       "      <td>55.000000</td>\n",
       "      <td>89.850000</td>\n",
       "    </tr>\n",
       "    <tr>\n",
       "      <th>max</th>\n",
       "      <td>1.000000</td>\n",
       "      <td>72.000000</td>\n",
       "      <td>118.750000</td>\n",
       "    </tr>\n",
       "  </tbody>\n",
       "</table>\n",
       "</div>"
      ],
      "text/plain": [
       "       SeniorCitizen       tenure  MonthlyCharges\n",
       "count    7043.000000  7043.000000     7043.000000\n",
       "mean        0.162147    32.371149       64.761692\n",
       "std         0.368612    24.559481       30.090047\n",
       "min         0.000000     0.000000       18.250000\n",
       "25%         0.000000     9.000000       35.500000\n",
       "50%         0.000000    29.000000       70.350000\n",
       "75%         0.000000    55.000000       89.850000\n",
       "max         1.000000    72.000000      118.750000"
      ]
     },
     "execution_count": 5,
     "metadata": {},
     "output_type": "execute_result"
    }
   ],
   "source": [
    "df.describe()"
   ]
  },
  {
   "cell_type": "code",
   "execution_count": 6,
   "id": "f026ef2a",
   "metadata": {
    "execution": {
     "iopub.execute_input": "2023-12-28T17:41:21.027437Z",
     "iopub.status.busy": "2023-12-28T17:41:21.027085Z",
     "iopub.status.idle": "2023-12-28T17:41:21.036611Z",
     "shell.execute_reply": "2023-12-28T17:41:21.035638Z"
    },
    "papermill": {
     "duration": 0.029809,
     "end_time": "2023-12-28T17:41:21.038282",
     "exception": false,
     "start_time": "2023-12-28T17:41:21.008473",
     "status": "completed"
    },
    "tags": []
   },
   "outputs": [
    {
     "data": {
      "text/plain": [
       "dtype('float64')"
      ]
     },
     "execution_count": 6,
     "metadata": {},
     "output_type": "execute_result"
    }
   ],
   "source": [
    "# Here in this dataset TotalCharges is given as Object but we have convert it into float\n",
    "df['TotalCharges'] = pd.to_numeric(df['TotalCharges'], errors='coerce').astype('float64')\n",
    "df['TotalCharges'].dtype\n",
    "# Here we successesfully convert datatpe of TotalCharges into float value ."
   ]
  },
  {
   "cell_type": "code",
   "execution_count": 7,
   "id": "d3b68200",
   "metadata": {
    "execution": {
     "iopub.execute_input": "2023-12-28T17:41:21.074613Z",
     "iopub.status.busy": "2023-12-28T17:41:21.073624Z",
     "iopub.status.idle": "2023-12-28T17:41:21.085994Z",
     "shell.execute_reply": "2023-12-28T17:41:21.085178Z"
    },
    "papermill": {
     "duration": 0.032151,
     "end_time": "2023-12-28T17:41:21.087688",
     "exception": false,
     "start_time": "2023-12-28T17:41:21.055537",
     "status": "completed"
    },
    "tags": []
   },
   "outputs": [
    {
     "data": {
      "text/plain": [
       "dtype('O')"
      ]
     },
     "execution_count": 7,
     "metadata": {},
     "output_type": "execute_result"
    }
   ],
   "source": [
    "df['SeniorCitizen'] = pd.to_numeric(df['SeniorCitizen'], errors='coerce').astype('object')\n",
    "df['SeniorCitizen'].dtypes"
   ]
  },
  {
   "cell_type": "code",
   "execution_count": 8,
   "id": "53435814",
   "metadata": {
    "execution": {
     "iopub.execute_input": "2023-12-28T17:41:21.123992Z",
     "iopub.status.busy": "2023-12-28T17:41:21.123677Z",
     "iopub.status.idle": "2023-12-28T17:41:21.129308Z",
     "shell.execute_reply": "2023-12-28T17:41:21.128553Z"
    },
    "papermill": {
     "duration": 0.025929,
     "end_time": "2023-12-28T17:41:21.131102",
     "exception": false,
     "start_time": "2023-12-28T17:41:21.105173",
     "status": "completed"
    },
    "tags": []
   },
   "outputs": [],
   "source": [
    "# Replace target variable in YES and No.\n",
    "df['Churn'].replace({'Yes':'1','No':'0'},inplace=True)"
   ]
  },
  {
   "cell_type": "code",
   "execution_count": 9,
   "id": "007dca78",
   "metadata": {
    "execution": {
     "iopub.execute_input": "2023-12-28T17:41:21.168660Z",
     "iopub.status.busy": "2023-12-28T17:41:21.168311Z",
     "iopub.status.idle": "2023-12-28T17:41:21.188964Z",
     "shell.execute_reply": "2023-12-28T17:41:21.188085Z"
    },
    "papermill": {
     "duration": 0.041609,
     "end_time": "2023-12-28T17:41:21.190766",
     "exception": false,
     "start_time": "2023-12-28T17:41:21.149157",
     "status": "completed"
    },
    "tags": []
   },
   "outputs": [
    {
     "name": "stdout",
     "output_type": "stream",
     "text": [
      "Covariance\n"
     ]
    },
    {
     "data": {
      "text/html": [
       "<div>\n",
       "<style scoped>\n",
       "    .dataframe tbody tr th:only-of-type {\n",
       "        vertical-align: middle;\n",
       "    }\n",
       "\n",
       "    .dataframe tbody tr th {\n",
       "        vertical-align: top;\n",
       "    }\n",
       "\n",
       "    .dataframe thead th {\n",
       "        text-align: right;\n",
       "    }\n",
       "</style>\n",
       "<table border=\"1\" class=\"dataframe\">\n",
       "  <thead>\n",
       "    <tr style=\"text-align: right;\">\n",
       "      <th></th>\n",
       "      <th>tenure</th>\n",
       "      <th>MonthlyCharges</th>\n",
       "      <th>TotalCharges</th>\n",
       "    </tr>\n",
       "  </thead>\n",
       "  <tbody>\n",
       "    <tr>\n",
       "      <th>tenure</th>\n",
       "      <td>603.168108</td>\n",
       "      <td>183.196987</td>\n",
       "      <td>4.595074e+04</td>\n",
       "    </tr>\n",
       "    <tr>\n",
       "      <th>MonthlyCharges</th>\n",
       "      <td>183.196987</td>\n",
       "      <td>905.410934</td>\n",
       "      <td>4.440133e+04</td>\n",
       "    </tr>\n",
       "    <tr>\n",
       "      <th>TotalCharges</th>\n",
       "      <td>45950.743236</td>\n",
       "      <td>44401.333073</td>\n",
       "      <td>5.138252e+06</td>\n",
       "    </tr>\n",
       "  </tbody>\n",
       "</table>\n",
       "</div>"
      ],
      "text/plain": [
       "                      tenure  MonthlyCharges  TotalCharges\n",
       "tenure            603.168108      183.196987  4.595074e+04\n",
       "MonthlyCharges    183.196987      905.410934  4.440133e+04\n",
       "TotalCharges    45950.743236    44401.333073  5.138252e+06"
      ]
     },
     "metadata": {},
     "output_type": "display_data"
    },
    {
     "name": "stdout",
     "output_type": "stream",
     "text": [
      "n\\Correlation\n"
     ]
    },
    {
     "data": {
      "text/html": [
       "<div>\n",
       "<style scoped>\n",
       "    .dataframe tbody tr th:only-of-type {\n",
       "        vertical-align: middle;\n",
       "    }\n",
       "\n",
       "    .dataframe tbody tr th {\n",
       "        vertical-align: top;\n",
       "    }\n",
       "\n",
       "    .dataframe thead th {\n",
       "        text-align: right;\n",
       "    }\n",
       "</style>\n",
       "<table border=\"1\" class=\"dataframe\">\n",
       "  <thead>\n",
       "    <tr style=\"text-align: right;\">\n",
       "      <th></th>\n",
       "      <th>tenure</th>\n",
       "      <th>MonthlyCharges</th>\n",
       "      <th>TotalCharges</th>\n",
       "    </tr>\n",
       "  </thead>\n",
       "  <tbody>\n",
       "    <tr>\n",
       "      <th>tenure</th>\n",
       "      <td>1.00000</td>\n",
       "      <td>0.247900</td>\n",
       "      <td>0.825880</td>\n",
       "    </tr>\n",
       "    <tr>\n",
       "      <th>MonthlyCharges</th>\n",
       "      <td>0.24790</td>\n",
       "      <td>1.000000</td>\n",
       "      <td>0.651065</td>\n",
       "    </tr>\n",
       "    <tr>\n",
       "      <th>TotalCharges</th>\n",
       "      <td>0.82588</td>\n",
       "      <td>0.651065</td>\n",
       "      <td>1.000000</td>\n",
       "    </tr>\n",
       "  </tbody>\n",
       "</table>\n",
       "</div>"
      ],
      "text/plain": [
       "                 tenure  MonthlyCharges  TotalCharges\n",
       "tenure          1.00000        0.247900      0.825880\n",
       "MonthlyCharges  0.24790        1.000000      0.651065\n",
       "TotalCharges    0.82588        0.651065      1.000000"
      ]
     },
     "metadata": {},
     "output_type": "display_data"
    }
   ],
   "source": [
    "# Covariance And Correlation\n",
    "print('Covariance')\n",
    "display(df.cov(numeric_only=True))\n",
    "print('n\\Correlation')\n",
    "display(df.corr(numeric_only=True))"
   ]
  },
  {
   "cell_type": "code",
   "execution_count": 10,
   "id": "2f647131",
   "metadata": {
    "execution": {
     "iopub.execute_input": "2023-12-28T17:41:21.228227Z",
     "iopub.status.busy": "2023-12-28T17:41:21.227879Z",
     "iopub.status.idle": "2023-12-28T17:41:21.247596Z",
     "shell.execute_reply": "2023-12-28T17:41:21.246576Z"
    },
    "papermill": {
     "duration": 0.040745,
     "end_time": "2023-12-28T17:41:21.249417",
     "exception": false,
     "start_time": "2023-12-28T17:41:21.208672",
     "status": "completed"
    },
    "tags": []
   },
   "outputs": [
    {
     "name": "stdout",
     "output_type": "stream",
     "text": [
      "No.of unique values in customerID is 7043\n",
      "No.of unique values in gender is 2\n",
      "No.of unique values in SeniorCitizen is 2\n",
      "No.of unique values in Partner is 2\n",
      "No.of unique values in Dependents is 2\n",
      "No.of unique values in tenure is 73\n",
      "No.of unique values in PhoneService is 2\n",
      "No.of unique values in MultipleLines is 3\n",
      "No.of unique values in InternetService is 3\n",
      "No.of unique values in OnlineSecurity is 3\n",
      "No.of unique values in OnlineBackup is 3\n",
      "No.of unique values in DeviceProtection is 3\n",
      "No.of unique values in TechSupport is 3\n",
      "No.of unique values in StreamingTV is 3\n",
      "No.of unique values in StreamingMovies is 3\n",
      "No.of unique values in Contract is 3\n",
      "No.of unique values in PaperlessBilling is 2\n",
      "No.of unique values in PaymentMethod is 4\n",
      "No.of unique values in MonthlyCharges is 1585\n",
      "No.of unique values in TotalCharges is 6530\n",
      "No.of unique values in Churn is 2\n"
     ]
    }
   ],
   "source": [
    "for i in df.columns:\n",
    "    print(\"No.of unique values in\",i,\"is\",df[i].nunique())"
   ]
  },
  {
   "cell_type": "code",
   "execution_count": 11,
   "id": "4c78a15e",
   "metadata": {
    "execution": {
     "iopub.execute_input": "2023-12-28T17:41:21.290802Z",
     "iopub.status.busy": "2023-12-28T17:41:21.289889Z",
     "iopub.status.idle": "2023-12-28T17:41:21.295108Z",
     "shell.execute_reply": "2023-12-28T17:41:21.294339Z"
    },
    "papermill": {
     "duration": 0.029727,
     "end_time": "2023-12-28T17:41:21.296669",
     "exception": false,
     "start_time": "2023-12-28T17:41:21.266942",
     "status": "completed"
    },
    "tags": []
   },
   "outputs": [],
   "source": [
    "# store the categorical columns and numerical columns in different variables .\n",
    "cat_cols = ['gender','Dependents','MultipleLines','StreamingTV','StreamingMovies',\n",
    "           'Contract','Partner','PhoneService','InternetService','OnlineSecurity',\n",
    "           'OnlineSecurity','OnlineBackup','DeviceProtection','TechSupport','PaperlessBilling',\n",
    "           'PaymentMethod','SeniorCitizen','Churn']\n",
    "\n",
    "\n",
    "num_cols=['tenure','MonthlyCharges','TotalCharges']\n",
    "\n"
   ]
  },
  {
   "cell_type": "code",
   "execution_count": 12,
   "id": "dad1514b",
   "metadata": {
    "execution": {
     "iopub.execute_input": "2023-12-28T17:41:21.333542Z",
     "iopub.status.busy": "2023-12-28T17:41:21.333174Z",
     "iopub.status.idle": "2023-12-28T17:41:21.351307Z",
     "shell.execute_reply": "2023-12-28T17:41:21.350481Z"
    },
    "papermill": {
     "duration": 0.039481,
     "end_time": "2023-12-28T17:41:21.353178",
     "exception": false,
     "start_time": "2023-12-28T17:41:21.313697",
     "status": "completed"
    },
    "tags": []
   },
   "outputs": [
    {
     "data": {
      "text/html": [
       "<div>\n",
       "<style scoped>\n",
       "    .dataframe tbody tr th:only-of-type {\n",
       "        vertical-align: middle;\n",
       "    }\n",
       "\n",
       "    .dataframe tbody tr th {\n",
       "        vertical-align: top;\n",
       "    }\n",
       "\n",
       "    .dataframe thead th {\n",
       "        text-align: right;\n",
       "    }\n",
       "</style>\n",
       "<table border=\"1\" class=\"dataframe\">\n",
       "  <thead>\n",
       "    <tr style=\"text-align: right;\">\n",
       "      <th></th>\n",
       "      <th>data variation</th>\n",
       "    </tr>\n",
       "  </thead>\n",
       "  <tbody>\n",
       "    <tr>\n",
       "      <th>gender</th>\n",
       "      <td>Female, Male</td>\n",
       "    </tr>\n",
       "    <tr>\n",
       "      <th>Dependents</th>\n",
       "      <td>No, Yes</td>\n",
       "    </tr>\n",
       "    <tr>\n",
       "      <th>MultipleLines</th>\n",
       "      <td>No, No phone service, Yes</td>\n",
       "    </tr>\n",
       "    <tr>\n",
       "      <th>StreamingTV</th>\n",
       "      <td>No, No internet service, Yes</td>\n",
       "    </tr>\n",
       "    <tr>\n",
       "      <th>StreamingMovies</th>\n",
       "      <td>No, No internet service, Yes</td>\n",
       "    </tr>\n",
       "    <tr>\n",
       "      <th>Contract</th>\n",
       "      <td>Month-to-month, One year, Two year</td>\n",
       "    </tr>\n",
       "    <tr>\n",
       "      <th>Partner</th>\n",
       "      <td>No, Yes</td>\n",
       "    </tr>\n",
       "    <tr>\n",
       "      <th>PhoneService</th>\n",
       "      <td>No, Yes</td>\n",
       "    </tr>\n",
       "    <tr>\n",
       "      <th>InternetService</th>\n",
       "      <td>DSL, Fiber optic, No</td>\n",
       "    </tr>\n",
       "    <tr>\n",
       "      <th>OnlineSecurity</th>\n",
       "      <td>No, No internet service, Yes</td>\n",
       "    </tr>\n",
       "    <tr>\n",
       "      <th>OnlineBackup</th>\n",
       "      <td>No, No internet service, Yes</td>\n",
       "    </tr>\n",
       "    <tr>\n",
       "      <th>DeviceProtection</th>\n",
       "      <td>No, No internet service, Yes</td>\n",
       "    </tr>\n",
       "    <tr>\n",
       "      <th>TechSupport</th>\n",
       "      <td>No, No internet service, Yes</td>\n",
       "    </tr>\n",
       "    <tr>\n",
       "      <th>PaperlessBilling</th>\n",
       "      <td>No, Yes</td>\n",
       "    </tr>\n",
       "    <tr>\n",
       "      <th>PaymentMethod</th>\n",
       "      <td>Bank transfer (automatic), Credit card (automa...</td>\n",
       "    </tr>\n",
       "    <tr>\n",
       "      <th>SeniorCitizen</th>\n",
       "      <td>0, 1</td>\n",
       "    </tr>\n",
       "    <tr>\n",
       "      <th>Churn</th>\n",
       "      <td>0, 1</td>\n",
       "    </tr>\n",
       "  </tbody>\n",
       "</table>\n",
       "</div>"
      ],
      "text/plain": [
       "                                                     data variation\n",
       "gender                                                 Female, Male\n",
       "Dependents                                                  No, Yes\n",
       "MultipleLines                             No, No phone service, Yes\n",
       "StreamingTV                            No, No internet service, Yes\n",
       "StreamingMovies                        No, No internet service, Yes\n",
       "Contract                         Month-to-month, One year, Two year\n",
       "Partner                                                     No, Yes\n",
       "PhoneService                                                No, Yes\n",
       "InternetService                                DSL, Fiber optic, No\n",
       "OnlineSecurity                         No, No internet service, Yes\n",
       "OnlineBackup                           No, No internet service, Yes\n",
       "DeviceProtection                       No, No internet service, Yes\n",
       "TechSupport                            No, No internet service, Yes\n",
       "PaperlessBilling                                            No, Yes\n",
       "PaymentMethod     Bank transfer (automatic), Credit card (automa...\n",
       "SeniorCitizen                                                  0, 1\n",
       "Churn                                                          0, 1"
      ]
     },
     "execution_count": 12,
     "metadata": {},
     "output_type": "execute_result"
    }
   ],
   "source": [
    "cat_variation = dict()\n",
    "\n",
    "for col in cat_cols:\n",
    "    df_abc = df[col].unique().tolist()\n",
    "    df_abc.sort()\n",
    "    cat_variation[col] = (', '.join(str(item) for item in df_abc))\n",
    "\n",
    "df_abc = pd.Series(cat_variation)\n",
    "df_variation_categorical = pd.DataFrame(df_abc).T.rename({0:'data variation'})\n",
    "df_variation_categorical.T"
   ]
  },
  {
   "cell_type": "code",
   "execution_count": 13,
   "id": "f1925a69",
   "metadata": {
    "execution": {
     "iopub.execute_input": "2023-12-28T17:41:21.392577Z",
     "iopub.status.busy": "2023-12-28T17:41:21.391662Z",
     "iopub.status.idle": "2023-12-28T17:41:21.403492Z",
     "shell.execute_reply": "2023-12-28T17:41:21.402383Z"
    },
    "papermill": {
     "duration": 0.032989,
     "end_time": "2023-12-28T17:41:21.405286",
     "exception": false,
     "start_time": "2023-12-28T17:41:21.372297",
     "status": "completed"
    },
    "tags": []
   },
   "outputs": [
    {
     "data": {
      "text/html": [
       "<div>\n",
       "<style scoped>\n",
       "    .dataframe tbody tr th:only-of-type {\n",
       "        vertical-align: middle;\n",
       "    }\n",
       "\n",
       "    .dataframe tbody tr th {\n",
       "        vertical-align: top;\n",
       "    }\n",
       "\n",
       "    .dataframe thead th {\n",
       "        text-align: right;\n",
       "    }\n",
       "</style>\n",
       "<table border=\"1\" class=\"dataframe\">\n",
       "  <thead>\n",
       "    <tr style=\"text-align: right;\">\n",
       "      <th></th>\n",
       "      <th>data variation</th>\n",
       "    </tr>\n",
       "  </thead>\n",
       "  <tbody>\n",
       "    <tr>\n",
       "      <th>tenure</th>\n",
       "      <td>0 - 72</td>\n",
       "    </tr>\n",
       "    <tr>\n",
       "      <th>MonthlyCharges</th>\n",
       "      <td>18.25 - 118.75</td>\n",
       "    </tr>\n",
       "    <tr>\n",
       "      <th>TotalCharges</th>\n",
       "      <td>18.8 - 8684.8</td>\n",
       "    </tr>\n",
       "  </tbody>\n",
       "</table>\n",
       "</div>"
      ],
      "text/plain": [
       "                data variation\n",
       "tenure                  0 - 72\n",
       "MonthlyCharges  18.25 - 118.75\n",
       "TotalCharges     18.8 - 8684.8"
      ]
     },
     "execution_count": 13,
     "metadata": {},
     "output_type": "execute_result"
    }
   ],
   "source": [
    "num_variation = dict()\n",
    "\n",
    "for col in num_cols:\n",
    "    df_abc = (f'{df[col].min()} - {df[col].max()}')\n",
    "    num_variation[col] = df_abc\n",
    "\n",
    "df_abc = pd.Series(num_variation)\n",
    "df_variation_numerical = pd.DataFrame(df_abc).T.rename({0:'data variation'})\n",
    "df_variation_numerical.T"
   ]
  },
  {
   "cell_type": "code",
   "execution_count": 14,
   "id": "f7c04463",
   "metadata": {
    "execution": {
     "iopub.execute_input": "2023-12-28T17:41:21.445275Z",
     "iopub.status.busy": "2023-12-28T17:41:21.444742Z",
     "iopub.status.idle": "2023-12-28T17:41:21.454101Z",
     "shell.execute_reply": "2023-12-28T17:41:21.453173Z"
    },
    "papermill": {
     "duration": 0.031622,
     "end_time": "2023-12-28T17:41:21.455803",
     "exception": false,
     "start_time": "2023-12-28T17:41:21.424181",
     "status": "completed"
    },
    "tags": []
   },
   "outputs": [
    {
     "data": {
      "text/html": [
       "<div>\n",
       "<style scoped>\n",
       "    .dataframe tbody tr th:only-of-type {\n",
       "        vertical-align: middle;\n",
       "    }\n",
       "\n",
       "    .dataframe tbody tr th {\n",
       "        vertical-align: top;\n",
       "    }\n",
       "\n",
       "    .dataframe thead th {\n",
       "        text-align: right;\n",
       "    }\n",
       "</style>\n",
       "<table border=\"1\" class=\"dataframe\">\n",
       "  <thead>\n",
       "    <tr style=\"text-align: right;\">\n",
       "      <th></th>\n",
       "      <th>data variation</th>\n",
       "    </tr>\n",
       "  </thead>\n",
       "  <tbody>\n",
       "    <tr>\n",
       "      <th>tenure</th>\n",
       "      <td>0 - 72</td>\n",
       "    </tr>\n",
       "    <tr>\n",
       "      <th>MonthlyCharges</th>\n",
       "      <td>18.25 - 118.75</td>\n",
       "    </tr>\n",
       "    <tr>\n",
       "      <th>TotalCharges</th>\n",
       "      <td>18.8 - 8684.8</td>\n",
       "    </tr>\n",
       "    <tr>\n",
       "      <th>gender</th>\n",
       "      <td>Female, Male</td>\n",
       "    </tr>\n",
       "    <tr>\n",
       "      <th>Dependents</th>\n",
       "      <td>No, Yes</td>\n",
       "    </tr>\n",
       "    <tr>\n",
       "      <th>MultipleLines</th>\n",
       "      <td>No, No phone service, Yes</td>\n",
       "    </tr>\n",
       "    <tr>\n",
       "      <th>StreamingTV</th>\n",
       "      <td>No, No internet service, Yes</td>\n",
       "    </tr>\n",
       "    <tr>\n",
       "      <th>StreamingMovies</th>\n",
       "      <td>No, No internet service, Yes</td>\n",
       "    </tr>\n",
       "    <tr>\n",
       "      <th>Contract</th>\n",
       "      <td>Month-to-month, One year, Two year</td>\n",
       "    </tr>\n",
       "    <tr>\n",
       "      <th>Partner</th>\n",
       "      <td>No, Yes</td>\n",
       "    </tr>\n",
       "    <tr>\n",
       "      <th>PhoneService</th>\n",
       "      <td>No, Yes</td>\n",
       "    </tr>\n",
       "    <tr>\n",
       "      <th>InternetService</th>\n",
       "      <td>DSL, Fiber optic, No</td>\n",
       "    </tr>\n",
       "    <tr>\n",
       "      <th>OnlineSecurity</th>\n",
       "      <td>No, No internet service, Yes</td>\n",
       "    </tr>\n",
       "    <tr>\n",
       "      <th>OnlineBackup</th>\n",
       "      <td>No, No internet service, Yes</td>\n",
       "    </tr>\n",
       "    <tr>\n",
       "      <th>DeviceProtection</th>\n",
       "      <td>No, No internet service, Yes</td>\n",
       "    </tr>\n",
       "    <tr>\n",
       "      <th>TechSupport</th>\n",
       "      <td>No, No internet service, Yes</td>\n",
       "    </tr>\n",
       "    <tr>\n",
       "      <th>PaperlessBilling</th>\n",
       "      <td>No, Yes</td>\n",
       "    </tr>\n",
       "    <tr>\n",
       "      <th>PaymentMethod</th>\n",
       "      <td>Bank transfer (automatic), Credit card (automa...</td>\n",
       "    </tr>\n",
       "    <tr>\n",
       "      <th>SeniorCitizen</th>\n",
       "      <td>0, 1</td>\n",
       "    </tr>\n",
       "    <tr>\n",
       "      <th>Churn</th>\n",
       "      <td>0, 1</td>\n",
       "    </tr>\n",
       "  </tbody>\n",
       "</table>\n",
       "</div>"
      ],
      "text/plain": [
       "                                                     data variation\n",
       "tenure                                                       0 - 72\n",
       "MonthlyCharges                                       18.25 - 118.75\n",
       "TotalCharges                                          18.8 - 8684.8\n",
       "gender                                                 Female, Male\n",
       "Dependents                                                  No, Yes\n",
       "MultipleLines                             No, No phone service, Yes\n",
       "StreamingTV                            No, No internet service, Yes\n",
       "StreamingMovies                        No, No internet service, Yes\n",
       "Contract                         Month-to-month, One year, Two year\n",
       "Partner                                                     No, Yes\n",
       "PhoneService                                                No, Yes\n",
       "InternetService                                DSL, Fiber optic, No\n",
       "OnlineSecurity                         No, No internet service, Yes\n",
       "OnlineBackup                           No, No internet service, Yes\n",
       "DeviceProtection                       No, No internet service, Yes\n",
       "TechSupport                            No, No internet service, Yes\n",
       "PaperlessBilling                                            No, Yes\n",
       "PaymentMethod     Bank transfer (automatic), Credit card (automa...\n",
       "SeniorCitizen                                                  0, 1\n",
       "Churn                                                          0, 1"
      ]
     },
     "execution_count": 14,
     "metadata": {},
     "output_type": "execute_result"
    }
   ],
   "source": [
    "data_variation = pd.concat([df_variation_numerical,df_variation_categorical], axis=1)\n",
    "data_variation.T"
   ]
  },
  {
   "cell_type": "code",
   "execution_count": 15,
   "id": "c3920c34",
   "metadata": {
    "execution": {
     "iopub.execute_input": "2023-12-28T17:41:21.494280Z",
     "iopub.status.busy": "2023-12-28T17:41:21.493777Z",
     "iopub.status.idle": "2023-12-28T17:41:21.513525Z",
     "shell.execute_reply": "2023-12-28T17:41:21.512876Z"
    },
    "papermill": {
     "duration": 0.040595,
     "end_time": "2023-12-28T17:41:21.515341",
     "exception": false,
     "start_time": "2023-12-28T17:41:21.474746",
     "status": "completed"
    },
    "tags": []
   },
   "outputs": [
    {
     "name": "stdout",
     "output_type": "stream",
     "text": [
      "<class 'pandas.core.frame.DataFrame'>\n",
      "RangeIndex: 7043 entries, 0 to 7042\n",
      "Data columns (total 21 columns):\n",
      " #   Column            Non-Null Count  Dtype  \n",
      "---  ------            --------------  -----  \n",
      " 0   customerID        7043 non-null   object \n",
      " 1   gender            7043 non-null   object \n",
      " 2   SeniorCitizen     7043 non-null   object \n",
      " 3   Partner           7043 non-null   object \n",
      " 4   Dependents        7043 non-null   object \n",
      " 5   tenure            7043 non-null   int64  \n",
      " 6   PhoneService      7043 non-null   object \n",
      " 7   MultipleLines     7043 non-null   object \n",
      " 8   InternetService   7043 non-null   object \n",
      " 9   OnlineSecurity    7043 non-null   object \n",
      " 10  OnlineBackup      7043 non-null   object \n",
      " 11  DeviceProtection  7043 non-null   object \n",
      " 12  TechSupport       7043 non-null   object \n",
      " 13  StreamingTV       7043 non-null   object \n",
      " 14  StreamingMovies   7043 non-null   object \n",
      " 15  Contract          7043 non-null   object \n",
      " 16  PaperlessBilling  7043 non-null   object \n",
      " 17  PaymentMethod     7043 non-null   object \n",
      " 18  MonthlyCharges    7043 non-null   float64\n",
      " 19  TotalCharges      7032 non-null   float64\n",
      " 20  Churn             7043 non-null   object \n",
      "dtypes: float64(2), int64(1), object(18)\n",
      "memory usage: 1.1+ MB\n"
     ]
    }
   ],
   "source": [
    "df.info()"
   ]
  },
  {
   "cell_type": "code",
   "execution_count": 16,
   "id": "9fad3a7e",
   "metadata": {
    "execution": {
     "iopub.execute_input": "2023-12-28T17:41:21.553420Z",
     "iopub.status.busy": "2023-12-28T17:41:21.553076Z",
     "iopub.status.idle": "2023-12-28T17:41:21.557927Z",
     "shell.execute_reply": "2023-12-28T17:41:21.557307Z"
    },
    "papermill": {
     "duration": 0.025473,
     "end_time": "2023-12-28T17:41:21.559419",
     "exception": false,
     "start_time": "2023-12-28T17:41:21.533946",
     "status": "completed"
    },
    "tags": []
   },
   "outputs": [
    {
     "data": {
      "text/plain": [
       "(7043, 21)"
      ]
     },
     "execution_count": 16,
     "metadata": {},
     "output_type": "execute_result"
    }
   ],
   "source": [
    "df.shape"
   ]
  },
  {
   "cell_type": "code",
   "execution_count": 17,
   "id": "77e9af9c",
   "metadata": {
    "execution": {
     "iopub.execute_input": "2023-12-28T17:41:21.596216Z",
     "iopub.status.busy": "2023-12-28T17:41:21.595924Z",
     "iopub.status.idle": "2023-12-28T17:41:21.601145Z",
     "shell.execute_reply": "2023-12-28T17:41:21.600348Z"
    },
    "papermill": {
     "duration": 0.025656,
     "end_time": "2023-12-28T17:41:21.602724",
     "exception": false,
     "start_time": "2023-12-28T17:41:21.577068",
     "status": "completed"
    },
    "tags": []
   },
   "outputs": [],
   "source": [
    "# again here senior citizen convert numrical to catagorical\n",
    "df['SeniorCitizen'] = df['SeniorCitizen'].astype('category')"
   ]
  },
  {
   "cell_type": "code",
   "execution_count": 18,
   "id": "6692686e",
   "metadata": {
    "execution": {
     "iopub.execute_input": "2023-12-28T17:41:21.639789Z",
     "iopub.status.busy": "2023-12-28T17:41:21.639479Z",
     "iopub.status.idle": "2023-12-28T17:41:21.666142Z",
     "shell.execute_reply": "2023-12-28T17:41:21.665532Z"
    },
    "papermill": {
     "duration": 0.047125,
     "end_time": "2023-12-28T17:41:21.667645",
     "exception": false,
     "start_time": "2023-12-28T17:41:21.620520",
     "status": "completed"
    },
    "tags": []
   },
   "outputs": [
    {
     "data": {
      "text/html": [
       "<div>\n",
       "<style scoped>\n",
       "    .dataframe tbody tr th:only-of-type {\n",
       "        vertical-align: middle;\n",
       "    }\n",
       "\n",
       "    .dataframe tbody tr th {\n",
       "        vertical-align: top;\n",
       "    }\n",
       "\n",
       "    .dataframe thead th {\n",
       "        text-align: right;\n",
       "    }\n",
       "</style>\n",
       "<table border=\"1\" class=\"dataframe\">\n",
       "  <thead>\n",
       "    <tr style=\"text-align: right;\">\n",
       "      <th></th>\n",
       "      <th>customerID</th>\n",
       "      <th>gender</th>\n",
       "      <th>SeniorCitizen</th>\n",
       "      <th>Partner</th>\n",
       "      <th>Dependents</th>\n",
       "      <th>tenure</th>\n",
       "      <th>PhoneService</th>\n",
       "      <th>MultipleLines</th>\n",
       "      <th>InternetService</th>\n",
       "      <th>OnlineSecurity</th>\n",
       "      <th>...</th>\n",
       "      <th>DeviceProtection</th>\n",
       "      <th>TechSupport</th>\n",
       "      <th>StreamingTV</th>\n",
       "      <th>StreamingMovies</th>\n",
       "      <th>Contract</th>\n",
       "      <th>PaperlessBilling</th>\n",
       "      <th>PaymentMethod</th>\n",
       "      <th>MonthlyCharges</th>\n",
       "      <th>TotalCharges</th>\n",
       "      <th>Churn</th>\n",
       "    </tr>\n",
       "  </thead>\n",
       "  <tbody>\n",
       "    <tr>\n",
       "      <th>0</th>\n",
       "      <td>7590-VHVEG</td>\n",
       "      <td>Female</td>\n",
       "      <td>0</td>\n",
       "      <td>Yes</td>\n",
       "      <td>No</td>\n",
       "      <td>1</td>\n",
       "      <td>No</td>\n",
       "      <td>No phone service</td>\n",
       "      <td>DSL</td>\n",
       "      <td>No</td>\n",
       "      <td>...</td>\n",
       "      <td>No</td>\n",
       "      <td>No</td>\n",
       "      <td>No</td>\n",
       "      <td>No</td>\n",
       "      <td>Month-to-month</td>\n",
       "      <td>Yes</td>\n",
       "      <td>Electronic check</td>\n",
       "      <td>29.85</td>\n",
       "      <td>29.85</td>\n",
       "      <td>0</td>\n",
       "    </tr>\n",
       "    <tr>\n",
       "      <th>1</th>\n",
       "      <td>5575-GNVDE</td>\n",
       "      <td>Male</td>\n",
       "      <td>0</td>\n",
       "      <td>No</td>\n",
       "      <td>No</td>\n",
       "      <td>34</td>\n",
       "      <td>Yes</td>\n",
       "      <td>No</td>\n",
       "      <td>DSL</td>\n",
       "      <td>Yes</td>\n",
       "      <td>...</td>\n",
       "      <td>Yes</td>\n",
       "      <td>No</td>\n",
       "      <td>No</td>\n",
       "      <td>No</td>\n",
       "      <td>One year</td>\n",
       "      <td>No</td>\n",
       "      <td>Mailed check</td>\n",
       "      <td>56.95</td>\n",
       "      <td>1889.50</td>\n",
       "      <td>0</td>\n",
       "    </tr>\n",
       "    <tr>\n",
       "      <th>2</th>\n",
       "      <td>3668-QPYBK</td>\n",
       "      <td>Male</td>\n",
       "      <td>0</td>\n",
       "      <td>No</td>\n",
       "      <td>No</td>\n",
       "      <td>2</td>\n",
       "      <td>Yes</td>\n",
       "      <td>No</td>\n",
       "      <td>DSL</td>\n",
       "      <td>Yes</td>\n",
       "      <td>...</td>\n",
       "      <td>No</td>\n",
       "      <td>No</td>\n",
       "      <td>No</td>\n",
       "      <td>No</td>\n",
       "      <td>Month-to-month</td>\n",
       "      <td>Yes</td>\n",
       "      <td>Mailed check</td>\n",
       "      <td>53.85</td>\n",
       "      <td>108.15</td>\n",
       "      <td>1</td>\n",
       "    </tr>\n",
       "    <tr>\n",
       "      <th>3</th>\n",
       "      <td>7795-CFOCW</td>\n",
       "      <td>Male</td>\n",
       "      <td>0</td>\n",
       "      <td>No</td>\n",
       "      <td>No</td>\n",
       "      <td>45</td>\n",
       "      <td>No</td>\n",
       "      <td>No phone service</td>\n",
       "      <td>DSL</td>\n",
       "      <td>Yes</td>\n",
       "      <td>...</td>\n",
       "      <td>Yes</td>\n",
       "      <td>Yes</td>\n",
       "      <td>No</td>\n",
       "      <td>No</td>\n",
       "      <td>One year</td>\n",
       "      <td>No</td>\n",
       "      <td>Bank transfer (automatic)</td>\n",
       "      <td>42.30</td>\n",
       "      <td>1840.75</td>\n",
       "      <td>0</td>\n",
       "    </tr>\n",
       "    <tr>\n",
       "      <th>4</th>\n",
       "      <td>9237-HQITU</td>\n",
       "      <td>Female</td>\n",
       "      <td>0</td>\n",
       "      <td>No</td>\n",
       "      <td>No</td>\n",
       "      <td>2</td>\n",
       "      <td>Yes</td>\n",
       "      <td>No</td>\n",
       "      <td>Fiber optic</td>\n",
       "      <td>No</td>\n",
       "      <td>...</td>\n",
       "      <td>No</td>\n",
       "      <td>No</td>\n",
       "      <td>No</td>\n",
       "      <td>No</td>\n",
       "      <td>Month-to-month</td>\n",
       "      <td>Yes</td>\n",
       "      <td>Electronic check</td>\n",
       "      <td>70.70</td>\n",
       "      <td>151.65</td>\n",
       "      <td>1</td>\n",
       "    </tr>\n",
       "    <tr>\n",
       "      <th>5</th>\n",
       "      <td>9305-CDSKC</td>\n",
       "      <td>Female</td>\n",
       "      <td>0</td>\n",
       "      <td>No</td>\n",
       "      <td>No</td>\n",
       "      <td>8</td>\n",
       "      <td>Yes</td>\n",
       "      <td>Yes</td>\n",
       "      <td>Fiber optic</td>\n",
       "      <td>No</td>\n",
       "      <td>...</td>\n",
       "      <td>Yes</td>\n",
       "      <td>No</td>\n",
       "      <td>Yes</td>\n",
       "      <td>Yes</td>\n",
       "      <td>Month-to-month</td>\n",
       "      <td>Yes</td>\n",
       "      <td>Electronic check</td>\n",
       "      <td>99.65</td>\n",
       "      <td>820.50</td>\n",
       "      <td>1</td>\n",
       "    </tr>\n",
       "    <tr>\n",
       "      <th>6</th>\n",
       "      <td>1452-KIOVK</td>\n",
       "      <td>Male</td>\n",
       "      <td>0</td>\n",
       "      <td>No</td>\n",
       "      <td>Yes</td>\n",
       "      <td>22</td>\n",
       "      <td>Yes</td>\n",
       "      <td>Yes</td>\n",
       "      <td>Fiber optic</td>\n",
       "      <td>No</td>\n",
       "      <td>...</td>\n",
       "      <td>No</td>\n",
       "      <td>No</td>\n",
       "      <td>Yes</td>\n",
       "      <td>No</td>\n",
       "      <td>Month-to-month</td>\n",
       "      <td>Yes</td>\n",
       "      <td>Credit card (automatic)</td>\n",
       "      <td>89.10</td>\n",
       "      <td>1949.40</td>\n",
       "      <td>0</td>\n",
       "    </tr>\n",
       "    <tr>\n",
       "      <th>7</th>\n",
       "      <td>6713-OKOMC</td>\n",
       "      <td>Female</td>\n",
       "      <td>0</td>\n",
       "      <td>No</td>\n",
       "      <td>No</td>\n",
       "      <td>10</td>\n",
       "      <td>No</td>\n",
       "      <td>No phone service</td>\n",
       "      <td>DSL</td>\n",
       "      <td>Yes</td>\n",
       "      <td>...</td>\n",
       "      <td>No</td>\n",
       "      <td>No</td>\n",
       "      <td>No</td>\n",
       "      <td>No</td>\n",
       "      <td>Month-to-month</td>\n",
       "      <td>No</td>\n",
       "      <td>Mailed check</td>\n",
       "      <td>29.75</td>\n",
       "      <td>301.90</td>\n",
       "      <td>0</td>\n",
       "    </tr>\n",
       "    <tr>\n",
       "      <th>8</th>\n",
       "      <td>7892-POOKP</td>\n",
       "      <td>Female</td>\n",
       "      <td>0</td>\n",
       "      <td>Yes</td>\n",
       "      <td>No</td>\n",
       "      <td>28</td>\n",
       "      <td>Yes</td>\n",
       "      <td>Yes</td>\n",
       "      <td>Fiber optic</td>\n",
       "      <td>No</td>\n",
       "      <td>...</td>\n",
       "      <td>Yes</td>\n",
       "      <td>Yes</td>\n",
       "      <td>Yes</td>\n",
       "      <td>Yes</td>\n",
       "      <td>Month-to-month</td>\n",
       "      <td>Yes</td>\n",
       "      <td>Electronic check</td>\n",
       "      <td>104.80</td>\n",
       "      <td>3046.05</td>\n",
       "      <td>1</td>\n",
       "    </tr>\n",
       "    <tr>\n",
       "      <th>9</th>\n",
       "      <td>6388-TABGU</td>\n",
       "      <td>Male</td>\n",
       "      <td>0</td>\n",
       "      <td>No</td>\n",
       "      <td>Yes</td>\n",
       "      <td>62</td>\n",
       "      <td>Yes</td>\n",
       "      <td>No</td>\n",
       "      <td>DSL</td>\n",
       "      <td>Yes</td>\n",
       "      <td>...</td>\n",
       "      <td>No</td>\n",
       "      <td>No</td>\n",
       "      <td>No</td>\n",
       "      <td>No</td>\n",
       "      <td>One year</td>\n",
       "      <td>No</td>\n",
       "      <td>Bank transfer (automatic)</td>\n",
       "      <td>56.15</td>\n",
       "      <td>3487.95</td>\n",
       "      <td>0</td>\n",
       "    </tr>\n",
       "    <tr>\n",
       "      <th>10</th>\n",
       "      <td>9763-GRSKD</td>\n",
       "      <td>Male</td>\n",
       "      <td>0</td>\n",
       "      <td>Yes</td>\n",
       "      <td>Yes</td>\n",
       "      <td>13</td>\n",
       "      <td>Yes</td>\n",
       "      <td>No</td>\n",
       "      <td>DSL</td>\n",
       "      <td>Yes</td>\n",
       "      <td>...</td>\n",
       "      <td>No</td>\n",
       "      <td>No</td>\n",
       "      <td>No</td>\n",
       "      <td>No</td>\n",
       "      <td>Month-to-month</td>\n",
       "      <td>Yes</td>\n",
       "      <td>Mailed check</td>\n",
       "      <td>49.95</td>\n",
       "      <td>587.45</td>\n",
       "      <td>0</td>\n",
       "    </tr>\n",
       "    <tr>\n",
       "      <th>11</th>\n",
       "      <td>7469-LKBCI</td>\n",
       "      <td>Male</td>\n",
       "      <td>0</td>\n",
       "      <td>No</td>\n",
       "      <td>No</td>\n",
       "      <td>16</td>\n",
       "      <td>Yes</td>\n",
       "      <td>No</td>\n",
       "      <td>No</td>\n",
       "      <td>No internet service</td>\n",
       "      <td>...</td>\n",
       "      <td>No internet service</td>\n",
       "      <td>No internet service</td>\n",
       "      <td>No internet service</td>\n",
       "      <td>No internet service</td>\n",
       "      <td>Two year</td>\n",
       "      <td>No</td>\n",
       "      <td>Credit card (automatic)</td>\n",
       "      <td>18.95</td>\n",
       "      <td>326.80</td>\n",
       "      <td>0</td>\n",
       "    </tr>\n",
       "    <tr>\n",
       "      <th>12</th>\n",
       "      <td>8091-TTVAX</td>\n",
       "      <td>Male</td>\n",
       "      <td>0</td>\n",
       "      <td>Yes</td>\n",
       "      <td>No</td>\n",
       "      <td>58</td>\n",
       "      <td>Yes</td>\n",
       "      <td>Yes</td>\n",
       "      <td>Fiber optic</td>\n",
       "      <td>No</td>\n",
       "      <td>...</td>\n",
       "      <td>Yes</td>\n",
       "      <td>No</td>\n",
       "      <td>Yes</td>\n",
       "      <td>Yes</td>\n",
       "      <td>One year</td>\n",
       "      <td>No</td>\n",
       "      <td>Credit card (automatic)</td>\n",
       "      <td>100.35</td>\n",
       "      <td>5681.10</td>\n",
       "      <td>0</td>\n",
       "    </tr>\n",
       "    <tr>\n",
       "      <th>13</th>\n",
       "      <td>0280-XJGEX</td>\n",
       "      <td>Male</td>\n",
       "      <td>0</td>\n",
       "      <td>No</td>\n",
       "      <td>No</td>\n",
       "      <td>49</td>\n",
       "      <td>Yes</td>\n",
       "      <td>Yes</td>\n",
       "      <td>Fiber optic</td>\n",
       "      <td>No</td>\n",
       "      <td>...</td>\n",
       "      <td>Yes</td>\n",
       "      <td>No</td>\n",
       "      <td>Yes</td>\n",
       "      <td>Yes</td>\n",
       "      <td>Month-to-month</td>\n",
       "      <td>Yes</td>\n",
       "      <td>Bank transfer (automatic)</td>\n",
       "      <td>103.70</td>\n",
       "      <td>5036.30</td>\n",
       "      <td>1</td>\n",
       "    </tr>\n",
       "    <tr>\n",
       "      <th>14</th>\n",
       "      <td>5129-JLPIS</td>\n",
       "      <td>Male</td>\n",
       "      <td>0</td>\n",
       "      <td>No</td>\n",
       "      <td>No</td>\n",
       "      <td>25</td>\n",
       "      <td>Yes</td>\n",
       "      <td>No</td>\n",
       "      <td>Fiber optic</td>\n",
       "      <td>Yes</td>\n",
       "      <td>...</td>\n",
       "      <td>Yes</td>\n",
       "      <td>Yes</td>\n",
       "      <td>Yes</td>\n",
       "      <td>Yes</td>\n",
       "      <td>Month-to-month</td>\n",
       "      <td>Yes</td>\n",
       "      <td>Electronic check</td>\n",
       "      <td>105.50</td>\n",
       "      <td>2686.05</td>\n",
       "      <td>0</td>\n",
       "    </tr>\n",
       "    <tr>\n",
       "      <th>15</th>\n",
       "      <td>3655-SNQYZ</td>\n",
       "      <td>Female</td>\n",
       "      <td>0</td>\n",
       "      <td>Yes</td>\n",
       "      <td>Yes</td>\n",
       "      <td>69</td>\n",
       "      <td>Yes</td>\n",
       "      <td>Yes</td>\n",
       "      <td>Fiber optic</td>\n",
       "      <td>Yes</td>\n",
       "      <td>...</td>\n",
       "      <td>Yes</td>\n",
       "      <td>Yes</td>\n",
       "      <td>Yes</td>\n",
       "      <td>Yes</td>\n",
       "      <td>Two year</td>\n",
       "      <td>No</td>\n",
       "      <td>Credit card (automatic)</td>\n",
       "      <td>113.25</td>\n",
       "      <td>7895.15</td>\n",
       "      <td>0</td>\n",
       "    </tr>\n",
       "    <tr>\n",
       "      <th>16</th>\n",
       "      <td>8191-XWSZG</td>\n",
       "      <td>Female</td>\n",
       "      <td>0</td>\n",
       "      <td>No</td>\n",
       "      <td>No</td>\n",
       "      <td>52</td>\n",
       "      <td>Yes</td>\n",
       "      <td>No</td>\n",
       "      <td>No</td>\n",
       "      <td>No internet service</td>\n",
       "      <td>...</td>\n",
       "      <td>No internet service</td>\n",
       "      <td>No internet service</td>\n",
       "      <td>No internet service</td>\n",
       "      <td>No internet service</td>\n",
       "      <td>One year</td>\n",
       "      <td>No</td>\n",
       "      <td>Mailed check</td>\n",
       "      <td>20.65</td>\n",
       "      <td>1022.95</td>\n",
       "      <td>0</td>\n",
       "    </tr>\n",
       "    <tr>\n",
       "      <th>17</th>\n",
       "      <td>9959-WOFKT</td>\n",
       "      <td>Male</td>\n",
       "      <td>0</td>\n",
       "      <td>No</td>\n",
       "      <td>Yes</td>\n",
       "      <td>71</td>\n",
       "      <td>Yes</td>\n",
       "      <td>Yes</td>\n",
       "      <td>Fiber optic</td>\n",
       "      <td>Yes</td>\n",
       "      <td>...</td>\n",
       "      <td>Yes</td>\n",
       "      <td>No</td>\n",
       "      <td>Yes</td>\n",
       "      <td>Yes</td>\n",
       "      <td>Two year</td>\n",
       "      <td>No</td>\n",
       "      <td>Bank transfer (automatic)</td>\n",
       "      <td>106.70</td>\n",
       "      <td>7382.25</td>\n",
       "      <td>0</td>\n",
       "    </tr>\n",
       "    <tr>\n",
       "      <th>18</th>\n",
       "      <td>4190-MFLUW</td>\n",
       "      <td>Female</td>\n",
       "      <td>0</td>\n",
       "      <td>Yes</td>\n",
       "      <td>Yes</td>\n",
       "      <td>10</td>\n",
       "      <td>Yes</td>\n",
       "      <td>No</td>\n",
       "      <td>DSL</td>\n",
       "      <td>No</td>\n",
       "      <td>...</td>\n",
       "      <td>Yes</td>\n",
       "      <td>Yes</td>\n",
       "      <td>No</td>\n",
       "      <td>No</td>\n",
       "      <td>Month-to-month</td>\n",
       "      <td>No</td>\n",
       "      <td>Credit card (automatic)</td>\n",
       "      <td>55.20</td>\n",
       "      <td>528.35</td>\n",
       "      <td>1</td>\n",
       "    </tr>\n",
       "    <tr>\n",
       "      <th>19</th>\n",
       "      <td>4183-MYFRB</td>\n",
       "      <td>Female</td>\n",
       "      <td>0</td>\n",
       "      <td>No</td>\n",
       "      <td>No</td>\n",
       "      <td>21</td>\n",
       "      <td>Yes</td>\n",
       "      <td>No</td>\n",
       "      <td>Fiber optic</td>\n",
       "      <td>No</td>\n",
       "      <td>...</td>\n",
       "      <td>Yes</td>\n",
       "      <td>No</td>\n",
       "      <td>No</td>\n",
       "      <td>Yes</td>\n",
       "      <td>Month-to-month</td>\n",
       "      <td>Yes</td>\n",
       "      <td>Electronic check</td>\n",
       "      <td>90.05</td>\n",
       "      <td>1862.90</td>\n",
       "      <td>0</td>\n",
       "    </tr>\n",
       "  </tbody>\n",
       "</table>\n",
       "<p>20 rows × 21 columns</p>\n",
       "</div>"
      ],
      "text/plain": [
       "    customerID  gender SeniorCitizen Partner Dependents  tenure PhoneService  \\\n",
       "0   7590-VHVEG  Female             0     Yes         No       1           No   \n",
       "1   5575-GNVDE    Male             0      No         No      34          Yes   \n",
       "2   3668-QPYBK    Male             0      No         No       2          Yes   \n",
       "3   7795-CFOCW    Male             0      No         No      45           No   \n",
       "4   9237-HQITU  Female             0      No         No       2          Yes   \n",
       "5   9305-CDSKC  Female             0      No         No       8          Yes   \n",
       "6   1452-KIOVK    Male             0      No        Yes      22          Yes   \n",
       "7   6713-OKOMC  Female             0      No         No      10           No   \n",
       "8   7892-POOKP  Female             0     Yes         No      28          Yes   \n",
       "9   6388-TABGU    Male             0      No        Yes      62          Yes   \n",
       "10  9763-GRSKD    Male             0     Yes        Yes      13          Yes   \n",
       "11  7469-LKBCI    Male             0      No         No      16          Yes   \n",
       "12  8091-TTVAX    Male             0     Yes         No      58          Yes   \n",
       "13  0280-XJGEX    Male             0      No         No      49          Yes   \n",
       "14  5129-JLPIS    Male             0      No         No      25          Yes   \n",
       "15  3655-SNQYZ  Female             0     Yes        Yes      69          Yes   \n",
       "16  8191-XWSZG  Female             0      No         No      52          Yes   \n",
       "17  9959-WOFKT    Male             0      No        Yes      71          Yes   \n",
       "18  4190-MFLUW  Female             0     Yes        Yes      10          Yes   \n",
       "19  4183-MYFRB  Female             0      No         No      21          Yes   \n",
       "\n",
       "       MultipleLines InternetService       OnlineSecurity  ...  \\\n",
       "0   No phone service             DSL                   No  ...   \n",
       "1                 No             DSL                  Yes  ...   \n",
       "2                 No             DSL                  Yes  ...   \n",
       "3   No phone service             DSL                  Yes  ...   \n",
       "4                 No     Fiber optic                   No  ...   \n",
       "5                Yes     Fiber optic                   No  ...   \n",
       "6                Yes     Fiber optic                   No  ...   \n",
       "7   No phone service             DSL                  Yes  ...   \n",
       "8                Yes     Fiber optic                   No  ...   \n",
       "9                 No             DSL                  Yes  ...   \n",
       "10                No             DSL                  Yes  ...   \n",
       "11                No              No  No internet service  ...   \n",
       "12               Yes     Fiber optic                   No  ...   \n",
       "13               Yes     Fiber optic                   No  ...   \n",
       "14                No     Fiber optic                  Yes  ...   \n",
       "15               Yes     Fiber optic                  Yes  ...   \n",
       "16                No              No  No internet service  ...   \n",
       "17               Yes     Fiber optic                  Yes  ...   \n",
       "18                No             DSL                   No  ...   \n",
       "19                No     Fiber optic                   No  ...   \n",
       "\n",
       "       DeviceProtection          TechSupport          StreamingTV  \\\n",
       "0                    No                   No                   No   \n",
       "1                   Yes                   No                   No   \n",
       "2                    No                   No                   No   \n",
       "3                   Yes                  Yes                   No   \n",
       "4                    No                   No                   No   \n",
       "5                   Yes                   No                  Yes   \n",
       "6                    No                   No                  Yes   \n",
       "7                    No                   No                   No   \n",
       "8                   Yes                  Yes                  Yes   \n",
       "9                    No                   No                   No   \n",
       "10                   No                   No                   No   \n",
       "11  No internet service  No internet service  No internet service   \n",
       "12                  Yes                   No                  Yes   \n",
       "13                  Yes                   No                  Yes   \n",
       "14                  Yes                  Yes                  Yes   \n",
       "15                  Yes                  Yes                  Yes   \n",
       "16  No internet service  No internet service  No internet service   \n",
       "17                  Yes                   No                  Yes   \n",
       "18                  Yes                  Yes                   No   \n",
       "19                  Yes                   No                   No   \n",
       "\n",
       "        StreamingMovies        Contract PaperlessBilling  \\\n",
       "0                    No  Month-to-month              Yes   \n",
       "1                    No        One year               No   \n",
       "2                    No  Month-to-month              Yes   \n",
       "3                    No        One year               No   \n",
       "4                    No  Month-to-month              Yes   \n",
       "5                   Yes  Month-to-month              Yes   \n",
       "6                    No  Month-to-month              Yes   \n",
       "7                    No  Month-to-month               No   \n",
       "8                   Yes  Month-to-month              Yes   \n",
       "9                    No        One year               No   \n",
       "10                   No  Month-to-month              Yes   \n",
       "11  No internet service        Two year               No   \n",
       "12                  Yes        One year               No   \n",
       "13                  Yes  Month-to-month              Yes   \n",
       "14                  Yes  Month-to-month              Yes   \n",
       "15                  Yes        Two year               No   \n",
       "16  No internet service        One year               No   \n",
       "17                  Yes        Two year               No   \n",
       "18                   No  Month-to-month               No   \n",
       "19                  Yes  Month-to-month              Yes   \n",
       "\n",
       "                PaymentMethod MonthlyCharges  TotalCharges  Churn  \n",
       "0            Electronic check          29.85         29.85      0  \n",
       "1                Mailed check          56.95       1889.50      0  \n",
       "2                Mailed check          53.85        108.15      1  \n",
       "3   Bank transfer (automatic)          42.30       1840.75      0  \n",
       "4            Electronic check          70.70        151.65      1  \n",
       "5            Electronic check          99.65        820.50      1  \n",
       "6     Credit card (automatic)          89.10       1949.40      0  \n",
       "7                Mailed check          29.75        301.90      0  \n",
       "8            Electronic check         104.80       3046.05      1  \n",
       "9   Bank transfer (automatic)          56.15       3487.95      0  \n",
       "10               Mailed check          49.95        587.45      0  \n",
       "11    Credit card (automatic)          18.95        326.80      0  \n",
       "12    Credit card (automatic)         100.35       5681.10      0  \n",
       "13  Bank transfer (automatic)         103.70       5036.30      1  \n",
       "14           Electronic check         105.50       2686.05      0  \n",
       "15    Credit card (automatic)         113.25       7895.15      0  \n",
       "16               Mailed check          20.65       1022.95      0  \n",
       "17  Bank transfer (automatic)         106.70       7382.25      0  \n",
       "18    Credit card (automatic)          55.20        528.35      1  \n",
       "19           Electronic check          90.05       1862.90      0  \n",
       "\n",
       "[20 rows x 21 columns]"
      ]
     },
     "execution_count": 18,
     "metadata": {},
     "output_type": "execute_result"
    }
   ],
   "source": [
    "df.head(20)"
   ]
  },
  {
   "cell_type": "code",
   "execution_count": 19,
   "id": "9b117549",
   "metadata": {
    "execution": {
     "iopub.execute_input": "2023-12-28T17:41:21.705962Z",
     "iopub.status.busy": "2023-12-28T17:41:21.705095Z",
     "iopub.status.idle": "2023-12-28T17:41:21.716445Z",
     "shell.execute_reply": "2023-12-28T17:41:21.715648Z"
    },
    "papermill": {
     "duration": 0.032266,
     "end_time": "2023-12-28T17:41:21.718243",
     "exception": false,
     "start_time": "2023-12-28T17:41:21.685977",
     "status": "completed"
    },
    "tags": []
   },
   "outputs": [
    {
     "data": {
      "text/plain": [
       "customerID           0\n",
       "gender               0\n",
       "SeniorCitizen        0\n",
       "Partner              0\n",
       "Dependents           0\n",
       "tenure               0\n",
       "PhoneService         0\n",
       "MultipleLines        0\n",
       "InternetService      0\n",
       "OnlineSecurity       0\n",
       "OnlineBackup         0\n",
       "DeviceProtection     0\n",
       "TechSupport          0\n",
       "StreamingTV          0\n",
       "StreamingMovies      0\n",
       "Contract             0\n",
       "PaperlessBilling     0\n",
       "PaymentMethod        0\n",
       "MonthlyCharges       0\n",
       "TotalCharges        11\n",
       "Churn                0\n",
       "dtype: int64"
      ]
     },
     "execution_count": 19,
     "metadata": {},
     "output_type": "execute_result"
    }
   ],
   "source": [
    "df.isnull().sum()\n",
    "# the coad 'data.isnull().sum()' calculated the sum of the missing values in each columns of the dataset"
   ]
  },
  {
   "cell_type": "markdown",
   "id": "c6ea954c",
   "metadata": {
    "papermill": {
     "duration": 0.018859,
     "end_time": "2023-12-28T17:41:21.756899",
     "exception": false,
     "start_time": "2023-12-28T17:41:21.738040",
     "status": "completed"
    },
    "tags": []
   },
   "source": [
    "# Cheaking The Missing Values And Handling The MIssing Value"
   ]
  },
  {
   "cell_type": "code",
   "execution_count": 20,
   "id": "ae2e7a28",
   "metadata": {
    "execution": {
     "iopub.execute_input": "2023-12-28T17:41:21.795544Z",
     "iopub.status.busy": "2023-12-28T17:41:21.795198Z",
     "iopub.status.idle": "2023-12-28T17:41:21.826532Z",
     "shell.execute_reply": "2023-12-28T17:41:21.825689Z"
    },
    "papermill": {
     "duration": 0.052779,
     "end_time": "2023-12-28T17:41:21.828176",
     "exception": false,
     "start_time": "2023-12-28T17:41:21.775397",
     "status": "completed"
    },
    "tags": []
   },
   "outputs": [
    {
     "name": "stdout",
     "output_type": "stream",
     "text": [
      "Describe the missing data: \n"
     ]
    },
    {
     "data": {
      "text/html": [
       "<div>\n",
       "<style scoped>\n",
       "    .dataframe tbody tr th:only-of-type {\n",
       "        vertical-align: middle;\n",
       "    }\n",
       "\n",
       "    .dataframe tbody tr th {\n",
       "        vertical-align: top;\n",
       "    }\n",
       "\n",
       "    .dataframe thead th {\n",
       "        text-align: right;\n",
       "    }\n",
       "</style>\n",
       "<table border=\"1\" class=\"dataframe\">\n",
       "  <thead>\n",
       "    <tr style=\"text-align: right;\">\n",
       "      <th></th>\n",
       "      <th>tenure</th>\n",
       "      <th>MonthlyCharges</th>\n",
       "      <th>TotalCharges</th>\n",
       "    </tr>\n",
       "  </thead>\n",
       "  <tbody>\n",
       "    <tr>\n",
       "      <th>count</th>\n",
       "      <td>11.0</td>\n",
       "      <td>11.000000</td>\n",
       "      <td>0.0</td>\n",
       "    </tr>\n",
       "    <tr>\n",
       "      <th>mean</th>\n",
       "      <td>0.0</td>\n",
       "      <td>41.418182</td>\n",
       "      <td>NaN</td>\n",
       "    </tr>\n",
       "    <tr>\n",
       "      <th>std</th>\n",
       "      <td>0.0</td>\n",
       "      <td>23.831484</td>\n",
       "      <td>NaN</td>\n",
       "    </tr>\n",
       "    <tr>\n",
       "      <th>min</th>\n",
       "      <td>0.0</td>\n",
       "      <td>19.700000</td>\n",
       "      <td>NaN</td>\n",
       "    </tr>\n",
       "    <tr>\n",
       "      <th>25%</th>\n",
       "      <td>0.0</td>\n",
       "      <td>20.125000</td>\n",
       "      <td>NaN</td>\n",
       "    </tr>\n",
       "    <tr>\n",
       "      <th>50%</th>\n",
       "      <td>0.0</td>\n",
       "      <td>25.750000</td>\n",
       "      <td>NaN</td>\n",
       "    </tr>\n",
       "    <tr>\n",
       "      <th>75%</th>\n",
       "      <td>0.0</td>\n",
       "      <td>58.975000</td>\n",
       "      <td>NaN</td>\n",
       "    </tr>\n",
       "    <tr>\n",
       "      <th>max</th>\n",
       "      <td>0.0</td>\n",
       "      <td>80.850000</td>\n",
       "      <td>NaN</td>\n",
       "    </tr>\n",
       "  </tbody>\n",
       "</table>\n",
       "</div>"
      ],
      "text/plain": [
       "       tenure  MonthlyCharges  TotalCharges\n",
       "count    11.0       11.000000           0.0\n",
       "mean      0.0       41.418182           NaN\n",
       "std       0.0       23.831484           NaN\n",
       "min       0.0       19.700000           NaN\n",
       "25%       0.0       20.125000           NaN\n",
       "50%       0.0       25.750000           NaN\n",
       "75%       0.0       58.975000           NaN\n",
       "max       0.0       80.850000           NaN"
      ]
     },
     "metadata": {},
     "output_type": "display_data"
    },
    {
     "name": "stdout",
     "output_type": "stream",
     "text": [
      "\n",
      "Describe the non-missing data: \n"
     ]
    },
    {
     "data": {
      "text/html": [
       "<div>\n",
       "<style scoped>\n",
       "    .dataframe tbody tr th:only-of-type {\n",
       "        vertical-align: middle;\n",
       "    }\n",
       "\n",
       "    .dataframe tbody tr th {\n",
       "        vertical-align: top;\n",
       "    }\n",
       "\n",
       "    .dataframe thead th {\n",
       "        text-align: right;\n",
       "    }\n",
       "</style>\n",
       "<table border=\"1\" class=\"dataframe\">\n",
       "  <thead>\n",
       "    <tr style=\"text-align: right;\">\n",
       "      <th></th>\n",
       "      <th>tenure</th>\n",
       "      <th>MonthlyCharges</th>\n",
       "      <th>TotalCharges</th>\n",
       "    </tr>\n",
       "  </thead>\n",
       "  <tbody>\n",
       "    <tr>\n",
       "      <th>count</th>\n",
       "      <td>7032.000000</td>\n",
       "      <td>7032.000000</td>\n",
       "      <td>7032.000000</td>\n",
       "    </tr>\n",
       "    <tr>\n",
       "      <th>mean</th>\n",
       "      <td>32.421786</td>\n",
       "      <td>64.798208</td>\n",
       "      <td>2283.300441</td>\n",
       "    </tr>\n",
       "    <tr>\n",
       "      <th>std</th>\n",
       "      <td>24.545260</td>\n",
       "      <td>30.085974</td>\n",
       "      <td>2266.771362</td>\n",
       "    </tr>\n",
       "    <tr>\n",
       "      <th>min</th>\n",
       "      <td>1.000000</td>\n",
       "      <td>18.250000</td>\n",
       "      <td>18.800000</td>\n",
       "    </tr>\n",
       "    <tr>\n",
       "      <th>25%</th>\n",
       "      <td>9.000000</td>\n",
       "      <td>35.587500</td>\n",
       "      <td>401.450000</td>\n",
       "    </tr>\n",
       "    <tr>\n",
       "      <th>50%</th>\n",
       "      <td>29.000000</td>\n",
       "      <td>70.350000</td>\n",
       "      <td>1397.475000</td>\n",
       "    </tr>\n",
       "    <tr>\n",
       "      <th>75%</th>\n",
       "      <td>55.000000</td>\n",
       "      <td>89.862500</td>\n",
       "      <td>3794.737500</td>\n",
       "    </tr>\n",
       "    <tr>\n",
       "      <th>max</th>\n",
       "      <td>72.000000</td>\n",
       "      <td>118.750000</td>\n",
       "      <td>8684.800000</td>\n",
       "    </tr>\n",
       "  </tbody>\n",
       "</table>\n",
       "</div>"
      ],
      "text/plain": [
       "            tenure  MonthlyCharges  TotalCharges\n",
       "count  7032.000000     7032.000000   7032.000000\n",
       "mean     32.421786       64.798208   2283.300441\n",
       "std      24.545260       30.085974   2266.771362\n",
       "min       1.000000       18.250000     18.800000\n",
       "25%       9.000000       35.587500    401.450000\n",
       "50%      29.000000       70.350000   1397.475000\n",
       "75%      55.000000       89.862500   3794.737500\n",
       "max      72.000000      118.750000   8684.800000"
      ]
     },
     "metadata": {},
     "output_type": "display_data"
    }
   ],
   "source": [
    "# cheaking missing values..\n",
    "data_missing_TotalCharges=df[df['TotalCharges'].isnull()]\n",
    "data_not_missing_TotalCharges=df[~df['TotalCharges'].isnull()]\n",
    "print(\"Describe the missing data: \")\n",
    "display(data_missing_TotalCharges.describe())\n",
    "print(\"\\nDescribe the non-missing data: \")\n",
    "display(data_not_missing_TotalCharges.describe())"
   ]
  },
  {
   "cell_type": "code",
   "execution_count": 21,
   "id": "9dded4bf",
   "metadata": {
    "execution": {
     "iopub.execute_input": "2023-12-28T17:41:21.868888Z",
     "iopub.status.busy": "2023-12-28T17:41:21.868288Z",
     "iopub.status.idle": "2023-12-28T17:41:21.873341Z",
     "shell.execute_reply": "2023-12-28T17:41:21.872756Z"
    },
    "papermill": {
     "duration": 0.027044,
     "end_time": "2023-12-28T17:41:21.874970",
     "exception": false,
     "start_time": "2023-12-28T17:41:21.847926",
     "status": "completed"
    },
    "tags": []
   },
   "outputs": [],
   "source": [
    "# handling missing data\n",
    "# fill na with the median\n",
    "numeric_columns=['TotalCharges']\n",
    "for nc in numeric_columns:\n",
    "    df.loc[df[nc].isnull(),nc]=df[nc].mean()"
   ]
  },
  {
   "cell_type": "code",
   "execution_count": 22,
   "id": "6d126e5a",
   "metadata": {
    "execution": {
     "iopub.execute_input": "2023-12-28T17:41:21.916271Z",
     "iopub.status.busy": "2023-12-28T17:41:21.915485Z",
     "iopub.status.idle": "2023-12-28T17:41:21.926633Z",
     "shell.execute_reply": "2023-12-28T17:41:21.925900Z"
    },
    "papermill": {
     "duration": 0.034173,
     "end_time": "2023-12-28T17:41:21.928334",
     "exception": false,
     "start_time": "2023-12-28T17:41:21.894161",
     "status": "completed"
    },
    "tags": []
   },
   "outputs": [
    {
     "data": {
      "text/plain": [
       "customerID          0\n",
       "gender              0\n",
       "SeniorCitizen       0\n",
       "Partner             0\n",
       "Dependents          0\n",
       "tenure              0\n",
       "PhoneService        0\n",
       "MultipleLines       0\n",
       "InternetService     0\n",
       "OnlineSecurity      0\n",
       "OnlineBackup        0\n",
       "DeviceProtection    0\n",
       "TechSupport         0\n",
       "StreamingTV         0\n",
       "StreamingMovies     0\n",
       "Contract            0\n",
       "PaperlessBilling    0\n",
       "PaymentMethod       0\n",
       "MonthlyCharges      0\n",
       "TotalCharges        0\n",
       "Churn               0\n",
       "dtype: int64"
      ]
     },
     "execution_count": 22,
     "metadata": {},
     "output_type": "execute_result"
    }
   ],
   "source": [
    "df.isnull().sum()"
   ]
  },
  {
   "cell_type": "code",
   "execution_count": 23,
   "id": "f7724a76",
   "metadata": {
    "execution": {
     "iopub.execute_input": "2023-12-28T17:41:21.969966Z",
     "iopub.status.busy": "2023-12-28T17:41:21.969390Z",
     "iopub.status.idle": "2023-12-28T17:41:21.974889Z",
     "shell.execute_reply": "2023-12-28T17:41:21.974254Z"
    },
    "papermill": {
     "duration": 0.027874,
     "end_time": "2023-12-28T17:41:21.976542",
     "exception": false,
     "start_time": "2023-12-28T17:41:21.948668",
     "status": "completed"
    },
    "tags": []
   },
   "outputs": [
    {
     "data": {
      "text/plain": [
       "Index(['customerID', 'gender', 'SeniorCitizen', 'Partner', 'Dependents',\n",
       "       'tenure', 'PhoneService', 'MultipleLines', 'InternetService',\n",
       "       'OnlineSecurity', 'OnlineBackup', 'DeviceProtection', 'TechSupport',\n",
       "       'StreamingTV', 'StreamingMovies', 'Contract', 'PaperlessBilling',\n",
       "       'PaymentMethod', 'MonthlyCharges', 'TotalCharges', 'Churn'],\n",
       "      dtype='object')"
      ]
     },
     "execution_count": 23,
     "metadata": {},
     "output_type": "execute_result"
    }
   ],
   "source": [
    "df.columns"
   ]
  },
  {
   "cell_type": "markdown",
   "id": "4006bdef",
   "metadata": {
    "papermill": {
     "duration": 0.020145,
     "end_time": "2023-12-28T17:41:22.016724",
     "exception": false,
     "start_time": "2023-12-28T17:41:21.996579",
     "status": "completed"
    },
    "tags": []
   },
   "source": [
    "# Drop CustomerId Column"
   ]
  },
  {
   "cell_type": "code",
   "execution_count": 24,
   "id": "7d99d9ca",
   "metadata": {
    "execution": {
     "iopub.execute_input": "2023-12-28T17:41:22.058921Z",
     "iopub.status.busy": "2023-12-28T17:41:22.058286Z",
     "iopub.status.idle": "2023-12-28T17:41:22.065825Z",
     "shell.execute_reply": "2023-12-28T17:41:22.065160Z"
    },
    "papermill": {
     "duration": 0.030923,
     "end_time": "2023-12-28T17:41:22.067724",
     "exception": false,
     "start_time": "2023-12-28T17:41:22.036801",
     "status": "completed"
    },
    "tags": []
   },
   "outputs": [],
   "source": [
    "df=df.drop(['customerID'],axis=1)"
   ]
  },
  {
   "cell_type": "code",
   "execution_count": 25,
   "id": "2549cd83",
   "metadata": {
    "execution": {
     "iopub.execute_input": "2023-12-28T17:41:22.110174Z",
     "iopub.status.busy": "2023-12-28T17:41:22.109591Z",
     "iopub.status.idle": "2023-12-28T17:41:22.123536Z",
     "shell.execute_reply": "2023-12-28T17:41:22.122479Z"
    },
    "papermill": {
     "duration": 0.037202,
     "end_time": "2023-12-28T17:41:22.125486",
     "exception": false,
     "start_time": "2023-12-28T17:41:22.088284",
     "status": "completed"
    },
    "tags": []
   },
   "outputs": [
    {
     "name": "stdout",
     "output_type": "stream",
     "text": [
      "<class 'pandas.core.frame.DataFrame'>\n",
      "RangeIndex: 7043 entries, 0 to 7042\n",
      "Data columns (total 20 columns):\n",
      " #   Column            Non-Null Count  Dtype   \n",
      "---  ------            --------------  -----   \n",
      " 0   gender            7043 non-null   object  \n",
      " 1   SeniorCitizen     7043 non-null   category\n",
      " 2   Partner           7043 non-null   object  \n",
      " 3   Dependents        7043 non-null   object  \n",
      " 4   tenure            7043 non-null   int64   \n",
      " 5   PhoneService      7043 non-null   object  \n",
      " 6   MultipleLines     7043 non-null   object  \n",
      " 7   InternetService   7043 non-null   object  \n",
      " 8   OnlineSecurity    7043 non-null   object  \n",
      " 9   OnlineBackup      7043 non-null   object  \n",
      " 10  DeviceProtection  7043 non-null   object  \n",
      " 11  TechSupport       7043 non-null   object  \n",
      " 12  StreamingTV       7043 non-null   object  \n",
      " 13  StreamingMovies   7043 non-null   object  \n",
      " 14  Contract          7043 non-null   object  \n",
      " 15  PaperlessBilling  7043 non-null   object  \n",
      " 16  PaymentMethod     7043 non-null   object  \n",
      " 17  MonthlyCharges    7043 non-null   float64 \n",
      " 18  TotalCharges      7043 non-null   float64 \n",
      " 19  Churn             7043 non-null   object  \n",
      "dtypes: category(1), float64(2), int64(1), object(16)\n",
      "memory usage: 1.0+ MB\n"
     ]
    }
   ],
   "source": [
    "df.info()"
   ]
  },
  {
   "cell_type": "code",
   "execution_count": 26,
   "id": "d4c9a597",
   "metadata": {
    "execution": {
     "iopub.execute_input": "2023-12-28T17:41:22.168828Z",
     "iopub.status.busy": "2023-12-28T17:41:22.168513Z",
     "iopub.status.idle": "2023-12-28T17:41:22.174849Z",
     "shell.execute_reply": "2023-12-28T17:41:22.173646Z"
    },
    "papermill": {
     "duration": 0.030704,
     "end_time": "2023-12-28T17:41:22.176609",
     "exception": false,
     "start_time": "2023-12-28T17:41:22.145905",
     "status": "completed"
    },
    "tags": []
   },
   "outputs": [
    {
     "data": {
      "text/plain": [
       "Index(['gender', 'SeniorCitizen', 'Partner', 'Dependents', 'tenure',\n",
       "       'PhoneService', 'MultipleLines', 'InternetService', 'OnlineSecurity',\n",
       "       'OnlineBackup', 'DeviceProtection', 'TechSupport', 'StreamingTV',\n",
       "       'StreamingMovies', 'Contract', 'PaperlessBilling', 'PaymentMethod',\n",
       "       'MonthlyCharges', 'TotalCharges', 'Churn'],\n",
       "      dtype='object')"
      ]
     },
     "execution_count": 26,
     "metadata": {},
     "output_type": "execute_result"
    }
   ],
   "source": [
    "df.columns"
   ]
  },
  {
   "cell_type": "markdown",
   "id": "9d6daf5c",
   "metadata": {
    "papermill": {
     "duration": 0.018748,
     "end_time": "2023-12-28T17:41:22.215395",
     "exception": false,
     "start_time": "2023-12-28T17:41:22.196647",
     "status": "completed"
    },
    "tags": []
   },
   "source": [
    "# outliers analysis with IQR method"
   ]
  },
  {
   "cell_type": "code",
   "execution_count": 27,
   "id": "4f63fa8b",
   "metadata": {
    "execution": {
     "iopub.execute_input": "2023-12-28T17:41:22.256274Z",
     "iopub.status.busy": "2023-12-28T17:41:22.255475Z",
     "iopub.status.idle": "2023-12-28T17:41:22.271665Z",
     "shell.execute_reply": "2023-12-28T17:41:22.270564Z"
    },
    "papermill": {
     "duration": 0.038669,
     "end_time": "2023-12-28T17:41:22.273372",
     "exception": false,
     "start_time": "2023-12-28T17:41:22.234703",
     "status": "completed"
    },
    "tags": []
   },
   "outputs": [
    {
     "name": "stdout",
     "output_type": "stream",
     "text": [
      "NO OUTLIERS IN tenure\n",
      "NO OUTLIERS IN MonthlyCharges\n",
      "NO OUTLIERS IN TotalCharges\n"
     ]
    }
   ],
   "source": [
    "x = ['tenure','MonthlyCharges','TotalCharges']\n",
    "def count_outliers(data,col):\n",
    "    q1=data[col].quantile(0.25,interpolation='nearest')\n",
    "    q2=data[col].quantile(0.5,interpolation='nearest')\n",
    "    q3=data[col].quantile(0.75,interpolation='nearest')\n",
    "    q4=data[col].quantile(1,interpolation='nearest')\n",
    "    IQR = q3-q1\n",
    "    global LLP\n",
    "    global ULP\n",
    "    LLP =q1 -1.5*IQR\n",
    "    ULP = q3+ 1.5*IQR\n",
    "    if data[col].min()>LLP and data[col].max()<ULP:\n",
    "        print(\"NO OUTLIERS IN\",i)\n",
    "    else:\n",
    "        print(\"THERE ARE OUTLIERS IN \",i)\n",
    "        x = data[data[col]<LLP][col].size\n",
    "        y = data[data[col]>UPL][col].size\n",
    "        a.append(i)\n",
    "        print(\"Count of outliers are\",x=y)\n",
    "global a \n",
    "a = []\n",
    "for i in x:\n",
    "    count_outliers(df,i)"
   ]
  },
  {
   "cell_type": "markdown",
   "id": "d972ec60",
   "metadata": {
    "papermill": {
     "duration": 0.019019,
     "end_time": "2023-12-28T17:41:22.312973",
     "exception": false,
     "start_time": "2023-12-28T17:41:22.293954",
     "status": "completed"
    },
    "tags": []
   },
   "source": [
    "DATA VIS"
   ]
  },
  {
   "cell_type": "code",
   "execution_count": 28,
   "id": "c72a9063",
   "metadata": {
    "execution": {
     "iopub.execute_input": "2023-12-28T17:41:22.353732Z",
     "iopub.status.busy": "2023-12-28T17:41:22.352744Z",
     "iopub.status.idle": "2023-12-28T17:41:23.601785Z",
     "shell.execute_reply": "2023-12-28T17:41:23.600815Z"
    },
    "papermill": {
     "duration": 1.271265,
     "end_time": "2023-12-28T17:41:23.603760",
     "exception": false,
     "start_time": "2023-12-28T17:41:22.332495",
     "status": "completed"
    },
    "tags": []
   },
   "outputs": [
    {
     "data": {
      "text/html": [
       "        <script type=\"text/javascript\">\n",
       "        window.PlotlyConfig = {MathJaxConfig: 'local'};\n",
       "        if (window.MathJax && window.MathJax.Hub && window.MathJax.Hub.Config) {window.MathJax.Hub.Config({SVG: {font: \"STIX-Web\"}});}\n",
       "        if (typeof require !== 'undefined') {\n",
       "        require.undef(\"plotly\");\n",
       "        requirejs.config({\n",
       "            paths: {\n",
       "                'plotly': ['https://cdn.plot.ly/plotly-2.25.2.min']\n",
       "            }\n",
       "        });\n",
       "        require(['plotly'], function(Plotly) {\n",
       "            window._Plotly = Plotly;\n",
       "        });\n",
       "        }\n",
       "        </script>\n",
       "        "
      ]
     },
     "metadata": {},
     "output_type": "display_data"
    },
    {
     "data": {
      "text/html": [
       "<div>                            <div id=\"5dc7bdb2-9a2d-4572-8bd4-ac541f7f879a\" class=\"plotly-graph-div\" style=\"height:525px; width:100%;\"></div>            <script type=\"text/javascript\">                require([\"plotly\"], function(Plotly) {                    window.PLOTLYENV=window.PLOTLYENV || {};                                    if (document.getElementById(\"5dc7bdb2-9a2d-4572-8bd4-ac541f7f879a\")) {                    Plotly.newPlot(                        \"5dc7bdb2-9a2d-4572-8bd4-ac541f7f879a\",                        [{\"hole\":0.6,\"hoverinfo\":\"label+value+text\",\"labels\":[\"0\",\"1\"],\"marker\":{\"colors\":[\"Red\",\"Green\"],\"line\":{\"color\":\"White\",\"width\":1.5}},\"rotation\":90,\"values\":[5174,1869],\"type\":\"pie\"}],                        {\"paper_bgcolor\":\"rgb(243,243,243)\",\"plot_bgcolor\":\"rgb(243,243,243)\",\"template\":{\"data\":{\"barpolar\":[{\"marker\":{\"line\":{\"color\":\"#E5ECF6\",\"width\":0.5},\"pattern\":{\"fillmode\":\"overlay\",\"size\":10,\"solidity\":0.2}},\"type\":\"barpolar\"}],\"bar\":[{\"error_x\":{\"color\":\"#2a3f5f\"},\"error_y\":{\"color\":\"#2a3f5f\"},\"marker\":{\"line\":{\"color\":\"#E5ECF6\",\"width\":0.5},\"pattern\":{\"fillmode\":\"overlay\",\"size\":10,\"solidity\":0.2}},\"type\":\"bar\"}],\"carpet\":[{\"aaxis\":{\"endlinecolor\":\"#2a3f5f\",\"gridcolor\":\"white\",\"linecolor\":\"white\",\"minorgridcolor\":\"white\",\"startlinecolor\":\"#2a3f5f\"},\"baxis\":{\"endlinecolor\":\"#2a3f5f\",\"gridcolor\":\"white\",\"linecolor\":\"white\",\"minorgridcolor\":\"white\",\"startlinecolor\":\"#2a3f5f\"},\"type\":\"carpet\"}],\"choropleth\":[{\"colorbar\":{\"outlinewidth\":0,\"ticks\":\"\"},\"type\":\"choropleth\"}],\"contourcarpet\":[{\"colorbar\":{\"outlinewidth\":0,\"ticks\":\"\"},\"type\":\"contourcarpet\"}],\"contour\":[{\"colorbar\":{\"outlinewidth\":0,\"ticks\":\"\"},\"colorscale\":[[0.0,\"#0d0887\"],[0.1111111111111111,\"#46039f\"],[0.2222222222222222,\"#7201a8\"],[0.3333333333333333,\"#9c179e\"],[0.4444444444444444,\"#bd3786\"],[0.5555555555555556,\"#d8576b\"],[0.6666666666666666,\"#ed7953\"],[0.7777777777777778,\"#fb9f3a\"],[0.8888888888888888,\"#fdca26\"],[1.0,\"#f0f921\"]],\"type\":\"contour\"}],\"heatmapgl\":[{\"colorbar\":{\"outlinewidth\":0,\"ticks\":\"\"},\"colorscale\":[[0.0,\"#0d0887\"],[0.1111111111111111,\"#46039f\"],[0.2222222222222222,\"#7201a8\"],[0.3333333333333333,\"#9c179e\"],[0.4444444444444444,\"#bd3786\"],[0.5555555555555556,\"#d8576b\"],[0.6666666666666666,\"#ed7953\"],[0.7777777777777778,\"#fb9f3a\"],[0.8888888888888888,\"#fdca26\"],[1.0,\"#f0f921\"]],\"type\":\"heatmapgl\"}],\"heatmap\":[{\"colorbar\":{\"outlinewidth\":0,\"ticks\":\"\"},\"colorscale\":[[0.0,\"#0d0887\"],[0.1111111111111111,\"#46039f\"],[0.2222222222222222,\"#7201a8\"],[0.3333333333333333,\"#9c179e\"],[0.4444444444444444,\"#bd3786\"],[0.5555555555555556,\"#d8576b\"],[0.6666666666666666,\"#ed7953\"],[0.7777777777777778,\"#fb9f3a\"],[0.8888888888888888,\"#fdca26\"],[1.0,\"#f0f921\"]],\"type\":\"heatmap\"}],\"histogram2dcontour\":[{\"colorbar\":{\"outlinewidth\":0,\"ticks\":\"\"},\"colorscale\":[[0.0,\"#0d0887\"],[0.1111111111111111,\"#46039f\"],[0.2222222222222222,\"#7201a8\"],[0.3333333333333333,\"#9c179e\"],[0.4444444444444444,\"#bd3786\"],[0.5555555555555556,\"#d8576b\"],[0.6666666666666666,\"#ed7953\"],[0.7777777777777778,\"#fb9f3a\"],[0.8888888888888888,\"#fdca26\"],[1.0,\"#f0f921\"]],\"type\":\"histogram2dcontour\"}],\"histogram2d\":[{\"colorbar\":{\"outlinewidth\":0,\"ticks\":\"\"},\"colorscale\":[[0.0,\"#0d0887\"],[0.1111111111111111,\"#46039f\"],[0.2222222222222222,\"#7201a8\"],[0.3333333333333333,\"#9c179e\"],[0.4444444444444444,\"#bd3786\"],[0.5555555555555556,\"#d8576b\"],[0.6666666666666666,\"#ed7953\"],[0.7777777777777778,\"#fb9f3a\"],[0.8888888888888888,\"#fdca26\"],[1.0,\"#f0f921\"]],\"type\":\"histogram2d\"}],\"histogram\":[{\"marker\":{\"pattern\":{\"fillmode\":\"overlay\",\"size\":10,\"solidity\":0.2}},\"type\":\"histogram\"}],\"mesh3d\":[{\"colorbar\":{\"outlinewidth\":0,\"ticks\":\"\"},\"type\":\"mesh3d\"}],\"parcoords\":[{\"line\":{\"colorbar\":{\"outlinewidth\":0,\"ticks\":\"\"}},\"type\":\"parcoords\"}],\"pie\":[{\"automargin\":true,\"type\":\"pie\"}],\"scatter3d\":[{\"line\":{\"colorbar\":{\"outlinewidth\":0,\"ticks\":\"\"}},\"marker\":{\"colorbar\":{\"outlinewidth\":0,\"ticks\":\"\"}},\"type\":\"scatter3d\"}],\"scattercarpet\":[{\"marker\":{\"colorbar\":{\"outlinewidth\":0,\"ticks\":\"\"}},\"type\":\"scattercarpet\"}],\"scattergeo\":[{\"marker\":{\"colorbar\":{\"outlinewidth\":0,\"ticks\":\"\"}},\"type\":\"scattergeo\"}],\"scattergl\":[{\"marker\":{\"colorbar\":{\"outlinewidth\":0,\"ticks\":\"\"}},\"type\":\"scattergl\"}],\"scattermapbox\":[{\"marker\":{\"colorbar\":{\"outlinewidth\":0,\"ticks\":\"\"}},\"type\":\"scattermapbox\"}],\"scatterpolargl\":[{\"marker\":{\"colorbar\":{\"outlinewidth\":0,\"ticks\":\"\"}},\"type\":\"scatterpolargl\"}],\"scatterpolar\":[{\"marker\":{\"colorbar\":{\"outlinewidth\":0,\"ticks\":\"\"}},\"type\":\"scatterpolar\"}],\"scatter\":[{\"fillpattern\":{\"fillmode\":\"overlay\",\"size\":10,\"solidity\":0.2},\"type\":\"scatter\"}],\"scatterternary\":[{\"marker\":{\"colorbar\":{\"outlinewidth\":0,\"ticks\":\"\"}},\"type\":\"scatterternary\"}],\"surface\":[{\"colorbar\":{\"outlinewidth\":0,\"ticks\":\"\"},\"colorscale\":[[0.0,\"#0d0887\"],[0.1111111111111111,\"#46039f\"],[0.2222222222222222,\"#7201a8\"],[0.3333333333333333,\"#9c179e\"],[0.4444444444444444,\"#bd3786\"],[0.5555555555555556,\"#d8576b\"],[0.6666666666666666,\"#ed7953\"],[0.7777777777777778,\"#fb9f3a\"],[0.8888888888888888,\"#fdca26\"],[1.0,\"#f0f921\"]],\"type\":\"surface\"}],\"table\":[{\"cells\":{\"fill\":{\"color\":\"#EBF0F8\"},\"line\":{\"color\":\"white\"}},\"header\":{\"fill\":{\"color\":\"#C8D4E3\"},\"line\":{\"color\":\"white\"}},\"type\":\"table\"}]},\"layout\":{\"annotationdefaults\":{\"arrowcolor\":\"#2a3f5f\",\"arrowhead\":0,\"arrowwidth\":1},\"autotypenumbers\":\"strict\",\"coloraxis\":{\"colorbar\":{\"outlinewidth\":0,\"ticks\":\"\"}},\"colorscale\":{\"diverging\":[[0,\"#8e0152\"],[0.1,\"#c51b7d\"],[0.2,\"#de77ae\"],[0.3,\"#f1b6da\"],[0.4,\"#fde0ef\"],[0.5,\"#f7f7f7\"],[0.6,\"#e6f5d0\"],[0.7,\"#b8e186\"],[0.8,\"#7fbc41\"],[0.9,\"#4d9221\"],[1,\"#276419\"]],\"sequential\":[[0.0,\"#0d0887\"],[0.1111111111111111,\"#46039f\"],[0.2222222222222222,\"#7201a8\"],[0.3333333333333333,\"#9c179e\"],[0.4444444444444444,\"#bd3786\"],[0.5555555555555556,\"#d8576b\"],[0.6666666666666666,\"#ed7953\"],[0.7777777777777778,\"#fb9f3a\"],[0.8888888888888888,\"#fdca26\"],[1.0,\"#f0f921\"]],\"sequentialminus\":[[0.0,\"#0d0887\"],[0.1111111111111111,\"#46039f\"],[0.2222222222222222,\"#7201a8\"],[0.3333333333333333,\"#9c179e\"],[0.4444444444444444,\"#bd3786\"],[0.5555555555555556,\"#d8576b\"],[0.6666666666666666,\"#ed7953\"],[0.7777777777777778,\"#fb9f3a\"],[0.8888888888888888,\"#fdca26\"],[1.0,\"#f0f921\"]]},\"colorway\":[\"#636efa\",\"#EF553B\",\"#00cc96\",\"#ab63fa\",\"#FFA15A\",\"#19d3f3\",\"#FF6692\",\"#B6E880\",\"#FF97FF\",\"#FECB52\"],\"font\":{\"color\":\"#2a3f5f\"},\"geo\":{\"bgcolor\":\"white\",\"lakecolor\":\"white\",\"landcolor\":\"#E5ECF6\",\"showlakes\":true,\"showland\":true,\"subunitcolor\":\"white\"},\"hoverlabel\":{\"align\":\"left\"},\"hovermode\":\"closest\",\"mapbox\":{\"style\":\"light\"},\"paper_bgcolor\":\"white\",\"plot_bgcolor\":\"#E5ECF6\",\"polar\":{\"angularaxis\":{\"gridcolor\":\"white\",\"linecolor\":\"white\",\"ticks\":\"\"},\"bgcolor\":\"#E5ECF6\",\"radialaxis\":{\"gridcolor\":\"white\",\"linecolor\":\"white\",\"ticks\":\"\"}},\"scene\":{\"xaxis\":{\"backgroundcolor\":\"#E5ECF6\",\"gridcolor\":\"white\",\"gridwidth\":2,\"linecolor\":\"white\",\"showbackground\":true,\"ticks\":\"\",\"zerolinecolor\":\"white\"},\"yaxis\":{\"backgroundcolor\":\"#E5ECF6\",\"gridcolor\":\"white\",\"gridwidth\":2,\"linecolor\":\"white\",\"showbackground\":true,\"ticks\":\"\",\"zerolinecolor\":\"white\"},\"zaxis\":{\"backgroundcolor\":\"#E5ECF6\",\"gridcolor\":\"white\",\"gridwidth\":2,\"linecolor\":\"white\",\"showbackground\":true,\"ticks\":\"\",\"zerolinecolor\":\"white\"}},\"shapedefaults\":{\"line\":{\"color\":\"#2a3f5f\"}},\"ternary\":{\"aaxis\":{\"gridcolor\":\"white\",\"linecolor\":\"white\",\"ticks\":\"\"},\"baxis\":{\"gridcolor\":\"white\",\"linecolor\":\"white\",\"ticks\":\"\"},\"bgcolor\":\"#E5ECF6\",\"caxis\":{\"gridcolor\":\"white\",\"linecolor\":\"white\",\"ticks\":\"\"}},\"title\":{\"x\":0.05},\"xaxis\":{\"automargin\":true,\"gridcolor\":\"white\",\"linecolor\":\"white\",\"ticks\":\"\",\"title\":{\"standoff\":15},\"zerolinecolor\":\"white\",\"zerolinewidth\":2},\"yaxis\":{\"automargin\":true,\"gridcolor\":\"white\",\"linecolor\":\"white\",\"ticks\":\"\",\"title\":{\"standoff\":15},\"zerolinecolor\":\"white\",\"zerolinewidth\":2}}},\"title\":{\"text\":\"Customer Churn\"}},                        {\"responsive\": true}                    ).then(function(){\n",
       "                            \n",
       "var gd = document.getElementById('5dc7bdb2-9a2d-4572-8bd4-ac541f7f879a');\n",
       "var x = new MutationObserver(function (mutations, observer) {{\n",
       "        var display = window.getComputedStyle(gd).display;\n",
       "        if (!display || display === 'none') {{\n",
       "            console.log([gd, 'removed!']);\n",
       "            Plotly.purge(gd);\n",
       "            observer.disconnect();\n",
       "        }}\n",
       "}});\n",
       "\n",
       "// Listen for the removal of the full notebook cells\n",
       "var notebookContainer = gd.closest('#notebook-container');\n",
       "if (notebookContainer) {{\n",
       "    x.observe(notebookContainer, {childList: true});\n",
       "}}\n",
       "\n",
       "// Listen for the clearing of the current output cell\n",
       "var outputEl = gd.closest('.output');\n",
       "if (outputEl) {{\n",
       "    x.observe(outputEl, {childList: true});\n",
       "}}\n",
       "\n",
       "                        })                };                });            </script>        </div>"
      ]
     },
     "metadata": {},
     "output_type": "display_data"
    }
   ],
   "source": [
    "plot_by_churn_labels = df [\"Churn\"].value_counts().keys().tolist()\n",
    "plot_by_churn_values = df [\"Churn\"].value_counts().values.tolist()\n",
    "\n",
    "plot_data=[\n",
    "    go.Pie(labels=plot_by_churn_labels,\n",
    "           values=plot_by_churn_values,\n",
    "          marker=dict(colors=['Red','Green'],\n",
    "                     line = dict(color=\"White\",\n",
    "                                width=1.5)),\n",
    "           rotation=90,\n",
    "           hoverinfo=\"label+value+text\",\n",
    "           hole=.6)\n",
    "]\n",
    "plot_layout = go.Layout(dict(title=\"Customer Churn\",\n",
    "                    plot_bgcolor=\"rgb(243,243,243)\",\n",
    "                    paper_bgcolor=\"rgb(243,243,243)\",))\n",
    "fig=go.Figure(data = plot_data, layout = plot_layout)\n",
    "po.iplot(fig)"
   ]
  },
  {
   "cell_type": "code",
   "execution_count": 29,
   "id": "c5996713",
   "metadata": {
    "execution": {
     "iopub.execute_input": "2023-12-28T17:41:23.647791Z",
     "iopub.status.busy": "2023-12-28T17:41:23.646742Z",
     "iopub.status.idle": "2023-12-28T17:41:23.654560Z",
     "shell.execute_reply": "2023-12-28T17:41:23.653694Z"
    },
    "papermill": {
     "duration": 0.032203,
     "end_time": "2023-12-28T17:41:23.656212",
     "exception": false,
     "start_time": "2023-12-28T17:41:23.624009",
     "status": "completed"
    },
    "tags": []
   },
   "outputs": [
    {
     "data": {
      "text/plain": [
       "Churn\n",
       "0    5174\n",
       "1    1869\n",
       "Name: count, dtype: int64"
      ]
     },
     "execution_count": 29,
     "metadata": {},
     "output_type": "execute_result"
    }
   ],
   "source": [
    "df['Churn'].value_counts()"
   ]
  },
  {
   "cell_type": "code",
   "execution_count": 30,
   "id": "795cccd0",
   "metadata": {
    "execution": {
     "iopub.execute_input": "2023-12-28T17:41:23.696907Z",
     "iopub.status.busy": "2023-12-28T17:41:23.696614Z",
     "iopub.status.idle": "2023-12-28T17:41:23.963504Z",
     "shell.execute_reply": "2023-12-28T17:41:23.962677Z"
    },
    "papermill": {
     "duration": 0.289211,
     "end_time": "2023-12-28T17:41:23.965369",
     "exception": false,
     "start_time": "2023-12-28T17:41:23.676158",
     "status": "completed"
    },
    "tags": []
   },
   "outputs": [
    {
     "data": {
      "image/png": "[encoded data removed]",
      "text/plain": [
       "<Figure size 640x480 with 1 Axes>"
      ]
     },
     "metadata": {},
     "output_type": "display_data"
    }
   ],
   "source": [
    "sns.boxplot(x='SeniorCitizen',y='tenure',data=df,hue='gender')\n",
    "plt.show()"
   ]
  },
  {
   "cell_type": "code",
   "execution_count": 31,
   "id": "9e1c83a4",
   "metadata": {
    "execution": {
     "iopub.execute_input": "2023-12-28T17:41:24.008105Z",
     "iopub.status.busy": "2023-12-28T17:41:24.007770Z",
     "iopub.status.idle": "2023-12-28T17:41:24.384478Z",
     "shell.execute_reply": "2023-12-28T17:41:24.383860Z"
    },
    "papermill": {
     "duration": 0.400042,
     "end_time": "2023-12-28T17:41:24.386048",
     "exception": false,
     "start_time": "2023-12-28T17:41:23.986006",
     "status": "completed"
    },
    "tags": []
   },
   "outputs": [
    {
     "data": {
      "image/png": "[encoded data removed]",
      "text/plain": [
       "<Figure size 640x480 with 1 Axes>"
      ]
     },
     "metadata": {},
     "output_type": "display_data"
    }
   ],
   "source": [
    "sns.histplot(data=df,x='tenure',kde=True ,hue =\"Churn\",\n",
    "            palette=['lightpink','blue'])\n",
    "plt.show()"
   ]
  },
  {
   "cell_type": "code",
   "execution_count": 32,
   "id": "e41cc90c",
   "metadata": {
    "execution": {
     "iopub.execute_input": "2023-12-28T17:41:24.429019Z",
     "iopub.status.busy": "2023-12-28T17:41:24.428288Z",
     "iopub.status.idle": "2023-12-28T17:41:24.770186Z",
     "shell.execute_reply": "2023-12-28T17:41:24.769355Z"
    },
    "papermill": {
     "duration": 0.365495,
     "end_time": "2023-12-28T17:41:24.772383",
     "exception": false,
     "start_time": "2023-12-28T17:41:24.406888",
     "status": "completed"
    },
    "tags": []
   },
   "outputs": [
    {
     "data": {
      "image/png": "[encoded data removed]",
      "text/plain": [
       "<Figure size 640x480 with 1 Axes>"
      ]
     },
     "metadata": {},
     "output_type": "display_data"
    }
   ],
   "source": [
    "sns.histplot(data=df,x='MonthlyCharges',kde=True ,hue =\"Churn\")\n",
    "plt.show()"
   ]
  },
  {
   "cell_type": "code",
   "execution_count": 33,
   "id": "3f83cc01",
   "metadata": {
    "execution": {
     "iopub.execute_input": "2023-12-28T17:41:24.816577Z",
     "iopub.status.busy": "2023-12-28T17:41:24.815754Z",
     "iopub.status.idle": "2023-12-28T17:41:25.138958Z",
     "shell.execute_reply": "2023-12-28T17:41:25.138154Z"
    },
    "papermill": {
     "duration": 0.347218,
     "end_time": "2023-12-28T17:41:25.140860",
     "exception": false,
     "start_time": "2023-12-28T17:41:24.793642",
     "status": "completed"
    },
    "tags": []
   },
   "outputs": [
    {
     "data": {
      "image/png": "[encoded data removed]",
      "text/plain": [
       "<Figure size 640x480 with 1 Axes>"
      ]
     },
     "metadata": {},
     "output_type": "display_data"
    }
   ],
   "source": [
    "sns.histplot(data=df,x='TotalCharges',kde=True ,hue =\"Churn\",\n",
    "                palette=['green','blue'])\n",
    "plt.show()\n"
   ]
  },
  {
   "cell_type": "code",
   "execution_count": 34,
   "id": "c3fad072",
   "metadata": {
    "execution": {
     "iopub.execute_input": "2023-12-28T17:41:25.187035Z",
     "iopub.status.busy": "2023-12-28T17:41:25.186538Z",
     "iopub.status.idle": "2023-12-28T17:41:25.191939Z",
     "shell.execute_reply": "2023-12-28T17:41:25.191255Z"
    },
    "papermill": {
     "duration": 0.030231,
     "end_time": "2023-12-28T17:41:25.193527",
     "exception": false,
     "start_time": "2023-12-28T17:41:25.163296",
     "status": "completed"
    },
    "tags": []
   },
   "outputs": [
    {
     "data": {
      "text/plain": [
       "Index(['gender', 'SeniorCitizen', 'Partner', 'Dependents', 'tenure',\n",
       "       'PhoneService', 'MultipleLines', 'InternetService', 'OnlineSecurity',\n",
       "       'OnlineBackup', 'DeviceProtection', 'TechSupport', 'StreamingTV',\n",
       "       'StreamingMovies', 'Contract', 'PaperlessBilling', 'PaymentMethod',\n",
       "       'MonthlyCharges', 'TotalCharges', 'Churn'],\n",
       "      dtype='object')"
      ]
     },
     "execution_count": 34,
     "metadata": {},
     "output_type": "execute_result"
    }
   ],
   "source": [
    "df.columns"
   ]
  },
  {
   "cell_type": "code",
   "execution_count": 35,
   "id": "4d613dbe",
   "metadata": {
    "execution": {
     "iopub.execute_input": "2023-12-28T17:41:25.237520Z",
     "iopub.status.busy": "2023-12-28T17:41:25.237206Z",
     "iopub.status.idle": "2023-12-28T17:41:25.241767Z",
     "shell.execute_reply": "2023-12-28T17:41:25.240882Z"
    },
    "papermill": {
     "duration": 0.028568,
     "end_time": "2023-12-28T17:41:25.243485",
     "exception": false,
     "start_time": "2023-12-28T17:41:25.214917",
     "status": "completed"
    },
    "tags": []
   },
   "outputs": [],
   "source": [
    "feature=['gender', 'SeniorCitizen', 'Partner', 'Dependents',\n",
    "       'PhoneService', 'MultipleLines', 'InternetService', 'OnlineSecurity',\n",
    "       'OnlineBackup', 'DeviceProtection', 'TechSupport', 'StreamingTV',\n",
    "       'StreamingMovies', 'Contract', 'PaperlessBilling', 'PaymentMethod']"
   ]
  },
  {
   "cell_type": "code",
   "execution_count": 36,
   "id": "dcca98e7",
   "metadata": {
    "execution": {
     "iopub.execute_input": "2023-12-28T17:41:25.288662Z",
     "iopub.status.busy": "2023-12-28T17:41:25.288201Z",
     "iopub.status.idle": "2023-12-28T17:41:25.296131Z",
     "shell.execute_reply": "2023-12-28T17:41:25.295189Z"
    },
    "papermill": {
     "duration": 0.033,
     "end_time": "2023-12-28T17:41:25.298160",
     "exception": false,
     "start_time": "2023-12-28T17:41:25.265160",
     "status": "completed"
    },
    "tags": []
   },
   "outputs": [
    {
     "data": {
      "text/plain": [
       "[(0, 'gender'),\n",
       " (1, 'SeniorCitizen'),\n",
       " (2, 'Partner'),\n",
       " (3, 'Dependents'),\n",
       " (4, 'PhoneService'),\n",
       " (5, 'MultipleLines'),\n",
       " (6, 'InternetService'),\n",
       " (7, 'OnlineSecurity'),\n",
       " (8, 'OnlineBackup'),\n",
       " (9, 'DeviceProtection'),\n",
       " (10, 'TechSupport'),\n",
       " (11, 'StreamingTV'),\n",
       " (12, 'StreamingMovies'),\n",
       " (13, 'Contract'),\n",
       " (14, 'PaperlessBilling'),\n",
       " (15, 'PaymentMethod')]"
      ]
     },
     "execution_count": 36,
     "metadata": {},
     "output_type": "execute_result"
    }
   ],
   "source": [
    "list (enumerate(feature))"
   ]
  },
  {
   "cell_type": "code",
   "execution_count": 37,
   "id": "cf3be413",
   "metadata": {
    "execution": {
     "iopub.execute_input": "2023-12-28T17:41:25.344382Z",
     "iopub.status.busy": "2023-12-28T17:41:25.344043Z",
     "iopub.status.idle": "2023-12-28T17:41:27.923577Z",
     "shell.execute_reply": "2023-12-28T17:41:27.922735Z"
    },
    "papermill": {
     "duration": 2.605262,
     "end_time": "2023-12-28T17:41:27.926131",
     "exception": false,
     "start_time": "2023-12-28T17:41:25.320869",
     "status": "completed"
    },
    "tags": []
   },
   "outputs": [
    {
     "data": {
      "image/png": "[encoded data removed]",
      "text/plain": [
       "<Figure size 1500x3000 with 16 Axes>"
      ]
     },
     "metadata": {},
     "output_type": "display_data"
    }
   ],
   "source": [
    "plt.figure(figsize=(15,30))\n",
    "for i in enumerate(feature):\n",
    "    plt.subplot(6,3,i[0]+1)\n",
    "    sns.countplot(x=i[1],hue='Churn',data=df)\n",
    "    plt.xticks(rotation = 90)"
   ]
  },
  {
   "cell_type": "code",
   "execution_count": 38,
   "id": "71131ada",
   "metadata": {
    "execution": {
     "iopub.execute_input": "2023-12-28T17:41:27.975805Z",
     "iopub.status.busy": "2023-12-28T17:41:27.974991Z",
     "iopub.status.idle": "2023-12-28T17:41:27.993022Z",
     "shell.execute_reply": "2023-12-28T17:41:27.992373Z"
    },
    "papermill": {
     "duration": 0.044542,
     "end_time": "2023-12-28T17:41:27.994670",
     "exception": false,
     "start_time": "2023-12-28T17:41:27.950128",
     "status": "completed"
    },
    "tags": []
   },
   "outputs": [
    {
     "data": {
      "text/html": [
       "<div>\n",
       "<style scoped>\n",
       "    .dataframe tbody tr th:only-of-type {\n",
       "        vertical-align: middle;\n",
       "    }\n",
       "\n",
       "    .dataframe tbody tr th {\n",
       "        vertical-align: top;\n",
       "    }\n",
       "\n",
       "    .dataframe thead th {\n",
       "        text-align: right;\n",
       "    }\n",
       "</style>\n",
       "<table border=\"1\" class=\"dataframe\">\n",
       "  <thead>\n",
       "    <tr style=\"text-align: right;\">\n",
       "      <th></th>\n",
       "      <th>gender</th>\n",
       "      <th>SeniorCitizen</th>\n",
       "      <th>Partner</th>\n",
       "      <th>Dependents</th>\n",
       "      <th>tenure</th>\n",
       "      <th>PhoneService</th>\n",
       "      <th>MultipleLines</th>\n",
       "      <th>InternetService</th>\n",
       "      <th>OnlineSecurity</th>\n",
       "      <th>OnlineBackup</th>\n",
       "      <th>DeviceProtection</th>\n",
       "      <th>TechSupport</th>\n",
       "      <th>StreamingTV</th>\n",
       "      <th>StreamingMovies</th>\n",
       "      <th>Contract</th>\n",
       "      <th>PaperlessBilling</th>\n",
       "      <th>PaymentMethod</th>\n",
       "      <th>MonthlyCharges</th>\n",
       "      <th>TotalCharges</th>\n",
       "      <th>Churn</th>\n",
       "    </tr>\n",
       "  </thead>\n",
       "  <tbody>\n",
       "    <tr>\n",
       "      <th>0</th>\n",
       "      <td>Female</td>\n",
       "      <td>0</td>\n",
       "      <td>Yes</td>\n",
       "      <td>No</td>\n",
       "      <td>1</td>\n",
       "      <td>No</td>\n",
       "      <td>No phone service</td>\n",
       "      <td>DSL</td>\n",
       "      <td>No</td>\n",
       "      <td>Yes</td>\n",
       "      <td>No</td>\n",
       "      <td>No</td>\n",
       "      <td>No</td>\n",
       "      <td>No</td>\n",
       "      <td>Month-to-month</td>\n",
       "      <td>Yes</td>\n",
       "      <td>Electronic check</td>\n",
       "      <td>29.85</td>\n",
       "      <td>29.85</td>\n",
       "      <td>0</td>\n",
       "    </tr>\n",
       "    <tr>\n",
       "      <th>1</th>\n",
       "      <td>Male</td>\n",
       "      <td>0</td>\n",
       "      <td>No</td>\n",
       "      <td>No</td>\n",
       "      <td>34</td>\n",
       "      <td>Yes</td>\n",
       "      <td>No</td>\n",
       "      <td>DSL</td>\n",
       "      <td>Yes</td>\n",
       "      <td>No</td>\n",
       "      <td>Yes</td>\n",
       "      <td>No</td>\n",
       "      <td>No</td>\n",
       "      <td>No</td>\n",
       "      <td>One year</td>\n",
       "      <td>No</td>\n",
       "      <td>Mailed check</td>\n",
       "      <td>56.95</td>\n",
       "      <td>1889.50</td>\n",
       "      <td>0</td>\n",
       "    </tr>\n",
       "    <tr>\n",
       "      <th>2</th>\n",
       "      <td>Male</td>\n",
       "      <td>0</td>\n",
       "      <td>No</td>\n",
       "      <td>No</td>\n",
       "      <td>2</td>\n",
       "      <td>Yes</td>\n",
       "      <td>No</td>\n",
       "      <td>DSL</td>\n",
       "      <td>Yes</td>\n",
       "      <td>Yes</td>\n",
       "      <td>No</td>\n",
       "      <td>No</td>\n",
       "      <td>No</td>\n",
       "      <td>No</td>\n",
       "      <td>Month-to-month</td>\n",
       "      <td>Yes</td>\n",
       "      <td>Mailed check</td>\n",
       "      <td>53.85</td>\n",
       "      <td>108.15</td>\n",
       "      <td>1</td>\n",
       "    </tr>\n",
       "    <tr>\n",
       "      <th>3</th>\n",
       "      <td>Male</td>\n",
       "      <td>0</td>\n",
       "      <td>No</td>\n",
       "      <td>No</td>\n",
       "      <td>45</td>\n",
       "      <td>No</td>\n",
       "      <td>No phone service</td>\n",
       "      <td>DSL</td>\n",
       "      <td>Yes</td>\n",
       "      <td>No</td>\n",
       "      <td>Yes</td>\n",
       "      <td>Yes</td>\n",
       "      <td>No</td>\n",
       "      <td>No</td>\n",
       "      <td>One year</td>\n",
       "      <td>No</td>\n",
       "      <td>Bank transfer (automatic)</td>\n",
       "      <td>42.30</td>\n",
       "      <td>1840.75</td>\n",
       "      <td>0</td>\n",
       "    </tr>\n",
       "    <tr>\n",
       "      <th>4</th>\n",
       "      <td>Female</td>\n",
       "      <td>0</td>\n",
       "      <td>No</td>\n",
       "      <td>No</td>\n",
       "      <td>2</td>\n",
       "      <td>Yes</td>\n",
       "      <td>No</td>\n",
       "      <td>Fiber optic</td>\n",
       "      <td>No</td>\n",
       "      <td>No</td>\n",
       "      <td>No</td>\n",
       "      <td>No</td>\n",
       "      <td>No</td>\n",
       "      <td>No</td>\n",
       "      <td>Month-to-month</td>\n",
       "      <td>Yes</td>\n",
       "      <td>Electronic check</td>\n",
       "      <td>70.70</td>\n",
       "      <td>151.65</td>\n",
       "      <td>1</td>\n",
       "    </tr>\n",
       "  </tbody>\n",
       "</table>\n",
       "</div>"
      ],
      "text/plain": [
       "   gender SeniorCitizen Partner Dependents  tenure PhoneService  \\\n",
       "0  Female             0     Yes         No       1           No   \n",
       "1    Male             0      No         No      34          Yes   \n",
       "2    Male             0      No         No       2          Yes   \n",
       "3    Male             0      No         No      45           No   \n",
       "4  Female             0      No         No       2          Yes   \n",
       "\n",
       "      MultipleLines InternetService OnlineSecurity OnlineBackup  \\\n",
       "0  No phone service             DSL             No          Yes   \n",
       "1                No             DSL            Yes           No   \n",
       "2                No             DSL            Yes          Yes   \n",
       "3  No phone service             DSL            Yes           No   \n",
       "4                No     Fiber optic             No           No   \n",
       "\n",
       "  DeviceProtection TechSupport StreamingTV StreamingMovies        Contract  \\\n",
       "0               No          No          No              No  Month-to-month   \n",
       "1              Yes          No          No              No        One year   \n",
       "2               No          No          No              No  Month-to-month   \n",
       "3              Yes         Yes          No              No        One year   \n",
       "4               No          No          No              No  Month-to-month   \n",
       "\n",
       "  PaperlessBilling              PaymentMethod  MonthlyCharges  TotalCharges  \\\n",
       "0              Yes           Electronic check           29.85         29.85   \n",
       "1               No               Mailed check           56.95       1889.50   \n",
       "2              Yes               Mailed check           53.85        108.15   \n",
       "3               No  Bank transfer (automatic)           42.30       1840.75   \n",
       "4              Yes           Electronic check           70.70        151.65   \n",
       "\n",
       "  Churn  \n",
       "0     0  \n",
       "1     0  \n",
       "2     1  \n",
       "3     0  \n",
       "4     1  "
      ]
     },
     "execution_count": 38,
     "metadata": {},
     "output_type": "execute_result"
    }
   ],
   "source": [
    "df.head()"
   ]
  },
  {
   "cell_type": "markdown",
   "id": "c092e8f8",
   "metadata": {
    "papermill": {
     "duration": 0.02451,
     "end_time": "2023-12-28T17:41:28.043860",
     "exception": false,
     "start_time": "2023-12-28T17:41:28.019350",
     "status": "completed"
    },
    "tags": []
   },
   "source": [
    "# Dummmey variable encoder"
   ]
  },
  {
   "cell_type": "code",
   "execution_count": 39,
   "id": "b8c5e70a",
   "metadata": {
    "execution": {
     "iopub.execute_input": "2023-12-28T17:41:28.095068Z",
     "iopub.status.busy": "2023-12-28T17:41:28.094300Z",
     "iopub.status.idle": "2023-12-28T17:41:28.119499Z",
     "shell.execute_reply": "2023-12-28T17:41:28.118611Z"
    },
    "papermill": {
     "duration": 0.053668,
     "end_time": "2023-12-28T17:41:28.121764",
     "exception": false,
     "start_time": "2023-12-28T17:41:28.068096",
     "status": "completed"
    },
    "tags": []
   },
   "outputs": [],
   "source": [
    "df=pd.get_dummies(data=df,columns=['gender','Partner','Dependents','PhoneService','MultipleLines','InternetService','OnlineSecurity','OnlineBackup','DeviceProtection','TechSupport','StreamingTV','StreamingMovies','Contract','PaperlessBilling','PaymentMethod','Churn'],drop_first=True,dtype=int)"
   ]
  },
  {
   "cell_type": "code",
   "execution_count": 40,
   "id": "4117a31e",
   "metadata": {
    "execution": {
     "iopub.execute_input": "2023-12-28T17:41:28.173349Z",
     "iopub.status.busy": "2023-12-28T17:41:28.172912Z",
     "iopub.status.idle": "2023-12-28T17:41:28.191801Z",
     "shell.execute_reply": "2023-12-28T17:41:28.190668Z"
    },
    "papermill": {
     "duration": 0.046447,
     "end_time": "2023-12-28T17:41:28.193787",
     "exception": false,
     "start_time": "2023-12-28T17:41:28.147340",
     "status": "completed"
    },
    "tags": []
   },
   "outputs": [
    {
     "data": {
      "text/html": [
       "<div>\n",
       "<style scoped>\n",
       "    .dataframe tbody tr th:only-of-type {\n",
       "        vertical-align: middle;\n",
       "    }\n",
       "\n",
       "    .dataframe tbody tr th {\n",
       "        vertical-align: top;\n",
       "    }\n",
       "\n",
       "    .dataframe thead th {\n",
       "        text-align: right;\n",
       "    }\n",
       "</style>\n",
       "<table border=\"1\" class=\"dataframe\">\n",
       "  <thead>\n",
       "    <tr style=\"text-align: right;\">\n",
       "      <th></th>\n",
       "      <th>SeniorCitizen</th>\n",
       "      <th>tenure</th>\n",
       "      <th>MonthlyCharges</th>\n",
       "      <th>TotalCharges</th>\n",
       "      <th>gender_Male</th>\n",
       "      <th>Partner_Yes</th>\n",
       "      <th>Dependents_Yes</th>\n",
       "      <th>PhoneService_Yes</th>\n",
       "      <th>MultipleLines_No phone service</th>\n",
       "      <th>MultipleLines_Yes</th>\n",
       "      <th>...</th>\n",
       "      <th>StreamingTV_Yes</th>\n",
       "      <th>StreamingMovies_No internet service</th>\n",
       "      <th>StreamingMovies_Yes</th>\n",
       "      <th>Contract_One year</th>\n",
       "      <th>Contract_Two year</th>\n",
       "      <th>PaperlessBilling_Yes</th>\n",
       "      <th>PaymentMethod_Credit card (automatic)</th>\n",
       "      <th>PaymentMethod_Electronic check</th>\n",
       "      <th>PaymentMethod_Mailed check</th>\n",
       "      <th>Churn_1</th>\n",
       "    </tr>\n",
       "  </thead>\n",
       "  <tbody>\n",
       "    <tr>\n",
       "      <th>0</th>\n",
       "      <td>0</td>\n",
       "      <td>1</td>\n",
       "      <td>29.85</td>\n",
       "      <td>29.85</td>\n",
       "      <td>0</td>\n",
       "      <td>1</td>\n",
       "      <td>0</td>\n",
       "      <td>0</td>\n",
       "      <td>1</td>\n",
       "      <td>0</td>\n",
       "      <td>...</td>\n",
       "      <td>0</td>\n",
       "      <td>0</td>\n",
       "      <td>0</td>\n",
       "      <td>0</td>\n",
       "      <td>0</td>\n",
       "      <td>1</td>\n",
       "      <td>0</td>\n",
       "      <td>1</td>\n",
       "      <td>0</td>\n",
       "      <td>0</td>\n",
       "    </tr>\n",
       "    <tr>\n",
       "      <th>1</th>\n",
       "      <td>0</td>\n",
       "      <td>34</td>\n",
       "      <td>56.95</td>\n",
       "      <td>1889.50</td>\n",
       "      <td>1</td>\n",
       "      <td>0</td>\n",
       "      <td>0</td>\n",
       "      <td>1</td>\n",
       "      <td>0</td>\n",
       "      <td>0</td>\n",
       "      <td>...</td>\n",
       "      <td>0</td>\n",
       "      <td>0</td>\n",
       "      <td>0</td>\n",
       "      <td>1</td>\n",
       "      <td>0</td>\n",
       "      <td>0</td>\n",
       "      <td>0</td>\n",
       "      <td>0</td>\n",
       "      <td>1</td>\n",
       "      <td>0</td>\n",
       "    </tr>\n",
       "    <tr>\n",
       "      <th>2</th>\n",
       "      <td>0</td>\n",
       "      <td>2</td>\n",
       "      <td>53.85</td>\n",
       "      <td>108.15</td>\n",
       "      <td>1</td>\n",
       "      <td>0</td>\n",
       "      <td>0</td>\n",
       "      <td>1</td>\n",
       "      <td>0</td>\n",
       "      <td>0</td>\n",
       "      <td>...</td>\n",
       "      <td>0</td>\n",
       "      <td>0</td>\n",
       "      <td>0</td>\n",
       "      <td>0</td>\n",
       "      <td>0</td>\n",
       "      <td>1</td>\n",
       "      <td>0</td>\n",
       "      <td>0</td>\n",
       "      <td>1</td>\n",
       "      <td>1</td>\n",
       "    </tr>\n",
       "    <tr>\n",
       "      <th>3</th>\n",
       "      <td>0</td>\n",
       "      <td>45</td>\n",
       "      <td>42.30</td>\n",
       "      <td>1840.75</td>\n",
       "      <td>1</td>\n",
       "      <td>0</td>\n",
       "      <td>0</td>\n",
       "      <td>0</td>\n",
       "      <td>1</td>\n",
       "      <td>0</td>\n",
       "      <td>...</td>\n",
       "      <td>0</td>\n",
       "      <td>0</td>\n",
       "      <td>0</td>\n",
       "      <td>1</td>\n",
       "      <td>0</td>\n",
       "      <td>0</td>\n",
       "      <td>0</td>\n",
       "      <td>0</td>\n",
       "      <td>0</td>\n",
       "      <td>0</td>\n",
       "    </tr>\n",
       "    <tr>\n",
       "      <th>4</th>\n",
       "      <td>0</td>\n",
       "      <td>2</td>\n",
       "      <td>70.70</td>\n",
       "      <td>151.65</td>\n",
       "      <td>0</td>\n",
       "      <td>0</td>\n",
       "      <td>0</td>\n",
       "      <td>1</td>\n",
       "      <td>0</td>\n",
       "      <td>0</td>\n",
       "      <td>...</td>\n",
       "      <td>0</td>\n",
       "      <td>0</td>\n",
       "      <td>0</td>\n",
       "      <td>0</td>\n",
       "      <td>0</td>\n",
       "      <td>1</td>\n",
       "      <td>0</td>\n",
       "      <td>1</td>\n",
       "      <td>0</td>\n",
       "      <td>1</td>\n",
       "    </tr>\n",
       "  </tbody>\n",
       "</table>\n",
       "<p>5 rows × 31 columns</p>\n",
       "</div>"
      ],
      "text/plain": [
       "  SeniorCitizen  tenure  MonthlyCharges  TotalCharges  gender_Male  \\\n",
       "0             0       1           29.85         29.85            0   \n",
       "1             0      34           56.95       1889.50            1   \n",
       "2             0       2           53.85        108.15            1   \n",
       "3             0      45           42.30       1840.75            1   \n",
       "4             0       2           70.70        151.65            0   \n",
       "\n",
       "   Partner_Yes  Dependents_Yes  PhoneService_Yes  \\\n",
       "0            1               0                 0   \n",
       "1            0               0                 1   \n",
       "2            0               0                 1   \n",
       "3            0               0                 0   \n",
       "4            0               0                 1   \n",
       "\n",
       "   MultipleLines_No phone service  MultipleLines_Yes  ...  StreamingTV_Yes  \\\n",
       "0                               1                  0  ...                0   \n",
       "1                               0                  0  ...                0   \n",
       "2                               0                  0  ...                0   \n",
       "3                               1                  0  ...                0   \n",
       "4                               0                  0  ...                0   \n",
       "\n",
       "   StreamingMovies_No internet service  StreamingMovies_Yes  \\\n",
       "0                                    0                    0   \n",
       "1                                    0                    0   \n",
       "2                                    0                    0   \n",
       "3                                    0                    0   \n",
       "4                                    0                    0   \n",
       "\n",
       "   Contract_One year  Contract_Two year  PaperlessBilling_Yes  \\\n",
       "0                  0                  0                     1   \n",
       "1                  1                  0                     0   \n",
       "2                  0                  0                     1   \n",
       "3                  1                  0                     0   \n",
       "4                  0                  0                     1   \n",
       "\n",
       "   PaymentMethod_Credit card (automatic)  PaymentMethod_Electronic check  \\\n",
       "0                                      0                               1   \n",
       "1                                      0                               0   \n",
       "2                                      0                               0   \n",
       "3                                      0                               0   \n",
       "4                                      0                               1   \n",
       "\n",
       "   PaymentMethod_Mailed check  Churn_1  \n",
       "0                           0        0  \n",
       "1                           1        0  \n",
       "2                           1        1  \n",
       "3                           0        0  \n",
       "4                           0        1  \n",
       "\n",
       "[5 rows x 31 columns]"
      ]
     },
     "execution_count": 40,
     "metadata": {},
     "output_type": "execute_result"
    }
   ],
   "source": [
    "df.head()"
   ]
  },
  {
   "cell_type": "code",
   "execution_count": 41,
   "id": "a5a2a92b",
   "metadata": {
    "execution": {
     "iopub.execute_input": "2023-12-28T17:41:28.244302Z",
     "iopub.status.busy": "2023-12-28T17:41:28.243985Z",
     "iopub.status.idle": "2023-12-28T17:41:28.261140Z",
     "shell.execute_reply": "2023-12-28T17:41:28.260450Z"
    },
    "papermill": {
     "duration": 0.044671,
     "end_time": "2023-12-28T17:41:28.262832",
     "exception": false,
     "start_time": "2023-12-28T17:41:28.218161",
     "status": "completed"
    },
    "tags": []
   },
   "outputs": [
    {
     "data": {
      "text/html": [
       "<div>\n",
       "<style scoped>\n",
       "    .dataframe tbody tr th:only-of-type {\n",
       "        vertical-align: middle;\n",
       "    }\n",
       "\n",
       "    .dataframe tbody tr th {\n",
       "        vertical-align: top;\n",
       "    }\n",
       "\n",
       "    .dataframe thead th {\n",
       "        text-align: right;\n",
       "    }\n",
       "</style>\n",
       "<table border=\"1\" class=\"dataframe\">\n",
       "  <thead>\n",
       "    <tr style=\"text-align: right;\">\n",
       "      <th></th>\n",
       "      <th>tenure</th>\n",
       "      <th>MonthlyCharges</th>\n",
       "      <th>TotalCharges</th>\n",
       "    </tr>\n",
       "  </thead>\n",
       "  <tbody>\n",
       "    <tr>\n",
       "      <th>0</th>\n",
       "      <td>0.013889</td>\n",
       "      <td>0.115423</td>\n",
       "      <td>0.001275</td>\n",
       "    </tr>\n",
       "    <tr>\n",
       "      <th>1</th>\n",
       "      <td>0.472222</td>\n",
       "      <td>0.385075</td>\n",
       "      <td>0.215867</td>\n",
       "    </tr>\n",
       "    <tr>\n",
       "      <th>2</th>\n",
       "      <td>0.027778</td>\n",
       "      <td>0.354229</td>\n",
       "      <td>0.010310</td>\n",
       "    </tr>\n",
       "    <tr>\n",
       "      <th>3</th>\n",
       "      <td>0.625000</td>\n",
       "      <td>0.239303</td>\n",
       "      <td>0.210241</td>\n",
       "    </tr>\n",
       "    <tr>\n",
       "      <th>4</th>\n",
       "      <td>0.027778</td>\n",
       "      <td>0.521891</td>\n",
       "      <td>0.015330</td>\n",
       "    </tr>\n",
       "    <tr>\n",
       "      <th>...</th>\n",
       "      <td>...</td>\n",
       "      <td>...</td>\n",
       "      <td>...</td>\n",
       "    </tr>\n",
       "    <tr>\n",
       "      <th>7038</th>\n",
       "      <td>0.333333</td>\n",
       "      <td>0.662189</td>\n",
       "      <td>0.227521</td>\n",
       "    </tr>\n",
       "    <tr>\n",
       "      <th>7039</th>\n",
       "      <td>1.000000</td>\n",
       "      <td>0.845274</td>\n",
       "      <td>0.847461</td>\n",
       "    </tr>\n",
       "    <tr>\n",
       "      <th>7040</th>\n",
       "      <td>0.152778</td>\n",
       "      <td>0.112935</td>\n",
       "      <td>0.037809</td>\n",
       "    </tr>\n",
       "    <tr>\n",
       "      <th>7041</th>\n",
       "      <td>0.055556</td>\n",
       "      <td>0.558706</td>\n",
       "      <td>0.033210</td>\n",
       "    </tr>\n",
       "    <tr>\n",
       "      <th>7042</th>\n",
       "      <td>0.916667</td>\n",
       "      <td>0.869652</td>\n",
       "      <td>0.787641</td>\n",
       "    </tr>\n",
       "  </tbody>\n",
       "</table>\n",
       "<p>7043 rows × 3 columns</p>\n",
       "</div>"
      ],
      "text/plain": [
       "        tenure  MonthlyCharges  TotalCharges\n",
       "0     0.013889        0.115423      0.001275\n",
       "1     0.472222        0.385075      0.215867\n",
       "2     0.027778        0.354229      0.010310\n",
       "3     0.625000        0.239303      0.210241\n",
       "4     0.027778        0.521891      0.015330\n",
       "...        ...             ...           ...\n",
       "7038  0.333333        0.662189      0.227521\n",
       "7039  1.000000        0.845274      0.847461\n",
       "7040  0.152778        0.112935      0.037809\n",
       "7041  0.055556        0.558706      0.033210\n",
       "7042  0.916667        0.869652      0.787641\n",
       "\n",
       "[7043 rows x 3 columns]"
      ]
     },
     "execution_count": 41,
     "metadata": {},
     "output_type": "execute_result"
    }
   ],
   "source": [
    "from sklearn.preprocessing import MinMaxScaler\n",
    "\n",
    "# Create a StandardScaler object\n",
    "scaler = MinMaxScaler()\n",
    "\n",
    "# Fit and transform the selected columns\n",
    "df[num_cols] = scaler.fit_transform(df[num_cols])\n",
    "df[num_cols]"
   ]
  },
  {
   "cell_type": "code",
   "execution_count": 42,
   "id": "23ade38b",
   "metadata": {
    "execution": {
     "iopub.execute_input": "2023-12-28T17:41:28.314638Z",
     "iopub.status.busy": "2023-12-28T17:41:28.313766Z",
     "iopub.status.idle": "2023-12-28T17:41:28.323187Z",
     "shell.execute_reply": "2023-12-28T17:41:28.322229Z"
    },
    "papermill": {
     "duration": 0.037207,
     "end_time": "2023-12-28T17:41:28.325016",
     "exception": false,
     "start_time": "2023-12-28T17:41:28.287809",
     "status": "completed"
    },
    "tags": []
   },
   "outputs": [
    {
     "data": {
      "text/plain": [
       "tenure            0.449599\n",
       "MonthlyCharges    0.462803\n",
       "TotalCharges      0.261309\n",
       "dtype: float64"
      ]
     },
     "execution_count": 42,
     "metadata": {},
     "output_type": "execute_result"
    }
   ],
   "source": [
    "# Mean of num_cols.\n",
    "df[num_cols].mean()"
   ]
  },
  {
   "cell_type": "code",
   "execution_count": 43,
   "id": "8d1e4f56",
   "metadata": {
    "execution": {
     "iopub.execute_input": "2023-12-28T17:41:28.376403Z",
     "iopub.status.busy": "2023-12-28T17:41:28.375164Z",
     "iopub.status.idle": "2023-12-28T17:41:28.385354Z",
     "shell.execute_reply": "2023-12-28T17:41:28.384393Z"
    },
    "papermill": {
     "duration": 0.03802,
     "end_time": "2023-12-28T17:41:28.387513",
     "exception": false,
     "start_time": "2023-12-28T17:41:28.349493",
     "status": "completed"
    },
    "tags": []
   },
   "outputs": [
    {
     "data": {
      "text/plain": [
       "tenure            0.341104\n",
       "MonthlyCharges    0.299403\n",
       "TotalCharges      0.261366\n",
       "dtype: float64"
      ]
     },
     "execution_count": 43,
     "metadata": {},
     "output_type": "execute_result"
    }
   ],
   "source": [
    "# std of num_cols\n",
    "df[num_cols].std()"
   ]
  },
  {
   "cell_type": "markdown",
   "id": "1f6fe3cf",
   "metadata": {
    "papermill": {
     "duration": 0.023777,
     "end_time": "2023-12-28T17:41:28.436424",
     "exception": false,
     "start_time": "2023-12-28T17:41:28.412647",
     "status": "completed"
    },
    "tags": []
   },
   "source": [
    "# Data splite"
   ]
  },
  {
   "cell_type": "markdown",
   "id": "c6fb2098",
   "metadata": {
    "papermill": {
     "duration": 0.023283,
     "end_time": "2023-12-28T17:41:28.483288",
     "exception": false,
     "start_time": "2023-12-28T17:41:28.460005",
     "status": "completed"
    },
    "tags": []
   },
   "source": [
    "Dividing the dataset and sepreted the targeted column from it"
   ]
  },
  {
   "cell_type": "code",
   "execution_count": 44,
   "id": "1a10f3f7",
   "metadata": {
    "execution": {
     "iopub.execute_input": "2023-12-28T17:41:28.535122Z",
     "iopub.status.busy": "2023-12-28T17:41:28.534789Z",
     "iopub.status.idle": "2023-12-28T17:41:28.540435Z",
     "shell.execute_reply": "2023-12-28T17:41:28.539337Z"
    },
    "papermill": {
     "duration": 0.03358,
     "end_time": "2023-12-28T17:41:28.542253",
     "exception": false,
     "start_time": "2023-12-28T17:41:28.508673",
     "status": "completed"
    },
    "tags": []
   },
   "outputs": [],
   "source": [
    "X = df.loc[:,df.columns != 'Churn_1']\n",
    "\n",
    "Y = df['Churn_1']"
   ]
  },
  {
   "cell_type": "markdown",
   "id": "a9746713",
   "metadata": {
    "papermill": {
     "duration": 0.023956,
     "end_time": "2023-12-28T17:41:28.590466",
     "exception": false,
     "start_time": "2023-12-28T17:41:28.566510",
     "status": "completed"
    },
    "tags": []
   },
   "source": [
    "Dividing the dataset into training and testing dataset . Since this is the only data avaible to us , we keepaside a holdout /test set to evaluated our model ata the end in order to estimated our chosen model performance on unseen data/ new data."
   ]
  },
  {
   "cell_type": "code",
   "execution_count": 45,
   "id": "de5065ff",
   "metadata": {
    "execution": {
     "iopub.execute_input": "2023-12-28T17:41:28.642911Z",
     "iopub.status.busy": "2023-12-28T17:41:28.642402Z",
     "iopub.status.idle": "2023-12-28T17:41:28.646781Z",
     "shell.execute_reply": "2023-12-28T17:41:28.645379Z"
    },
    "papermill": {
     "duration": 0.033232,
     "end_time": "2023-12-28T17:41:28.649239",
     "exception": false,
     "start_time": "2023-12-28T17:41:28.616007",
     "status": "completed"
    },
    "tags": []
   },
   "outputs": [],
   "source": [
    "from sklearn.preprocessing import StandardScaler\n",
    "scaler=StandardScaler()\n"
   ]
  },
  {
   "cell_type": "code",
   "execution_count": 46,
   "id": "739a4713",
   "metadata": {
    "execution": {
     "iopub.execute_input": "2023-12-28T17:41:28.699653Z",
     "iopub.status.busy": "2023-12-28T17:41:28.699301Z",
     "iopub.status.idle": "2023-12-28T17:41:28.714526Z",
     "shell.execute_reply": "2023-12-28T17:41:28.713563Z"
    },
    "papermill": {
     "duration": 0.041453,
     "end_time": "2023-12-28T17:41:28.716168",
     "exception": false,
     "start_time": "2023-12-28T17:41:28.674715",
     "status": "completed"
    },
    "tags": []
   },
   "outputs": [],
   "source": [
    "scaler.fit(df.drop(['Churn_1'],axis=1))\n",
    "scaled_features=scaler.transform(df.drop('Churn_1',axis=1))"
   ]
  },
  {
   "cell_type": "code",
   "execution_count": 47,
   "id": "7f9440a7",
   "metadata": {
    "execution": {
     "iopub.execute_input": "2023-12-28T17:41:28.765837Z",
     "iopub.status.busy": "2023-12-28T17:41:28.765269Z",
     "iopub.status.idle": "2023-12-28T17:41:28.784303Z",
     "shell.execute_reply": "2023-12-28T17:41:28.783360Z"
    },
    "papermill": {
     "duration": 0.045897,
     "end_time": "2023-12-28T17:41:28.786357",
     "exception": false,
     "start_time": "2023-12-28T17:41:28.740460",
     "status": "completed"
    },
    "tags": []
   },
   "outputs": [],
   "source": [
    "from sklearn.model_selection import train_test_split\n",
    "X=scaled_features\n",
    "Y=df['Churn_1']\n",
    "X_train,X_test,Y_train,Y_test=train_test_split(X,Y,test_size=0.3,random_state=44)"
   ]
  },
  {
   "cell_type": "markdown",
   "id": "b9e0ede9",
   "metadata": {
    "papermill": {
     "duration": 0.023705,
     "end_time": "2023-12-28T17:41:28.834409",
     "exception": false,
     "start_time": "2023-12-28T17:41:28.810704",
     "status": "completed"
    },
    "tags": []
   },
   "source": [
    "# Machine learning in Logistick Regression Random Forest and Desicion Tree¶"
   ]
  },
  {
   "cell_type": "code",
   "execution_count": 48,
   "id": "87d02c0f",
   "metadata": {
    "execution": {
     "iopub.execute_input": "2023-12-28T17:41:28.883035Z",
     "iopub.status.busy": "2023-12-28T17:41:28.882713Z",
     "iopub.status.idle": "2023-12-28T17:41:28.996091Z",
     "shell.execute_reply": "2023-12-28T17:41:28.995243Z"
    },
    "papermill": {
     "duration": 0.139931,
     "end_time": "2023-12-28T17:41:28.998183",
     "exception": false,
     "start_time": "2023-12-28T17:41:28.858252",
     "status": "completed"
    },
    "tags": []
   },
   "outputs": [
    {
     "data": {
      "text/html": [
       "<style>#sk-container-id-1 {color: black;background-color: white;}#sk-container-id-1 pre{padding: 0;}#sk-container-id-1 div.sk-toggleable {background-color: white;}#sk-container-id-1 label.sk-toggleable__label {cursor: pointer;display: block;width: 100%;margin-bottom: 0;padding: 0.3em;box-sizing: border-box;text-align: center;}#sk-container-id-1 label.sk-toggleable__label-arrow:before {content: \"▸\";float: left;margin-right: 0.25em;color: #696969;}#sk-container-id-1 label.sk-toggleable__label-arrow:hover:before {color: black;}#sk-container-id-1 div.sk-estimator:hover label.sk-toggleable__label-arrow:before {color: black;}#sk-container-id-1 div.sk-toggleable__content {max-height: 0;max-width: 0;overflow: hidden;text-align: left;background-color: #f0f8ff;}#sk-container-id-1 div.sk-toggleable__content pre {margin: 0.2em;color: black;border-radius: 0.25em;background-color: #f0f8ff;}#sk-container-id-1 input.sk-toggleable__control:checked~div.sk-toggleable__content {max-height: 200px;max-width: 100%;overflow: auto;}#sk-container-id-1 input.sk-toggleable__control:checked~label.sk-toggleable__label-arrow:before {content: \"▾\";}#sk-container-id-1 div.sk-estimator input.sk-toggleable__control:checked~label.sk-toggleable__label {background-color: #d4ebff;}#sk-container-id-1 div.sk-label input.sk-toggleable__control:checked~label.sk-toggleable__label {background-color: #d4ebff;}#sk-container-id-1 input.sk-hidden--visually {border: 0;clip: rect(1px 1px 1px 1px);clip: rect(1px, 1px, 1px, 1px);height: 1px;margin: -1px;overflow: hidden;padding: 0;position: absolute;width: 1px;}#sk-container-id-1 div.sk-estimator {font-family: monospace;background-color: #f0f8ff;border: 1px dotted black;border-radius: 0.25em;box-sizing: border-box;margin-bottom: 0.5em;}#sk-container-id-1 div.sk-estimator:hover {background-color: #d4ebff;}#sk-container-id-1 div.sk-parallel-item::after {content: \"\";width: 100%;border-bottom: 1px solid gray;flex-grow: 1;}#sk-container-id-1 div.sk-label:hover label.sk-toggleable__label {background-color: #d4ebff;}#sk-container-id-1 div.sk-serial::before {content: \"\";position: absolute;border-left: 1px solid gray;box-sizing: border-box;top: 0;bottom: 0;left: 50%;z-index: 0;}#sk-container-id-1 div.sk-serial {display: flex;flex-direction: column;align-items: center;background-color: white;padding-right: 0.2em;padding-left: 0.2em;position: relative;}#sk-container-id-1 div.sk-item {position: relative;z-index: 1;}#sk-container-id-1 div.sk-parallel {display: flex;align-items: stretch;justify-content: center;background-color: white;position: relative;}#sk-container-id-1 div.sk-item::before, #sk-container-id-1 div.sk-parallel-item::before {content: \"\";position: absolute;border-left: 1px solid gray;box-sizing: border-box;top: 0;bottom: 0;left: 50%;z-index: -1;}#sk-container-id-1 div.sk-parallel-item {display: flex;flex-direction: column;z-index: 1;position: relative;background-color: white;}#sk-container-id-1 div.sk-parallel-item:first-child::after {align-self: flex-end;width: 50%;}#sk-container-id-1 div.sk-parallel-item:last-child::after {align-self: flex-start;width: 50%;}#sk-container-id-1 div.sk-parallel-item:only-child::after {width: 0;}#sk-container-id-1 div.sk-dashed-wrapped {border: 1px dashed gray;margin: 0 0.4em 0.5em 0.4em;box-sizing: border-box;padding-bottom: 0.4em;background-color: white;}#sk-container-id-1 div.sk-label label {font-family: monospace;font-weight: bold;display: inline-block;line-height: 1.2em;}#sk-container-id-1 div.sk-label-container {text-align: center;}#sk-container-id-1 div.sk-container {/* jupyter's `normalize.less` sets `[hidden] { display: none; }` but bootstrap.min.css set `[hidden] { display: none !important; }` so we also need the `!important` here to be able to override the default hidden behavior on the sphinx rendered scikit-learn.org. See: https://github.com/scikit-learn/scikit-learn/issues/21755 */display: inline-block !important;position: relative;}#sk-container-id-1 div.sk-text-repr-fallback {display: none;}</style><div id=\"sk-container-id-1\" class=\"sk-top-container\"><div class=\"sk-text-repr-fallback\"><pre>LogisticRegression()</pre><b>In a Jupyter environment, please rerun this cell to show the HTML representation or trust the notebook. <br />On GitHub, the HTML representation is unable to render, please try loading this page with nbviewer.org.</b></div><div class=\"sk-container\" hidden><div class=\"sk-item\"><div class=\"sk-estimator sk-toggleable\"><input class=\"sk-toggleable__control sk-hidden--visually\" id=\"sk-estimator-id-1\" type=\"checkbox\" checked><label for=\"sk-estimator-id-1\" class=\"sk-toggleable__label sk-toggleable__label-arrow\">LogisticRegression</label><div class=\"sk-toggleable__content\"><pre>LogisticRegression()</pre></div></div></div></div></div>"
      ],
      "text/plain": [
       "LogisticRegression()"
      ]
     },
     "execution_count": 48,
     "metadata": {},
     "output_type": "execute_result"
    }
   ],
   "source": [
    "from sklearn.linear_model import LogisticRegression\n",
    "from sklearn.metrics import classification_report,accuracy_score,confusion_matrix\n",
    "\n",
    "logmodel=LogisticRegression()\n",
    "logmodel.fit(X_train,Y_train)"
   ]
  },
  {
   "cell_type": "code",
   "execution_count": 49,
   "id": "ae6967dc",
   "metadata": {
    "execution": {
     "iopub.execute_input": "2023-12-28T17:41:29.067648Z",
     "iopub.status.busy": "2023-12-28T17:41:29.067291Z",
     "iopub.status.idle": "2023-12-28T17:41:29.071665Z",
     "shell.execute_reply": "2023-12-28T17:41:29.070989Z"
    },
    "papermill": {
     "duration": 0.039824,
     "end_time": "2023-12-28T17:41:29.073424",
     "exception": false,
     "start_time": "2023-12-28T17:41:29.033600",
     "status": "completed"
    },
    "tags": []
   },
   "outputs": [],
   "source": [
    "predLR=logmodel.predict(X_test)"
   ]
  },
  {
   "cell_type": "code",
   "execution_count": 50,
   "id": "0dd82d44",
   "metadata": {
    "execution": {
     "iopub.execute_input": "2023-12-28T17:41:29.142994Z",
     "iopub.status.busy": "2023-12-28T17:41:29.142659Z",
     "iopub.status.idle": "2023-12-28T17:41:29.157240Z",
     "shell.execute_reply": "2023-12-28T17:41:29.156423Z"
    },
    "papermill": {
     "duration": 0.05136,
     "end_time": "2023-12-28T17:41:29.159033",
     "exception": false,
     "start_time": "2023-12-28T17:41:29.107673",
     "status": "completed"
    },
    "tags": []
   },
   "outputs": [
    {
     "name": "stdout",
     "output_type": "stream",
     "text": [
      "              precision    recall  f1-score   support\n",
      "\n",
      "           0       0.84      0.90      0.87      1557\n",
      "           1       0.65      0.53      0.58       556\n",
      "\n",
      "    accuracy                           0.80      2113\n",
      "   macro avg       0.74      0.71      0.73      2113\n",
      "weighted avg       0.79      0.80      0.79      2113\n",
      "\n"
     ]
    }
   ],
   "source": [
    "print(classification_report(Y_test,predLR))"
   ]
  },
  {
   "cell_type": "code",
   "execution_count": 51,
   "id": "35927be3",
   "metadata": {
    "execution": {
     "iopub.execute_input": "2023-12-28T17:41:29.218414Z",
     "iopub.status.busy": "2023-12-28T17:41:29.218084Z",
     "iopub.status.idle": "2023-12-28T17:41:29.684900Z",
     "shell.execute_reply": "2023-12-28T17:41:29.684237Z"
    },
    "papermill": {
     "duration": 0.493688,
     "end_time": "2023-12-28T17:41:29.686528",
     "exception": false,
     "start_time": "2023-12-28T17:41:29.192840",
     "status": "completed"
    },
    "tags": []
   },
   "outputs": [
    {
     "data": {
      "image/png": "[encoded data removed]",
      "text/plain": [
       "<Figure size 1200x400 with 4 Axes>"
      ]
     },
     "metadata": {},
     "output_type": "display_data"
    }
   ],
   "source": [
    "# calculated the classification report\n",
    "report=classification_report(Y_test,predLR,target_names=['Churn_0','Churn_1'])\n",
    "\n",
    "#splite the report into line\n",
    "lines=report.split('\\n')\n",
    "\n",
    "# splite each line in parts \n",
    "parts=[line.split() for line in lines[2:-5]]\n",
    "\n",
    "#extract the matrics into parts\n",
    "class_metrics = dict()\n",
    "for part in parts:\n",
    "    class_metrics [part[0]] = {'precision':float(part[1]), 'recall':float(part[2]), 'f1-score':float(part[3]), 'support':int(part[4])}\n",
    "        \n",
    "#creat a bar chart for each metric\n",
    "fig,ax=plt.subplots(1,4,figsize=(12,4))\n",
    "metrics  =  ['precision',  'recall',  'f1-score',  'support']\n",
    "for i,metric in enumerate(metrics):\n",
    "    ax[i].bar(class_metrics.keys(),[class_metrics[key][metric]for key in class_metrics.keys()])\n",
    "    ax[i].set_title(metrics)\n",
    "            \n",
    "#display the plot\n",
    "plt.show()"
   ]
  },
  {
   "cell_type": "code",
   "execution_count": 52,
   "id": "7b59b2e5",
   "metadata": {
    "execution": {
     "iopub.execute_input": "2023-12-28T17:41:29.739114Z",
     "iopub.status.busy": "2023-12-28T17:41:29.738368Z",
     "iopub.status.idle": "2023-12-28T17:41:29.744149Z",
     "shell.execute_reply": "2023-12-28T17:41:29.743342Z"
    },
    "papermill": {
     "duration": 0.034495,
     "end_time": "2023-12-28T17:41:29.746412",
     "exception": false,
     "start_time": "2023-12-28T17:41:29.711917",
     "status": "completed"
    },
    "tags": []
   },
   "outputs": [],
   "source": [
    "confusion_matrix_LR = confusion_matrix(Y_test,predLR)"
   ]
  },
  {
   "cell_type": "code",
   "execution_count": 53,
   "id": "5c5dc4a1",
   "metadata": {
    "execution": {
     "iopub.execute_input": "2023-12-28T17:41:29.796986Z",
     "iopub.status.busy": "2023-12-28T17:41:29.796637Z",
     "iopub.status.idle": "2023-12-28T17:41:29.924179Z",
     "shell.execute_reply": "2023-12-28T17:41:29.923250Z"
    },
    "papermill": {
     "duration": 0.154734,
     "end_time": "2023-12-28T17:41:29.926143",
     "exception": false,
     "start_time": "2023-12-28T17:41:29.771409",
     "status": "completed"
    },
    "tags": []
   },
   "outputs": [
    {
     "data": {
      "image/png": "[encoded data removed]",
      "text/plain": [
       "<Figure size 480x480 with 1 Axes>"
      ]
     },
     "metadata": {},
     "output_type": "display_data"
    }
   ],
   "source": [
    "#creat a heatmap of the matrix using matshow()\n",
    "plt.matshow(confusion_matrix(Y_test, predLR))\n",
    "    \n",
    "#add label for the x and y axes\n",
    "plt.xlabel('Predicted Class')\n",
    "plt.ylabel('Actual Class')\n",
    "\n",
    "for i in range(2):\n",
    "    for j in range(2):\n",
    "        plt.text(j,i,confusion_matrix_LR[i,j],ha='center',va='center')\n",
    "        \n",
    "#add custom Label for x and y ticket\n",
    "plt.xticks([0,1],[\"Not Churned\",\"Churned\"])\n",
    "plt.yticks([0,1],[\"Not Churned\",\"Churned\"])\n",
    "plt.show()"
   ]
  },
  {
   "cell_type": "code",
   "execution_count": 54,
   "id": "5929d92e",
   "metadata": {
    "execution": {
     "iopub.execute_input": "2023-12-28T17:41:29.996879Z",
     "iopub.status.busy": "2023-12-28T17:41:29.995789Z",
     "iopub.status.idle": "2023-12-28T17:41:30.003683Z",
     "shell.execute_reply": "2023-12-28T17:41:30.003030Z"
    },
    "papermill": {
     "duration": 0.046154,
     "end_time": "2023-12-28T17:41:30.005447",
     "exception": false,
     "start_time": "2023-12-28T17:41:29.959293",
     "status": "completed"
    },
    "tags": []
   },
   "outputs": [
    {
     "data": {
      "text/plain": [
       "0.8062880324543611"
      ]
     },
     "execution_count": 54,
     "metadata": {},
     "output_type": "execute_result"
    }
   ],
   "source": [
    "logmodel.score(X_train,Y_train)"
   ]
  },
  {
   "cell_type": "code",
   "execution_count": 55,
   "id": "65f7ac63",
   "metadata": {
    "execution": {
     "iopub.execute_input": "2023-12-28T17:41:30.075927Z",
     "iopub.status.busy": "2023-12-28T17:41:30.074871Z",
     "iopub.status.idle": "2023-12-28T17:41:30.081393Z",
     "shell.execute_reply": "2023-12-28T17:41:30.080776Z"
    },
    "papermill": {
     "duration": 0.043262,
     "end_time": "2023-12-28T17:41:30.083054",
     "exception": false,
     "start_time": "2023-12-28T17:41:30.039792",
     "status": "completed"
    },
    "tags": []
   },
   "outputs": [
    {
     "data": {
      "text/plain": [
       "0.8002839564600095"
      ]
     },
     "execution_count": 55,
     "metadata": {},
     "output_type": "execute_result"
    }
   ],
   "source": [
    "accuracy_score(Y_test, predLR)"
   ]
  },
  {
   "cell_type": "markdown",
   "id": "57a4e64e",
   "metadata": {
    "papermill": {
     "duration": 0.025104,
     "end_time": "2023-12-28T17:41:30.143074",
     "exception": false,
     "start_time": "2023-12-28T17:41:30.117970",
     "status": "completed"
    },
    "tags": []
   },
   "source": [
    "# SUPPORT VECORT MACHINE "
   ]
  },
  {
   "cell_type": "code",
   "execution_count": 56,
   "id": "74d017a9",
   "metadata": {
    "execution": {
     "iopub.execute_input": "2023-12-28T17:41:30.195638Z",
     "iopub.status.busy": "2023-12-28T17:41:30.195260Z",
     "iopub.status.idle": "2023-12-28T17:41:31.081234Z",
     "shell.execute_reply": "2023-12-28T17:41:31.080559Z"
    },
    "papermill": {
     "duration": 0.914891,
     "end_time": "2023-12-28T17:41:31.083466",
     "exception": false,
     "start_time": "2023-12-28T17:41:30.168575",
     "status": "completed"
    },
    "tags": []
   },
   "outputs": [],
   "source": [
    "from sklearn.svm import SVC\n",
    "svc = SVC()\n",
    "svc.fit(X_train,Y_train)\n",
    "y_pred_svc = svc.predict(X_test)"
   ]
  },
  {
   "cell_type": "code",
   "execution_count": 57,
   "id": "e3423298",
   "metadata": {
    "execution": {
     "iopub.execute_input": "2023-12-28T17:41:31.135174Z",
     "iopub.status.busy": "2023-12-28T17:41:31.134380Z",
     "iopub.status.idle": "2023-12-28T17:41:31.147107Z",
     "shell.execute_reply": "2023-12-28T17:41:31.146108Z"
    },
    "papermill": {
     "duration": 0.040263,
     "end_time": "2023-12-28T17:41:31.149168",
     "exception": false,
     "start_time": "2023-12-28T17:41:31.108905",
     "status": "completed"
    },
    "tags": []
   },
   "outputs": [
    {
     "name": "stdout",
     "output_type": "stream",
     "text": [
      "              precision    recall  f1-score   support\n",
      "\n",
      "           0       0.83      0.92      0.87      1557\n",
      "           1       0.67      0.48      0.56       556\n",
      "\n",
      "    accuracy                           0.80      2113\n",
      "   macro avg       0.75      0.70      0.71      2113\n",
      "weighted avg       0.79      0.80      0.79      2113\n",
      "\n"
     ]
    }
   ],
   "source": [
    "print(classification_report(Y_test,y_pred_svc))"
   ]
  },
  {
   "cell_type": "code",
   "execution_count": 58,
   "id": "67c4d910",
   "metadata": {
    "execution": {
     "iopub.execute_input": "2023-12-28T17:41:31.204187Z",
     "iopub.status.busy": "2023-12-28T17:41:31.203660Z",
     "iopub.status.idle": "2023-12-28T17:41:31.208921Z",
     "shell.execute_reply": "2023-12-28T17:41:31.208125Z"
    },
    "papermill": {
     "duration": 0.035118,
     "end_time": "2023-12-28T17:41:31.210536",
     "exception": false,
     "start_time": "2023-12-28T17:41:31.175418",
     "status": "completed"
    },
    "tags": []
   },
   "outputs": [],
   "source": [
    "confusion_matrix_svc = confusion_matrix(Y_test,y_pred_svc)"
   ]
  },
  {
   "cell_type": "code",
   "execution_count": 59,
   "id": "ba2fda89",
   "metadata": {
    "execution": {
     "iopub.execute_input": "2023-12-28T17:41:31.262919Z",
     "iopub.status.busy": "2023-12-28T17:41:31.262583Z",
     "iopub.status.idle": "2023-12-28T17:41:31.391054Z",
     "shell.execute_reply": "2023-12-28T17:41:31.390382Z"
    },
    "papermill": {
     "duration": 0.157089,
     "end_time": "2023-12-28T17:41:31.392906",
     "exception": false,
     "start_time": "2023-12-28T17:41:31.235817",
     "status": "completed"
    },
    "tags": []
   },
   "outputs": [
    {
     "data": {
      "image/png": "[encoded data removed]",
      "text/plain": [
       "<Figure size 480x480 with 1 Axes>"
      ]
     },
     "metadata": {},
     "output_type": "display_data"
    }
   ],
   "source": [
    " #create a heatmap of the matrix using matshow()\n",
    "plt.matshow(confusion_matrix_svc)\n",
    "\n",
    "#add Label for the x and y axes\n",
    "plt.xlabel('Predicted Class')\n",
    "plt.ylabel('Actual Class')\n",
    "\n",
    "for i in range(2):\n",
    "    for j in range (2):\n",
    "        plt.text(j,i,confusion_matrix_svc[i,j],ha='center',va='center')\n",
    "        \n",
    "#add custom label for x and y ticks\n",
    "plt.xticks([0,1],[\"Not Churned\",\"Churned\"])\n",
    "plt.yticks([0,1],[\"Not Churned\",\"Churned\"])\n",
    "plt.show()"
   ]
  },
  {
   "cell_type": "code",
   "execution_count": 60,
   "id": "a964168f",
   "metadata": {
    "execution": {
     "iopub.execute_input": "2023-12-28T17:41:31.464487Z",
     "iopub.status.busy": "2023-12-28T17:41:31.463770Z",
     "iopub.status.idle": "2023-12-28T17:41:32.125861Z",
     "shell.execute_reply": "2023-12-28T17:41:32.124966Z"
    },
    "papermill": {
     "duration": 0.700118,
     "end_time": "2023-12-28T17:41:32.127706",
     "exception": false,
     "start_time": "2023-12-28T17:41:31.427588",
     "status": "completed"
    },
    "tags": []
   },
   "outputs": [
    {
     "data": {
      "text/plain": [
       "0.8170385395537525"
      ]
     },
     "execution_count": 60,
     "metadata": {},
     "output_type": "execute_result"
    }
   ],
   "source": [
    "svc.score(X_train,Y_train)"
   ]
  },
  {
   "cell_type": "code",
   "execution_count": 61,
   "id": "e1855e01",
   "metadata": {
    "execution": {
     "iopub.execute_input": "2023-12-28T17:41:32.183355Z",
     "iopub.status.busy": "2023-12-28T17:41:32.182998Z",
     "iopub.status.idle": "2023-12-28T17:41:32.189982Z",
     "shell.execute_reply": "2023-12-28T17:41:32.189236Z"
    },
    "papermill": {
     "duration": 0.037109,
     "end_time": "2023-12-28T17:41:32.191572",
     "exception": false,
     "start_time": "2023-12-28T17:41:32.154463",
     "status": "completed"
    },
    "tags": []
   },
   "outputs": [
    {
     "data": {
      "text/plain": [
       "0.8002839564600095"
      ]
     },
     "execution_count": 61,
     "metadata": {},
     "output_type": "execute_result"
    }
   ],
   "source": [
    "accuracy_score(Y_test,predLR)"
   ]
  },
  {
   "cell_type": "markdown",
   "id": "9cb38b4b",
   "metadata": {
    "papermill": {
     "duration": 0.025656,
     "end_time": "2023-12-28T17:41:32.243715",
     "exception": false,
     "start_time": "2023-12-28T17:41:32.218059",
     "status": "completed"
    },
    "tags": []
   },
   "source": [
    "# Decision Tree Classifier"
   ]
  },
  {
   "cell_type": "code",
   "execution_count": 62,
   "id": "575f5f31",
   "metadata": {
    "execution": {
     "iopub.execute_input": "2023-12-28T17:41:32.298638Z",
     "iopub.status.busy": "2023-12-28T17:41:32.297700Z",
     "iopub.status.idle": "2023-12-28T17:41:32.410058Z",
     "shell.execute_reply": "2023-12-28T17:41:32.409146Z"
    },
    "papermill": {
     "duration": 0.142178,
     "end_time": "2023-12-28T17:41:32.412395",
     "exception": false,
     "start_time": "2023-12-28T17:41:32.270217",
     "status": "completed"
    },
    "tags": []
   },
   "outputs": [],
   "source": [
    "from sklearn.tree import DecisionTreeClassifier\n",
    "dtc = DecisionTreeClassifier()\n",
    "dtc.fit(X_train,Y_train)\n",
    "y_pred_dtc=dtc.predict(X_test)"
   ]
  },
  {
   "cell_type": "code",
   "execution_count": 63,
   "id": "9597924d",
   "metadata": {
    "execution": {
     "iopub.execute_input": "2023-12-28T17:41:32.466355Z",
     "iopub.status.busy": "2023-12-28T17:41:32.465980Z",
     "iopub.status.idle": "2023-12-28T17:41:32.478292Z",
     "shell.execute_reply": "2023-12-28T17:41:32.477342Z"
    },
    "papermill": {
     "duration": 0.041474,
     "end_time": "2023-12-28T17:41:32.479928",
     "exception": false,
     "start_time": "2023-12-28T17:41:32.438454",
     "status": "completed"
    },
    "tags": []
   },
   "outputs": [
    {
     "name": "stdout",
     "output_type": "stream",
     "text": [
      "              precision    recall  f1-score   support\n",
      "\n",
      "           0       0.81      0.80      0.80      1557\n",
      "           1       0.46      0.47      0.46       556\n",
      "\n",
      "    accuracy                           0.71      2113\n",
      "   macro avg       0.63      0.64      0.63      2113\n",
      "weighted avg       0.72      0.71      0.71      2113\n",
      "\n"
     ]
    }
   ],
   "source": [
    "print(classification_report(Y_test,y_pred_dtc))"
   ]
  },
  {
   "cell_type": "code",
   "execution_count": 64,
   "id": "dbc1eb06",
   "metadata": {
    "execution": {
     "iopub.execute_input": "2023-12-28T17:41:32.535430Z",
     "iopub.status.busy": "2023-12-28T17:41:32.534855Z",
     "iopub.status.idle": "2023-12-28T17:41:32.539403Z",
     "shell.execute_reply": "2023-12-28T17:41:32.538814Z"
    },
    "papermill": {
     "duration": 0.035301,
     "end_time": "2023-12-28T17:41:32.541523",
     "exception": false,
     "start_time": "2023-12-28T17:41:32.506222",
     "status": "completed"
    },
    "tags": []
   },
   "outputs": [],
   "source": [
    "confusion_matrix_dtc = confusion_matrix(Y_test,y_pred_dtc)"
   ]
  },
  {
   "cell_type": "code",
   "execution_count": 65,
   "id": "7695a5db",
   "metadata": {
    "execution": {
     "iopub.execute_input": "2023-12-28T17:41:32.596380Z",
     "iopub.status.busy": "2023-12-28T17:41:32.595815Z",
     "iopub.status.idle": "2023-12-28T17:41:32.627668Z",
     "shell.execute_reply": "2023-12-28T17:41:32.626516Z"
    },
    "papermill": {
     "duration": 0.061282,
     "end_time": "2023-12-28T17:41:32.629703",
     "exception": false,
     "start_time": "2023-12-28T17:41:32.568421",
     "status": "completed"
    },
    "tags": []
   },
   "outputs": [],
   "source": [
    "#creat a heatmap of the matrix using matshow()\n",
    "from sklearn.tree import DecisionTreeClassifier\n",
    "\n",
    "dtc = DecisionTreeClassifier()\n",
    "\n",
    "dtc.fit(X_train,Y_train)\n",
    "\n",
    "y_pred_dtc = dtc.predict(X_test)"
   ]
  },
  {
   "cell_type": "code",
   "execution_count": 66,
   "id": "dff7062f",
   "metadata": {
    "execution": {
     "iopub.execute_input": "2023-12-28T17:41:32.682572Z",
     "iopub.status.busy": "2023-12-28T17:41:32.682040Z",
     "iopub.status.idle": "2023-12-28T17:41:32.693496Z",
     "shell.execute_reply": "2023-12-28T17:41:32.692711Z"
    },
    "papermill": {
     "duration": 0.039532,
     "end_time": "2023-12-28T17:41:32.695092",
     "exception": false,
     "start_time": "2023-12-28T17:41:32.655560",
     "status": "completed"
    },
    "tags": []
   },
   "outputs": [
    {
     "name": "stdout",
     "output_type": "stream",
     "text": [
      "              precision    recall  f1-score   support\n",
      "\n",
      "           0       0.81      0.80      0.81      1557\n",
      "           1       0.47      0.48      0.47       556\n",
      "\n",
      "    accuracy                           0.72      2113\n",
      "   macro avg       0.64      0.64      0.64      2113\n",
      "weighted avg       0.72      0.72      0.72      2113\n",
      "\n"
     ]
    }
   ],
   "source": [
    "print(classification_report(Y_test,y_pred_dtc))"
   ]
  },
  {
   "cell_type": "code",
   "execution_count": 67,
   "id": "d56406ac",
   "metadata": {
    "execution": {
     "iopub.execute_input": "2023-12-28T17:41:32.749157Z",
     "iopub.status.busy": "2023-12-28T17:41:32.748655Z",
     "iopub.status.idle": "2023-12-28T17:41:32.753095Z",
     "shell.execute_reply": "2023-12-28T17:41:32.752543Z"
    },
    "papermill": {
     "duration": 0.034283,
     "end_time": "2023-12-28T17:41:32.754638",
     "exception": false,
     "start_time": "2023-12-28T17:41:32.720355",
     "status": "completed"
    },
    "tags": []
   },
   "outputs": [],
   "source": [
    "confusion_matrix_dtc = confusion_matrix(Y_test,y_pred_dtc)"
   ]
  },
  {
   "cell_type": "code",
   "execution_count": 68,
   "id": "485e04fa",
   "metadata": {
    "execution": {
     "iopub.execute_input": "2023-12-28T17:41:32.808608Z",
     "iopub.status.busy": "2023-12-28T17:41:32.808104Z",
     "iopub.status.idle": "2023-12-28T17:41:32.932012Z",
     "shell.execute_reply": "2023-12-28T17:41:32.931274Z"
    },
    "papermill": {
     "duration": 0.152077,
     "end_time": "2023-12-28T17:41:32.933750",
     "exception": false,
     "start_time": "2023-12-28T17:41:32.781673",
     "status": "completed"
    },
    "tags": []
   },
   "outputs": [
    {
     "data": {
      "image/png": "[encoded data removed]",
      "text/plain": [
       "<Figure size 480x480 with 1 Axes>"
      ]
     },
     "metadata": {},
     "output_type": "display_data"
    }
   ],
   "source": [
    "#creat a heatmap of the matrix using matshow(\n",
    "plt.matshow(confusion_matrix_dtc)\n",
    "\n",
    "#add label for the x and y axes\n",
    "\n",
    "plt.xlabel('Predicted class')\n",
    "plt.ylabel('Actual Class')\n",
    "\n",
    "for i in range (2):\n",
    "    for j in range(2):\n",
    "        plt.text(j,i,confusion_matrix_dtc[i,j],ha='center',va='center')\n",
    "        \n",
    "#add custom label for x and y ticks\n",
    "\n",
    "plt.xticks([0,1],[\"Not Churned\",\"churned\"])\n",
    "plt.yticks([0,1],[\"Not Churned\",\"churned\"])\n",
    "plt.show()\n"
   ]
  },
  {
   "cell_type": "code",
   "execution_count": 69,
   "id": "fd27cd3e",
   "metadata": {
    "execution": {
     "iopub.execute_input": "2023-12-28T17:41:33.008625Z",
     "iopub.status.busy": "2023-12-28T17:41:33.007406Z",
     "iopub.status.idle": "2023-12-28T17:41:33.014892Z",
     "shell.execute_reply": "2023-12-28T17:41:33.014305Z"
    },
    "papermill": {
     "duration": 0.047582,
     "end_time": "2023-12-28T17:41:33.016518",
     "exception": false,
     "start_time": "2023-12-28T17:41:32.968936",
     "status": "completed"
    },
    "tags": []
   },
   "outputs": [
    {
     "data": {
      "text/plain": [
       "0.9987829614604462"
      ]
     },
     "execution_count": 69,
     "metadata": {},
     "output_type": "execute_result"
    }
   ],
   "source": [
    "dtc.score(X_train,Y_train)"
   ]
  },
  {
   "cell_type": "code",
   "execution_count": 70,
   "id": "ed310ce3",
   "metadata": {
    "execution": {
     "iopub.execute_input": "2023-12-28T17:41:33.070993Z",
     "iopub.status.busy": "2023-12-28T17:41:33.070418Z",
     "iopub.status.idle": "2023-12-28T17:41:33.076521Z",
     "shell.execute_reply": "2023-12-28T17:41:33.075364Z"
    },
    "papermill": {
     "duration": 0.035231,
     "end_time": "2023-12-28T17:41:33.078383",
     "exception": false,
     "start_time": "2023-12-28T17:41:33.043152",
     "status": "completed"
    },
    "tags": []
   },
   "outputs": [
    {
     "data": {
      "text/plain": [
       "0.7188831045906294"
      ]
     },
     "execution_count": 70,
     "metadata": {},
     "output_type": "execute_result"
    }
   ],
   "source": [
    "accuracy_score(Y_test,y_pred_dtc)"
   ]
  },
  {
   "cell_type": "markdown",
   "id": "fb913363",
   "metadata": {
    "papermill": {
     "duration": 0.025697,
     "end_time": "2023-12-28T17:41:33.130693",
     "exception": false,
     "start_time": "2023-12-28T17:41:33.104996",
     "status": "completed"
    },
    "tags": []
   },
   "source": [
    "# roc & auc"
   ]
  },
  {
   "cell_type": "code",
   "execution_count": 71,
   "id": "00605144",
   "metadata": {
    "execution": {
     "iopub.execute_input": "2023-12-28T17:41:33.185482Z",
     "iopub.status.busy": "2023-12-28T17:41:33.184897Z",
     "iopub.status.idle": "2023-12-28T17:41:33.742786Z",
     "shell.execute_reply": "2023-12-28T17:41:33.741964Z"
    },
    "papermill": {
     "duration": 0.586997,
     "end_time": "2023-12-28T17:41:33.744394",
     "exception": false,
     "start_time": "2023-12-28T17:41:33.157397",
     "status": "completed"
    },
    "tags": []
   },
   "outputs": [
    {
     "data": {
      "image/png": "[encoded data removed]",
      "text/plain": [
       "<Figure size 640x480 with 1 Axes>"
      ]
     },
     "metadata": {},
     "output_type": "display_data"
    },
    {
     "data": {
      "image/png": "[encoded data removed]",
      "text/plain": [
       "<Figure size 640x480 with 1 Axes>"
      ]
     },
     "metadata": {},
     "output_type": "display_data"
    },
    {
     "data": {
      "image/png": "[encoded data removed]",
      "text/plain": [
       "<Figure size 640x480 with 1 Axes>"
      ]
     },
     "metadata": {},
     "output_type": "display_data"
    }
   ],
   "source": [
    "# auc roc \n",
    "# calculated the the threshold to linear regrestion\n",
    "from sklearn import metrics\n",
    "\n",
    "frp,trp,threshold = metrics.roc_curve(Y_test,predLR)\n",
    "roc_auc = metrics.auc(frp,trp)\n",
    "\n",
    "plt.title('ROC.LR')\n",
    "plt.plot(frp,trp,'b',label = 'AUC %0.2f ' % roc_auc)\n",
    "plt.legend(loc = 'lower right')\n",
    "plt.plot([0,1],[0,1],'r--')\n",
    "plt.xlim([0,1])\n",
    "plt.ylim([0,1])\n",
    "plt.ylabel(['True Positive Rate'])\n",
    "plt.xlabel(['False positive Rate'])\n",
    "plt.show()\n",
    "\n",
    "\n",
    "# calculate the threshhold to support vector machine\n",
    "\n",
    "frp,trp,threshold = metrics.roc_curve(Y_test,y_pred_svc)\n",
    "roc_auc = metrics.auc(frp,trp)\n",
    "\n",
    "plt.title('ROC.SVC')\n",
    "plt.plot(frp,trp,'b',label = 'AUC %0.2f ' % roc_auc)\n",
    "plt.legend(loc = 'lower right')\n",
    "plt.plot([0,1],[0,1],'r--')\n",
    "plt.xlim([0,1])\n",
    "plt.ylim([0,1])\n",
    "plt.ylabel(['True Positive Rate'])\n",
    "plt.xlabel(['False positive Rate'])\n",
    "plt.show()\n",
    "\n",
    "# calculated the threshhold to DEcion tree\n",
    "\n",
    "frp,trp,threshold = metrics.roc_curve(Y_test,y_pred_dtc)\n",
    "roc_auc = metrics.auc(frp,trp)\n",
    "\n",
    "plt.title('ROC.DTC')\n",
    "plt.plot(frp,trp,'b',label = 'AUC %0.2f ' % roc_auc)\n",
    "plt.legend(loc = 'lower right')\n",
    "plt.plot([0,1],[0,1],'r--')\n",
    "plt.xlim([0,1])\n",
    "plt.ylim([0,1])\n",
    "plt.ylabel(['True Positive Rate'])\n",
    "plt.xlabel(['False positive Rate'])\n",
    "plt.show()\n",
    "\n"
   ]
  },
  {
   "cell_type": "markdown",
   "id": "805e0095",
   "metadata": {
    "papermill": {
     "duration": 0.027285,
     "end_time": "2023-12-28T17:41:33.799407",
     "exception": false,
     "start_time": "2023-12-28T17:41:33.772122",
     "status": "completed"
    },
    "tags": []
   },
   "source": [
    "# Solving Data Imbalance"
   ]
  },
  {
   "cell_type": "code",
   "execution_count": 72,
   "id": "12a6d316",
   "metadata": {
    "execution": {
     "iopub.execute_input": "2023-12-28T17:41:33.857651Z",
     "iopub.status.busy": "2023-12-28T17:41:33.856880Z",
     "iopub.status.idle": "2023-12-28T17:41:34.075685Z",
     "shell.execute_reply": "2023-12-28T17:41:34.075045Z"
    },
    "papermill": {
     "duration": 0.249558,
     "end_time": "2023-12-28T17:41:34.077514",
     "exception": false,
     "start_time": "2023-12-28T17:41:33.827956",
     "status": "completed"
    },
    "tags": []
   },
   "outputs": [
    {
     "name": "stdout",
     "output_type": "stream",
     "text": [
      "BEFORE Counter({0: 3617, 1: 1313})\n",
      "AFTER Counter({0: 3617, 1: 3617})\n"
     ]
    }
   ],
   "source": [
    "from imblearn.over_sampling import SMOTE\n",
    "from collections import Counter\n",
    "\n",
    "counter = Counter(Y_train)\n",
    "print('BEFORE', counter)\n",
    "smt = SMOTE()\n",
    "x_train_sm,y_train_sm = smt.fit_resample(X_train,Y_train)\n",
    "counter = Counter(y_train_sm)\n",
    "print('AFTER',counter)"
   ]
  }
 ],
 "metadata": {
  "kaggle": {
   "accelerator": "none",
   "dataSources": [
    {
     "datasetId": 13996,
     "sourceId": 18858,
     "sourceType": "datasetVersion"
    }
   ],
   "dockerImageVersionId": 30615,
   "isGpuEnabled": false,
   "isInternetEnabled": true,
   "language": "python",
   "sourceType": "notebook"
  },
  "kernelspec": {
   "display_name": "Python 3",
   "language": "python",
   "name": "python3"
  },
  "language_info": {
   "codemirror_mode": {
    "name": "ipython",
    "version": 3
   },
   "file_extension": ".py",
   "mimetype": "text/x-python",
   "name": "python",
   "nbconvert_exporter": "python",
   "pygments_lexer": "ipython3",
   "version": "3.10.12"
  },
  "papermill": {
   "default_parameters": {},
   "duration": 19.607584,
   "end_time": "2023-12-28T17:41:34.825814",
   "environment_variables": {},
   "exception": null,
   "input_path": "__notebook__.ipynb",
   "output_path": "__notebook__.ipynb",
   "parameters": {},
   "start_time": "2023-12-28T17:41:15.218230",
   "version": "2.4.0"
  }
 },
 "nbformat": 4,
 "nbformat_minor": 5
}
